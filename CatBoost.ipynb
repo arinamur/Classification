{
  "cells": [
    {
      "cell_type": "markdown",
      "metadata": {
        "id": "view-in-github",
        "colab_type": "text"
      },
      "source": [
        "<a href=\"https://colab.research.google.com/github/arinamur/Classification/blob/main/CatBoost.ipynb\" target=\"_parent\"><img src=\"https://colab.research.google.com/assets/colab-badge.svg\" alt=\"Open In Colab\"/></a>"
      ]
    },
    {
      "cell_type": "code",
      "execution_count": 1,
      "metadata": {
        "id": "OTVAagA7F-XM"
      },
      "outputs": [],
      "source": [
        "import pandas as pd\n",
        "import numpy as np"
      ]
    },
    {
      "cell_type": "code",
      "execution_count": 2,
      "metadata": {
        "colab": {
          "base_uri": "https://localhost:8080/"
        },
        "id": "-FQqSnDmGChc",
        "outputId": "60792f59-8b57-416f-dd60-2a56517dc6f1"
      },
      "outputs": [
        {
          "output_type": "stream",
          "name": "stdout",
          "text": [
            "Mounted at /content/drive\n"
          ]
        }
      ],
      "source": [
        "from google.colab import drive\n",
        "drive.mount('/content/drive')"
      ]
    },
    {
      "cell_type": "code",
      "execution_count": 3,
      "metadata": {
        "id": "bSJw7-JQGz_a"
      },
      "outputs": [],
      "source": [
        "df_res = pd.read_excel('drive/MyDrive/new_case_dataset.xlsx')"
      ]
    },
    {
      "cell_type": "code",
      "execution_count": 4,
      "metadata": {
        "id": "Uz4yiTRVuo5X"
      },
      "outputs": [],
      "source": [
        "spheres = ['Жилищно-коммунальное хозяйство', 'Здравоохранение', 'Благоустройство населённых пунктов (площади, парки, скверы, улицы, дворовые территории, кладбища)', 'Автомобильные дороги', 'Социальное обеспечение населения', 'Общественный транспорт (ОТ)', 'Образование', 'Неправомерная деятельность органов власти', 'Правопорядок', 'Экология', 'Трудовые отношения', 'Строительство, градостроительная деятельность']"
      ]
    },
    {
      "cell_type": "code",
      "execution_count": 5,
      "metadata": {
        "colab": {
          "base_uri": "https://localhost:8080/"
        },
        "id": "YqL7bGh_G1Ps",
        "outputId": "2bb23915-0fcf-40d9-dc11-b41730ab915c"
      },
      "outputs": [
        {
          "output_type": "stream",
          "name": "stdout",
          "text": [
            "[nltk_data] Downloading package punkt to /root/nltk_data...\n",
            "[nltk_data]   Unzipping tokenizers/punkt.zip.\n",
            "[nltk_data] Downloading package stopwords to /root/nltk_data...\n",
            "[nltk_data]   Unzipping corpora/stopwords.zip.\n"
          ]
        },
        {
          "output_type": "execute_result",
          "data": {
            "text/plain": [
              "True"
            ]
          },
          "metadata": {},
          "execution_count": 5
        }
      ],
      "source": [
        "import nltk\n",
        "nltk.download('punkt')\n",
        "nltk.download('stopwords')"
      ]
    },
    {
      "cell_type": "code",
      "execution_count": 6,
      "metadata": {
        "colab": {
          "base_uri": "https://localhost:8080/"
        },
        "id": "FWhaV31_GOZR",
        "outputId": "cfe493c4-8fbf-46cc-f398-27d37ce39e74"
      },
      "outputs": [
        {
          "output_type": "stream",
          "name": "stderr",
          "text": [
            "Installing mystem to /root/.local/bin/mystem from http://download.cdn.yandex.net/mystem/mystem-3.1-linux-64bit.tar.gz\n"
          ]
        }
      ],
      "source": [
        "import string\n",
        "def remove_punctuation(text):\n",
        "    return \"\".join([ch if ch not in string.punctuation else ' ' for ch in text])\n",
        "\n",
        "def remove_numbers(text):\n",
        "    return ''.join([i if not i.isdigit() else ' ' for i in text])\n",
        "\n",
        "import re\n",
        "def remove_multiple_spaces(text):\n",
        "\treturn re.sub(r'\\s+', ' ', text, flags=re.I)\n",
        "\n",
        "from nltk.stem import *\n",
        "from nltk.corpus import stopwords\n",
        "from pymystem3 import Mystem\n",
        "from string import punctuation\n",
        "mystem = Mystem() \n",
        "\n",
        "russian_stopwords = stopwords.words(\"russian\")\n",
        "russian_stopwords.extend(['…', '«', '»', '...', 'здравствуйте', 'который', 'это', 'пожалуйста', 'спасибо', 'этот', 'наш', 'никто', 'свой'])"
      ]
    },
    {
      "cell_type": "code",
      "execution_count": 7,
      "metadata": {
        "colab": {
          "base_uri": "https://localhost:8080/"
        },
        "id": "M6LcBxF8GWLC",
        "outputId": "0951f32a-7dee-4ff4-d091-33085c1af235"
      },
      "outputs": [
        {
          "output_type": "stream",
          "name": "stdout",
          "text": [
            "Collecting pymorphy2\n",
            "  Downloading pymorphy2-0.9.1-py3-none-any.whl (55 kB)\n",
            "\u001b[K     |████████████████████████████████| 55 kB 2.4 MB/s \n",
            "\u001b[?25hCollecting pymorphy2-dicts-ru<3.0,>=2.4\n",
            "  Downloading pymorphy2_dicts_ru-2.4.417127.4579844-py2.py3-none-any.whl (8.2 MB)\n",
            "\u001b[K     |████████████████████████████████| 8.2 MB 17.1 MB/s \n",
            "\u001b[?25hRequirement already satisfied: docopt>=0.6 in /usr/local/lib/python3.7/dist-packages (from pymorphy2) (0.6.2)\n",
            "Collecting dawg-python>=0.7.1\n",
            "  Downloading DAWG_Python-0.7.2-py2.py3-none-any.whl (11 kB)\n",
            "Installing collected packages: pymorphy2-dicts-ru, dawg-python, pymorphy2\n",
            "Successfully installed dawg-python-0.7.2 pymorphy2-0.9.1 pymorphy2-dicts-ru-2.4.417127.4579844\n",
            "Collecting catboost\n",
            "  Downloading catboost-1.0.4-cp37-none-manylinux1_x86_64.whl (76.1 MB)\n",
            "\u001b[K     |████████████████████████████████| 76.1 MB 1.1 MB/s \n",
            "\u001b[?25hRequirement already satisfied: pandas>=0.24.0 in /usr/local/lib/python3.7/dist-packages (from catboost) (1.3.5)\n",
            "Requirement already satisfied: plotly in /usr/local/lib/python3.7/dist-packages (from catboost) (5.5.0)\n",
            "Requirement already satisfied: numpy>=1.16.0 in /usr/local/lib/python3.7/dist-packages (from catboost) (1.21.5)\n",
            "Requirement already satisfied: six in /usr/local/lib/python3.7/dist-packages (from catboost) (1.15.0)\n",
            "Requirement already satisfied: graphviz in /usr/local/lib/python3.7/dist-packages (from catboost) (0.10.1)\n",
            "Requirement already satisfied: scipy in /usr/local/lib/python3.7/dist-packages (from catboost) (1.4.1)\n",
            "Requirement already satisfied: matplotlib in /usr/local/lib/python3.7/dist-packages (from catboost) (3.2.2)\n",
            "Requirement already satisfied: python-dateutil>=2.7.3 in /usr/local/lib/python3.7/dist-packages (from pandas>=0.24.0->catboost) (2.8.2)\n",
            "Requirement already satisfied: pytz>=2017.3 in /usr/local/lib/python3.7/dist-packages (from pandas>=0.24.0->catboost) (2018.9)\n",
            "Requirement already satisfied: cycler>=0.10 in /usr/local/lib/python3.7/dist-packages (from matplotlib->catboost) (0.11.0)\n",
            "Requirement already satisfied: kiwisolver>=1.0.1 in /usr/local/lib/python3.7/dist-packages (from matplotlib->catboost) (1.4.0)\n",
            "Requirement already satisfied: pyparsing!=2.0.4,!=2.1.2,!=2.1.6,>=2.0.1 in /usr/local/lib/python3.7/dist-packages (from matplotlib->catboost) (3.0.7)\n",
            "Requirement already satisfied: typing-extensions in /usr/local/lib/python3.7/dist-packages (from kiwisolver>=1.0.1->matplotlib->catboost) (3.10.0.2)\n",
            "Requirement already satisfied: tenacity>=6.2.0 in /usr/local/lib/python3.7/dist-packages (from plotly->catboost) (8.0.1)\n",
            "Installing collected packages: catboost\n",
            "Successfully installed catboost-1.0.4\n"
          ]
        }
      ],
      "source": [
        "!pip install pymorphy2\n",
        "!pip install catboost"
      ]
    },
    {
      "cell_type": "code",
      "execution_count": 8,
      "metadata": {
        "colab": {
          "base_uri": "https://localhost:8080/",
          "height": 641
        },
        "id": "43W4IUySGjLk",
        "outputId": "f9cb8144-73bf-4721-8030-cf4a698112aa"
      },
      "outputs": [
        {
          "output_type": "execute_result",
          "data": {
            "text/plain": [
              "      sphere                                           category  \\\n",
              "0          0                               Многоквартирные дома   \n",
              "1          0                               Многоквартирные дома   \n",
              "2          0  Государственный, муниципальный и ведомственный...   \n",
              "3          0                               Многоквартирные дома   \n",
              "4          0                               Многоквартирные дома   \n",
              "...      ...                                                ...   \n",
              "7387      11                                Строительный объект   \n",
              "7388      11                                Строительный объект   \n",
              "7389      11                                Строительный объект   \n",
              "7390      11                                Строительный объект   \n",
              "7391      11                                Строительный объект   \n",
              "\n",
              "                                                  theme  \\\n",
              "0                 Нарушения в вопросах оплаты услуг ЖКХ   \n",
              "1              Содержание МКД и придомовой территории *   \n",
              "2     Обеспечение жильем ветеранов, инвалидов и семе...   \n",
              "3            Капитальный ремонт многоквартирного дома *   \n",
              "4                 Нарушения в вопросах оплаты услуг ЖКХ   \n",
              "...                                                 ...   \n",
              "7387                      Нарушение строительных норм *   \n",
              "7388  Неисполнение застройщиком договорных обязательств   \n",
              "7389  Неисполнение застройщиком договорных обязательств   \n",
              "7390  Неисполнение застройщиком договорных обязательств   \n",
              "7391  Неисполнение застройщиком договорных обязательств   \n",
              "\n",
              "                                                   text  \\\n",
              "0      обращаются жильцы можем заверить что и других...   \n",
              "1      мая происходит залитие подвала многоквартирно...   \n",
              "2      вечер ребенка инвалида являюсь матерью одиноч...   \n",
              "3     Здравствуйте нашего дома находится в полуразру...   \n",
              "4     Здравствуйте зовут вопрос касается отопления и...   \n",
              "...                                                 ...   \n",
              "7387   день жители частного сектора домов номер прос...   \n",
              "7388   день в активно ведётся строительство долгостр...   \n",
              "7389  Здравствуйте я ранее обращалась дома пришел от...   \n",
              "7390   приходом должность главы региона началось реш...   \n",
              "7391  Здравствуйте приобрели июня квартиру в ипотеку...   \n",
              "\n",
              "                                              text_prep  \\\n",
              "0     обращаются жильцы можем заверить других домов ...   \n",
              "1     мая происходит залитие подвала многоквартирног...   \n",
              "2     вечер ребенка инвалида являюсь матерью одиночк...   \n",
              "3     нашего дома находится полуразрушенном состояни...   \n",
              "4     зовут вопрос касается отопления сумм которые н...   \n",
              "...                                                 ...   \n",
              "7387  день жители частного сектора домов номер проси...   \n",
              "7388  день активно ведётся строительство долгостроев...   \n",
              "7389  ранее обращалась дома пришел ответ следующего ...   \n",
              "7390  приходом должность главы региона началось реше...   \n",
              "7391  приобрели июня квартиру ипотеку материнского к...   \n",
              "\n",
              "                                              text_stem  \\\n",
              "0     обраща жильц мож завер друг дом наш микрорайон...   \n",
              "1     ма происход залит подва многоквартирн дом фека...   \n",
              "2     вечер ребенк инвалид явля матер одиночк обрат ...   \n",
              "3     наш дом наход полуразрушен состоян управлен жи...   \n",
              "4     зовут вопрос каса отоплен сумм котор нам квита...   \n",
              "...                                                 ...   \n",
              "7387  ден жител частн сектор дом номер прос помощ ра...   \n",
              "7388  ден активн ведет строительств долгостро везд з...   \n",
              "7389  ран обраща дом пришел ответ след содержан обра...   \n",
              "7390  приход должност глав регион нача решен проблем...   \n",
              "7391  приобрел июн квартир ипотек материнск капита н...   \n",
              "\n",
              "                                              text_lemm  \n",
              "0     обращаться жилец мочь заверить дом микрорайон ...  \n",
              "1     май происходить залитие подвал многоквартирный...  \n",
              "2     вечер ребёнок инвалид являться мать одиночка о...  \n",
              "3     дом находиться полуразрушить состояние управле...  \n",
              "4     звать вопрос касаться отопление сумма квитанци...  \n",
              "...                                                 ...  \n",
              "7387  день житель частное сектор дом номер просить п...  \n",
              "7388  день активно вестись строительство долгострой ...  \n",
              "7389  ранее обращаться дом прийти ответ следующий со...  \n",
              "7390  приход должность глава регион начаться решение...  \n",
              "7391  приобрести июнь квартира ипотека материнский к...  \n",
              "\n",
              "[7392 rows x 7 columns]"
            ],
            "text/html": [
              "\n",
              "  <div id=\"df-f655758c-b166-4bf8-bbda-1b1e7c486dd3\">\n",
              "    <div class=\"colab-df-container\">\n",
              "      <div>\n",
              "<style scoped>\n",
              "    .dataframe tbody tr th:only-of-type {\n",
              "        vertical-align: middle;\n",
              "    }\n",
              "\n",
              "    .dataframe tbody tr th {\n",
              "        vertical-align: top;\n",
              "    }\n",
              "\n",
              "    .dataframe thead th {\n",
              "        text-align: right;\n",
              "    }\n",
              "</style>\n",
              "<table border=\"1\" class=\"dataframe\">\n",
              "  <thead>\n",
              "    <tr style=\"text-align: right;\">\n",
              "      <th></th>\n",
              "      <th>sphere</th>\n",
              "      <th>category</th>\n",
              "      <th>theme</th>\n",
              "      <th>text</th>\n",
              "      <th>text_prep</th>\n",
              "      <th>text_stem</th>\n",
              "      <th>text_lemm</th>\n",
              "    </tr>\n",
              "  </thead>\n",
              "  <tbody>\n",
              "    <tr>\n",
              "      <th>0</th>\n",
              "      <td>0</td>\n",
              "      <td>Многоквартирные дома</td>\n",
              "      <td>Нарушения в вопросах оплаты услуг ЖКХ</td>\n",
              "      <td>обращаются жильцы можем заверить что и других...</td>\n",
              "      <td>обращаются жильцы можем заверить других домов ...</td>\n",
              "      <td>обраща жильц мож завер друг дом наш микрорайон...</td>\n",
              "      <td>обращаться жилец мочь заверить дом микрорайон ...</td>\n",
              "    </tr>\n",
              "    <tr>\n",
              "      <th>1</th>\n",
              "      <td>0</td>\n",
              "      <td>Многоквартирные дома</td>\n",
              "      <td>Содержание МКД и придомовой территории *</td>\n",
              "      <td>мая происходит залитие подвала многоквартирно...</td>\n",
              "      <td>мая происходит залитие подвала многоквартирног...</td>\n",
              "      <td>ма происход залит подва многоквартирн дом фека...</td>\n",
              "      <td>май происходить залитие подвал многоквартирный...</td>\n",
              "    </tr>\n",
              "    <tr>\n",
              "      <th>2</th>\n",
              "      <td>0</td>\n",
              "      <td>Государственный, муниципальный и ведомственный...</td>\n",
              "      <td>Обеспечение жильем ветеранов, инвалидов и семе...</td>\n",
              "      <td>вечер ребенка инвалида являюсь матерью одиноч...</td>\n",
              "      <td>вечер ребенка инвалида являюсь матерью одиночк...</td>\n",
              "      <td>вечер ребенк инвалид явля матер одиночк обрат ...</td>\n",
              "      <td>вечер ребёнок инвалид являться мать одиночка о...</td>\n",
              "    </tr>\n",
              "    <tr>\n",
              "      <th>3</th>\n",
              "      <td>0</td>\n",
              "      <td>Многоквартирные дома</td>\n",
              "      <td>Капитальный ремонт многоквартирного дома *</td>\n",
              "      <td>Здравствуйте нашего дома находится в полуразру...</td>\n",
              "      <td>нашего дома находится полуразрушенном состояни...</td>\n",
              "      <td>наш дом наход полуразрушен состоян управлен жи...</td>\n",
              "      <td>дом находиться полуразрушить состояние управле...</td>\n",
              "    </tr>\n",
              "    <tr>\n",
              "      <th>4</th>\n",
              "      <td>0</td>\n",
              "      <td>Многоквартирные дома</td>\n",
              "      <td>Нарушения в вопросах оплаты услуг ЖКХ</td>\n",
              "      <td>Здравствуйте зовут вопрос касается отопления и...</td>\n",
              "      <td>зовут вопрос касается отопления сумм которые н...</td>\n",
              "      <td>зовут вопрос каса отоплен сумм котор нам квита...</td>\n",
              "      <td>звать вопрос касаться отопление сумма квитанци...</td>\n",
              "    </tr>\n",
              "    <tr>\n",
              "      <th>...</th>\n",
              "      <td>...</td>\n",
              "      <td>...</td>\n",
              "      <td>...</td>\n",
              "      <td>...</td>\n",
              "      <td>...</td>\n",
              "      <td>...</td>\n",
              "      <td>...</td>\n",
              "    </tr>\n",
              "    <tr>\n",
              "      <th>7387</th>\n",
              "      <td>11</td>\n",
              "      <td>Строительный объект</td>\n",
              "      <td>Нарушение строительных норм *</td>\n",
              "      <td>день жители частного сектора домов номер прос...</td>\n",
              "      <td>день жители частного сектора домов номер проси...</td>\n",
              "      <td>ден жител частн сектор дом номер прос помощ ра...</td>\n",
              "      <td>день житель частное сектор дом номер просить п...</td>\n",
              "    </tr>\n",
              "    <tr>\n",
              "      <th>7388</th>\n",
              "      <td>11</td>\n",
              "      <td>Строительный объект</td>\n",
              "      <td>Неисполнение застройщиком договорных обязательств</td>\n",
              "      <td>день в активно ведётся строительство долгостр...</td>\n",
              "      <td>день активно ведётся строительство долгостроев...</td>\n",
              "      <td>ден активн ведет строительств долгостро везд з...</td>\n",
              "      <td>день активно вестись строительство долгострой ...</td>\n",
              "    </tr>\n",
              "    <tr>\n",
              "      <th>7389</th>\n",
              "      <td>11</td>\n",
              "      <td>Строительный объект</td>\n",
              "      <td>Неисполнение застройщиком договорных обязательств</td>\n",
              "      <td>Здравствуйте я ранее обращалась дома пришел от...</td>\n",
              "      <td>ранее обращалась дома пришел ответ следующего ...</td>\n",
              "      <td>ран обраща дом пришел ответ след содержан обра...</td>\n",
              "      <td>ранее обращаться дом прийти ответ следующий со...</td>\n",
              "    </tr>\n",
              "    <tr>\n",
              "      <th>7390</th>\n",
              "      <td>11</td>\n",
              "      <td>Строительный объект</td>\n",
              "      <td>Неисполнение застройщиком договорных обязательств</td>\n",
              "      <td>приходом должность главы региона началось реш...</td>\n",
              "      <td>приходом должность главы региона началось реше...</td>\n",
              "      <td>приход должност глав регион нача решен проблем...</td>\n",
              "      <td>приход должность глава регион начаться решение...</td>\n",
              "    </tr>\n",
              "    <tr>\n",
              "      <th>7391</th>\n",
              "      <td>11</td>\n",
              "      <td>Строительный объект</td>\n",
              "      <td>Неисполнение застройщиком договорных обязательств</td>\n",
              "      <td>Здравствуйте приобрели июня квартиру в ипотеку...</td>\n",
              "      <td>приобрели июня квартиру ипотеку материнского к...</td>\n",
              "      <td>приобрел июн квартир ипотек материнск капита н...</td>\n",
              "      <td>приобрести июнь квартира ипотека материнский к...</td>\n",
              "    </tr>\n",
              "  </tbody>\n",
              "</table>\n",
              "<p>7392 rows × 7 columns</p>\n",
              "</div>\n",
              "      <button class=\"colab-df-convert\" onclick=\"convertToInteractive('df-f655758c-b166-4bf8-bbda-1b1e7c486dd3')\"\n",
              "              title=\"Convert this dataframe to an interactive table.\"\n",
              "              style=\"display:none;\">\n",
              "        \n",
              "  <svg xmlns=\"http://www.w3.org/2000/svg\" height=\"24px\"viewBox=\"0 0 24 24\"\n",
              "       width=\"24px\">\n",
              "    <path d=\"M0 0h24v24H0V0z\" fill=\"none\"/>\n",
              "    <path d=\"M18.56 5.44l.94 2.06.94-2.06 2.06-.94-2.06-.94-.94-2.06-.94 2.06-2.06.94zm-11 1L8.5 8.5l.94-2.06 2.06-.94-2.06-.94L8.5 2.5l-.94 2.06-2.06.94zm10 10l.94 2.06.94-2.06 2.06-.94-2.06-.94-.94-2.06-.94 2.06-2.06.94z\"/><path d=\"M17.41 7.96l-1.37-1.37c-.4-.4-.92-.59-1.43-.59-.52 0-1.04.2-1.43.59L10.3 9.45l-7.72 7.72c-.78.78-.78 2.05 0 2.83L4 21.41c.39.39.9.59 1.41.59.51 0 1.02-.2 1.41-.59l7.78-7.78 2.81-2.81c.8-.78.8-2.07 0-2.86zM5.41 20L4 18.59l7.72-7.72 1.47 1.35L5.41 20z\"/>\n",
              "  </svg>\n",
              "      </button>\n",
              "      \n",
              "  <style>\n",
              "    .colab-df-container {\n",
              "      display:flex;\n",
              "      flex-wrap:wrap;\n",
              "      gap: 12px;\n",
              "    }\n",
              "\n",
              "    .colab-df-convert {\n",
              "      background-color: #E8F0FE;\n",
              "      border: none;\n",
              "      border-radius: 50%;\n",
              "      cursor: pointer;\n",
              "      display: none;\n",
              "      fill: #1967D2;\n",
              "      height: 32px;\n",
              "      padding: 0 0 0 0;\n",
              "      width: 32px;\n",
              "    }\n",
              "\n",
              "    .colab-df-convert:hover {\n",
              "      background-color: #E2EBFA;\n",
              "      box-shadow: 0px 1px 2px rgba(60, 64, 67, 0.3), 0px 1px 3px 1px rgba(60, 64, 67, 0.15);\n",
              "      fill: #174EA6;\n",
              "    }\n",
              "\n",
              "    [theme=dark] .colab-df-convert {\n",
              "      background-color: #3B4455;\n",
              "      fill: #D2E3FC;\n",
              "    }\n",
              "\n",
              "    [theme=dark] .colab-df-convert:hover {\n",
              "      background-color: #434B5C;\n",
              "      box-shadow: 0px 1px 3px 1px rgba(0, 0, 0, 0.15);\n",
              "      filter: drop-shadow(0px 1px 2px rgba(0, 0, 0, 0.3));\n",
              "      fill: #FFFFFF;\n",
              "    }\n",
              "  </style>\n",
              "\n",
              "      <script>\n",
              "        const buttonEl =\n",
              "          document.querySelector('#df-f655758c-b166-4bf8-bbda-1b1e7c486dd3 button.colab-df-convert');\n",
              "        buttonEl.style.display =\n",
              "          google.colab.kernel.accessAllowed ? 'block' : 'none';\n",
              "\n",
              "        async function convertToInteractive(key) {\n",
              "          const element = document.querySelector('#df-f655758c-b166-4bf8-bbda-1b1e7c486dd3');\n",
              "          const dataTable =\n",
              "            await google.colab.kernel.invokeFunction('convertToInteractive',\n",
              "                                                     [key], {});\n",
              "          if (!dataTable) return;\n",
              "\n",
              "          const docLinkHtml = 'Like what you see? Visit the ' +\n",
              "            '<a target=\"_blank\" href=https://colab.research.google.com/notebooks/data_table.ipynb>data table notebook</a>'\n",
              "            + ' to learn more about interactive tables.';\n",
              "          element.innerHTML = '';\n",
              "          dataTable['output_type'] = 'display_data';\n",
              "          await google.colab.output.renderOutput(dataTable, element);\n",
              "          const docLink = document.createElement('div');\n",
              "          docLink.innerHTML = docLinkHtml;\n",
              "          element.appendChild(docLink);\n",
              "        }\n",
              "      </script>\n",
              "    </div>\n",
              "  </div>\n",
              "  "
            ]
          },
          "metadata": {},
          "execution_count": 8
        }
      ],
      "source": [
        "df_res"
      ]
    },
    {
      "cell_type": "code",
      "execution_count": 9,
      "metadata": {
        "id": "lIsOAiutGjFV"
      },
      "outputs": [],
      "source": [
        "import warnings\n",
        "warnings.filterwarnings('ignore')"
      ]
    },
    {
      "cell_type": "code",
      "execution_count": 10,
      "metadata": {
        "id": "pp_9crqdGjC5"
      },
      "outputs": [],
      "source": [
        "from sklearn.pipeline import Pipeline\n",
        "from sklearn.feature_extraction.text import TfidfTransformer\n",
        "from sklearn.feature_extraction.text import CountVectorizer\n",
        "from sklearn.metrics import accuracy_score\n",
        "from sklearn.metrics import f1_score\n",
        "from sklearn.metrics import classification_report"
      ]
    },
    {
      "cell_type": "code",
      "execution_count": 11,
      "metadata": {
        "id": "NpaVVSScIyGE"
      },
      "outputs": [],
      "source": [
        "from sklearn.model_selection import cross_validate, StratifiedKFold"
      ]
    },
    {
      "cell_type": "code",
      "execution_count": 12,
      "metadata": {
        "id": "qCzmU7ZkGjAj"
      },
      "outputs": [],
      "source": [
        "from catboost import CatBoostClassifier\n",
        "cbc = CatBoostClassifier(random_state=42, n_estimators=20, max_depth=5)"
      ]
    },
    {
      "cell_type": "code",
      "execution_count": 13,
      "metadata": {
        "id": "_ySB7iNtI9lB"
      },
      "outputs": [],
      "source": [
        "X, y = [], []\n",
        "for i, row in df_res.iterrows():\n",
        "  th = remove_multiple_spaces(remove_numbers(remove_punctuation(str(row.theme).strip().lower())))\n",
        "  X.append(th + ' ' + row.text_prep)\n",
        "  y.append(row.sphere)\n",
        "X, y = np.array(X), np.array(y)"
      ]
    },
    {
      "cell_type": "code",
      "execution_count": 14,
      "metadata": {
        "colab": {
          "base_uri": "https://localhost:8080/"
        },
        "id": "wwGSaVzoGi9-",
        "outputId": "51288a76-bfcc-4eda-95fd-dbad464d7d75"
      },
      "outputs": [
        {
          "output_type": "stream",
          "name": "stdout",
          "text": [
            "fit_time\n",
            " scores = [56.04514885 56.45455813 45.24751544 45.11590743 23.73870993] \n",
            "mean score = 45.32037 +/- 11.87271\n",
            "score_time\n",
            " scores = [0.34331942 0.24377942 0.25076032 0.23148108 0.15661359] \n",
            "mean score = 0.24519 +/- 0.05949\n",
            "test_f1_weighted\n",
            " scores = [0.92332055 0.88638578 0.88768235 0.90342594 0.89108767] \n",
            "mean score = 0.89838 +/- 0.01385\n",
            "test_accuracy\n",
            " scores = [0.92359703 0.88911427 0.88903924 0.9052774  0.89242219] \n",
            "mean score = 0.89989 +/- 0.01327\n"
          ]
        }
      ],
      "source": [
        "model = Pipeline([('vect', CountVectorizer()),\n",
        "                ('tfidf', TfidfTransformer()),\n",
        "                ('clf', cbc),\n",
        "               ])\n",
        "\n",
        "skf = StratifiedKFold(n_splits=5, shuffle=True, random_state=42)\n",
        "scores = cross_validate(estimator=model, X=X, y=y, \n",
        "                         cv=skf, scoring=['f1_weighted', 'accuracy'], n_jobs=-1)\n",
        "for i in scores.keys():\n",
        "  print('{}\\n scores = {} \\nmean score = {:.5f} +/- {:.5f}'.format(i, scores[i], scores[i].mean(), scores[i].std()))"
      ]
    },
    {
      "cell_type": "code",
      "execution_count": null,
      "metadata": {
        "id": "IGtfZTJ1Ipw7"
      },
      "outputs": [],
      "source": [
        ""
      ]
    },
    {
      "cell_type": "code",
      "execution_count": null,
      "metadata": {
        "id": "ViaBbdST-NuS"
      },
      "outputs": [],
      "source": [
        ""
      ]
    }
  ],
  "metadata": {
    "colab": {
      "collapsed_sections": [],
      "name": "CatBoost.ipynb",
      "provenance": [],
      "authorship_tag": "ABX9TyO6RO38fve6tM6q4+LJXunY",
      "include_colab_link": true
    },
    "kernelspec": {
      "display_name": "Python 3",
      "name": "python3"
    },
    "language_info": {
      "name": "python"
    }
  },
  "nbformat": 4,
  "nbformat_minor": 0
}