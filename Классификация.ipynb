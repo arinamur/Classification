{
  "cells": [
    {
      "cell_type": "markdown",
      "metadata": {
        "id": "view-in-github",
        "colab_type": "text"
      },
      "source": [
        "<a href=\"https://colab.research.google.com/github/arinamur/Classification/blob/main/%D0%9A%D0%BB%D0%B0%D1%81%D1%81%D0%B8%D1%84%D0%B8%D0%BA%D0%B0%D1%86%D0%B8%D1%8F.ipynb\" target=\"_parent\"><img src=\"https://colab.research.google.com/assets/colab-badge.svg\" alt=\"Open In Colab\"/></a>"
      ]
    },
    {
      "cell_type": "code",
      "execution_count": 1,
      "metadata": {
        "collapsed": true,
        "id": "tGoNJIvhHF-E"
      },
      "outputs": [],
      "source": [
        "import pandas as pd\n",
        "import numpy as np"
      ]
    },
    {
      "cell_type": "code",
      "source": [
        "from google.colab import drive\n",
        "drive.mount('/content/drive')"
      ],
      "metadata": {
        "colab": {
          "base_uri": "https://localhost:8080/"
        },
        "id": "Hd6JbJ9XTDMf",
        "outputId": "df7791a4-6207-4294-e099-921520ba2a1b"
      },
      "execution_count": 2,
      "outputs": [
        {
          "output_type": "stream",
          "name": "stdout",
          "text": [
            "Mounted at /content/drive\n"
          ]
        }
      ]
    },
    {
      "cell_type": "code",
      "execution_count": 3,
      "outputs": [],
      "source": [
        "data = pd.read_excel(\"drive/MyDrive/case_dataset.xlsx\")"
      ],
      "metadata": {
        "pycharm": {
          "name": "#%%\n"
        },
        "id": "2ly4CXZ5HF-N"
      }
    },
    {
      "cell_type": "code",
      "source": [
        "print(len(data.theme.unique()))"
      ],
      "metadata": {
        "colab": {
          "base_uri": "https://localhost:8080/"
        },
        "id": "8gpW9_GO36di",
        "outputId": "ebd2d29b-14ec-4141-fb99-718c4e1e3e97"
      },
      "execution_count": 4,
      "outputs": [
        {
          "output_type": "stream",
          "name": "stdout",
          "text": [
            "320\n"
          ]
        }
      ]
    },
    {
      "cell_type": "code",
      "execution_count": 5,
      "outputs": [
        {
          "output_type": "execute_result",
          "data": {
            "text/plain": [
              "(8066, 4)"
            ]
          },
          "metadata": {},
          "execution_count": 5
        }
      ],
      "source": [
        "data.shape"
      ],
      "metadata": {
        "pycharm": {
          "name": "#%%\n"
        },
        "id": "ZIjt7eG0HF-P",
        "outputId": "c2a8bebd-6a6f-40f0-c7e0-a40bc22bf883",
        "colab": {
          "base_uri": "https://localhost:8080/"
        }
      }
    },
    {
      "cell_type": "code",
      "execution_count": 6,
      "outputs": [
        {
          "output_type": "execute_result",
          "data": {
            "text/plain": [
              "                           sphere  \\\n",
              "0  Жилищно-коммунальное хозяйство   \n",
              "1                      Энергетика   \n",
              "2       Торговля, товары и услуги   \n",
              "3                 Здравоохранение   \n",
              "4              Трудовые отношения   \n",
              "\n",
              "                                            category  \\\n",
              "0                               Многоквартирные дома   \n",
              "1                                  Электроэнергетика   \n",
              "2                                           Торговля   \n",
              "3  Качество оказания медицинской помощи (в том чи...   \n",
              "4                     Нарушения в сфере охраны труда   \n",
              "\n",
              "                                               theme  \\\n",
              "0              Нарушения в вопросах оплаты услуг ЖКХ   \n",
              "1  Организация электроснабжения населенных пункто...   \n",
              "2  Нарушение санитарных требований к организациям...   \n",
              "3           Оказание медицинской помощи в стационаре   \n",
              "4                     Нарушения в сфере охраны труда   \n",
              "\n",
              "                                                text  \n",
              "0   обращаются жильцы можем заверить что и других...  \n",
              "1   обращаюсь лица моей бабушки проживающие адрес...  \n",
              "2   связи коронавирусом в нашей стране и в нашем ...  \n",
              "3   больнице тракторной отсутствует горячая вода ...  \n",
              "4   работаю начальником отделения почтовой связи ...  "
            ],
            "text/html": [
              "\n",
              "  <div id=\"df-d89869e5-2c4f-45b6-a797-e8885e3857f4\">\n",
              "    <div class=\"colab-df-container\">\n",
              "      <div>\n",
              "<style scoped>\n",
              "    .dataframe tbody tr th:only-of-type {\n",
              "        vertical-align: middle;\n",
              "    }\n",
              "\n",
              "    .dataframe tbody tr th {\n",
              "        vertical-align: top;\n",
              "    }\n",
              "\n",
              "    .dataframe thead th {\n",
              "        text-align: right;\n",
              "    }\n",
              "</style>\n",
              "<table border=\"1\" class=\"dataframe\">\n",
              "  <thead>\n",
              "    <tr style=\"text-align: right;\">\n",
              "      <th></th>\n",
              "      <th>sphere</th>\n",
              "      <th>category</th>\n",
              "      <th>theme</th>\n",
              "      <th>text</th>\n",
              "    </tr>\n",
              "  </thead>\n",
              "  <tbody>\n",
              "    <tr>\n",
              "      <th>0</th>\n",
              "      <td>Жилищно-коммунальное хозяйство</td>\n",
              "      <td>Многоквартирные дома</td>\n",
              "      <td>Нарушения в вопросах оплаты услуг ЖКХ</td>\n",
              "      <td>обращаются жильцы можем заверить что и других...</td>\n",
              "    </tr>\n",
              "    <tr>\n",
              "      <th>1</th>\n",
              "      <td>Энергетика</td>\n",
              "      <td>Электроэнергетика</td>\n",
              "      <td>Организация электроснабжения населенных пункто...</td>\n",
              "      <td>обращаюсь лица моей бабушки проживающие адрес...</td>\n",
              "    </tr>\n",
              "    <tr>\n",
              "      <th>2</th>\n",
              "      <td>Торговля, товары и услуги</td>\n",
              "      <td>Торговля</td>\n",
              "      <td>Нарушение санитарных требований к организациям...</td>\n",
              "      <td>связи коронавирусом в нашей стране и в нашем ...</td>\n",
              "    </tr>\n",
              "    <tr>\n",
              "      <th>3</th>\n",
              "      <td>Здравоохранение</td>\n",
              "      <td>Качество оказания медицинской помощи (в том чи...</td>\n",
              "      <td>Оказание медицинской помощи в стационаре</td>\n",
              "      <td>больнице тракторной отсутствует горячая вода ...</td>\n",
              "    </tr>\n",
              "    <tr>\n",
              "      <th>4</th>\n",
              "      <td>Трудовые отношения</td>\n",
              "      <td>Нарушения в сфере охраны труда</td>\n",
              "      <td>Нарушения в сфере охраны труда</td>\n",
              "      <td>работаю начальником отделения почтовой связи ...</td>\n",
              "    </tr>\n",
              "  </tbody>\n",
              "</table>\n",
              "</div>\n",
              "      <button class=\"colab-df-convert\" onclick=\"convertToInteractive('df-d89869e5-2c4f-45b6-a797-e8885e3857f4')\"\n",
              "              title=\"Convert this dataframe to an interactive table.\"\n",
              "              style=\"display:none;\">\n",
              "        \n",
              "  <svg xmlns=\"http://www.w3.org/2000/svg\" height=\"24px\"viewBox=\"0 0 24 24\"\n",
              "       width=\"24px\">\n",
              "    <path d=\"M0 0h24v24H0V0z\" fill=\"none\"/>\n",
              "    <path d=\"M18.56 5.44l.94 2.06.94-2.06 2.06-.94-2.06-.94-.94-2.06-.94 2.06-2.06.94zm-11 1L8.5 8.5l.94-2.06 2.06-.94-2.06-.94L8.5 2.5l-.94 2.06-2.06.94zm10 10l.94 2.06.94-2.06 2.06-.94-2.06-.94-.94-2.06-.94 2.06-2.06.94z\"/><path d=\"M17.41 7.96l-1.37-1.37c-.4-.4-.92-.59-1.43-.59-.52 0-1.04.2-1.43.59L10.3 9.45l-7.72 7.72c-.78.78-.78 2.05 0 2.83L4 21.41c.39.39.9.59 1.41.59.51 0 1.02-.2 1.41-.59l7.78-7.78 2.81-2.81c.8-.78.8-2.07 0-2.86zM5.41 20L4 18.59l7.72-7.72 1.47 1.35L5.41 20z\"/>\n",
              "  </svg>\n",
              "      </button>\n",
              "      \n",
              "  <style>\n",
              "    .colab-df-container {\n",
              "      display:flex;\n",
              "      flex-wrap:wrap;\n",
              "      gap: 12px;\n",
              "    }\n",
              "\n",
              "    .colab-df-convert {\n",
              "      background-color: #E8F0FE;\n",
              "      border: none;\n",
              "      border-radius: 50%;\n",
              "      cursor: pointer;\n",
              "      display: none;\n",
              "      fill: #1967D2;\n",
              "      height: 32px;\n",
              "      padding: 0 0 0 0;\n",
              "      width: 32px;\n",
              "    }\n",
              "\n",
              "    .colab-df-convert:hover {\n",
              "      background-color: #E2EBFA;\n",
              "      box-shadow: 0px 1px 2px rgba(60, 64, 67, 0.3), 0px 1px 3px 1px rgba(60, 64, 67, 0.15);\n",
              "      fill: #174EA6;\n",
              "    }\n",
              "\n",
              "    [theme=dark] .colab-df-convert {\n",
              "      background-color: #3B4455;\n",
              "      fill: #D2E3FC;\n",
              "    }\n",
              "\n",
              "    [theme=dark] .colab-df-convert:hover {\n",
              "      background-color: #434B5C;\n",
              "      box-shadow: 0px 1px 3px 1px rgba(0, 0, 0, 0.15);\n",
              "      filter: drop-shadow(0px 1px 2px rgba(0, 0, 0, 0.3));\n",
              "      fill: #FFFFFF;\n",
              "    }\n",
              "  </style>\n",
              "\n",
              "      <script>\n",
              "        const buttonEl =\n",
              "          document.querySelector('#df-d89869e5-2c4f-45b6-a797-e8885e3857f4 button.colab-df-convert');\n",
              "        buttonEl.style.display =\n",
              "          google.colab.kernel.accessAllowed ? 'block' : 'none';\n",
              "\n",
              "        async function convertToInteractive(key) {\n",
              "          const element = document.querySelector('#df-d89869e5-2c4f-45b6-a797-e8885e3857f4');\n",
              "          const dataTable =\n",
              "            await google.colab.kernel.invokeFunction('convertToInteractive',\n",
              "                                                     [key], {});\n",
              "          if (!dataTable) return;\n",
              "\n",
              "          const docLinkHtml = 'Like what you see? Visit the ' +\n",
              "            '<a target=\"_blank\" href=https://colab.research.google.com/notebooks/data_table.ipynb>data table notebook</a>'\n",
              "            + ' to learn more about interactive tables.';\n",
              "          element.innerHTML = '';\n",
              "          dataTable['output_type'] = 'display_data';\n",
              "          await google.colab.output.renderOutput(dataTable, element);\n",
              "          const docLink = document.createElement('div');\n",
              "          docLink.innerHTML = docLinkHtml;\n",
              "          element.appendChild(docLink);\n",
              "        }\n",
              "      </script>\n",
              "    </div>\n",
              "  </div>\n",
              "  "
            ]
          },
          "metadata": {},
          "execution_count": 6
        }
      ],
      "source": [
        "data.head()"
      ],
      "metadata": {
        "pycharm": {
          "name": "#%%\n"
        },
        "id": "tDWKt5EnHF-V",
        "outputId": "a1b691ff-fd73-4100-f18a-a2e7f03b6d30",
        "colab": {
          "base_uri": "https://localhost:8080/",
          "height": 206
        }
      }
    },
    {
      "cell_type": "code",
      "source": [
        "spheres = list(data.sphere.unique())"
      ],
      "metadata": {
        "id": "T8peAxuZK3XL"
      },
      "execution_count": 7,
      "outputs": []
    },
    {
      "cell_type": "code",
      "source": [
        "df_res = pd.DataFrame()"
      ],
      "metadata": {
        "id": "OGVPvEnaK3Rx"
      },
      "execution_count": 8,
      "outputs": []
    },
    {
      "cell_type": "code",
      "source": [
        "for i in spheres:\n",
        "  print(i, len(data[data.sphere == i]))"
      ],
      "metadata": {
        "colab": {
          "base_uri": "https://localhost:8080/"
        },
        "id": "Nn1jQVV74nks",
        "outputId": "fe81a1f9-03bd-46bc-ee79-8f34ffb3b51b"
      },
      "execution_count": 12,
      "outputs": [
        {
          "output_type": "stream",
          "name": "stdout",
          "text": [
            "Жилищно-коммунальное хозяйство 1860\n",
            "Здравоохранение 1496\n",
            "Благоустройство населённых пунктов (площади, парки, скверы, улицы, дворовые территории, кладбища) 1390\n",
            "Автомобильные дороги 1273\n",
            "Социальное обеспечение населения 339\n",
            "Общественный транспорт (ОТ) 216\n",
            "Образование 210\n",
            "Прочее 141\n",
            "Правопорядок 113\n",
            "Экология 110\n",
            "Трудовые отношения 101\n",
            "Неправомерная деятельность органов власти 94\n"
          ]
        }
      ]
    },
    {
      "cell_type": "code",
      "source": [
        "spheres = ['Жилищно-коммунальное хозяйство', 'Здравоохранение', 'Благоустройство населённых пунктов (площади, парки, скверы, улицы, дворовые территории, кладбища)', 'Автомобильные дороги', 'Социальное обеспечение населения', 'Общественный транспорт (ОТ)', 'Образование', 'Прочее', 'Правопорядок', 'Экология', 'Трудовые отношения', 'Неправомерная деятельность органов власти']"
      ],
      "metadata": {
        "id": "Fm2bw5YXR7pq"
      },
      "execution_count": 10,
      "outputs": []
    },
    {
      "cell_type": "code",
      "source": [
        "s = 0\n",
        "for i in spheres:\n",
        "  s += len(data[data.sphere == i])\n",
        "print(s)"
      ],
      "metadata": {
        "colab": {
          "base_uri": "https://localhost:8080/"
        },
        "id": "r-tr8Fjqqn4I",
        "outputId": "d3f21bc3-7bca-4661-aef5-4eb381bbab01"
      },
      "execution_count": 14,
      "outputs": [
        {
          "output_type": "stream",
          "name": "stdout",
          "text": [
            "7343\n"
          ]
        }
      ]
    },
    {
      "cell_type": "code",
      "source": [
        "import nltk\n",
        "nltk.download('stopwords')"
      ],
      "metadata": {
        "id": "E7n3Hu97Uu1q",
        "colab": {
          "base_uri": "https://localhost:8080/"
        },
        "outputId": "84c2d219-2c4f-478e-83b8-e33e59b478c0"
      },
      "execution_count": 15,
      "outputs": [
        {
          "output_type": "stream",
          "name": "stdout",
          "text": [
            "[nltk_data] Downloading package stopwords to /root/nltk_data...\n",
            "[nltk_data]   Unzipping corpora/stopwords.zip.\n"
          ]
        },
        {
          "output_type": "execute_result",
          "data": {
            "text/plain": [
              "True"
            ]
          },
          "metadata": {},
          "execution_count": 15
        }
      ]
    },
    {
      "cell_type": "code",
      "source": [
        "for i in spheres:\n",
        "    df_sphere = data[data['sphere'] == i][:]\n",
        "    df_res = df_res.append(df_sphere, ignore_index=True)"
      ],
      "metadata": {
        "id": "NXkPhw_kK3PM"
      },
      "execution_count": 16,
      "outputs": []
    },
    {
      "cell_type": "code",
      "source": [
        "import string\n",
        "def remove_punctuation(text):\n",
        "    return \"\".join([ch if ch not in string.punctuation else ' ' for ch in text])\n",
        "\n",
        "def remove_numbers(text):\n",
        "    return ''.join([i if not i.isdigit() else ' ' for i in text])\n",
        "\n",
        "import re\n",
        "def remove_multiple_spaces(text):\n",
        "\treturn re.sub(r'\\s+', ' ', text, flags=re.I)\n",
        "\n",
        "from nltk.stem import *\n",
        "from nltk.corpus import stopwords\n",
        "from pymystem3 import Mystem\n",
        "from string import punctuation\n",
        "mystem = Mystem() \n",
        "\n",
        "russian_stopwords = stopwords.words(\"russian\")\n",
        "russian_stopwords.extend(['…', '«', '»', '...', 'здравствуйте', 'добрый', 'день'])\n",
        "def lemmatize_text(text):\n",
        "    tokens = mystem.lemmatize(text.lower())\n",
        "    tokens = [token for token in tokens if token not in russian_stopwords and token != \" \"]\n",
        "    text = \" \".join(tokens)\n",
        "    return text"
      ],
      "metadata": {
        "id": "ODUQcAgSK3Jp",
        "colab": {
          "base_uri": "https://localhost:8080/"
        },
        "outputId": "13dce4a8-fdec-49d8-acb0-65fd83483e5c"
      },
      "execution_count": 17,
      "outputs": [
        {
          "output_type": "stream",
          "name": "stderr",
          "text": [
            "Installing mystem to /root/.local/bin/mystem from http://download.cdn.yandex.net/mystem/mystem-3.1-linux-64bit.tar.gz\n"
          ]
        }
      ]
    },
    {
      "cell_type": "code",
      "source": [
        "prep_text = [remove_multiple_spaces(remove_numbers(remove_punctuation(str(text).lower()))) for text in df_res['text']]"
      ],
      "metadata": {
        "id": "csERu9NCK3Hg"
      },
      "execution_count": 18,
      "outputs": []
    },
    {
      "cell_type": "code",
      "source": [
        "df_res['text_prep'] = prep_text"
      ],
      "metadata": {
        "id": "oQ3R83yfK3GA"
      },
      "execution_count": 19,
      "outputs": []
    },
    {
      "cell_type": "code",
      "source": [
        "from nltk.stem.snowball import SnowballStemmer \n",
        "stemmer = SnowballStemmer(\"russian\") "
      ],
      "metadata": {
        "id": "kQpkX6nNK2_1"
      },
      "execution_count": 20,
      "outputs": []
    },
    {
      "cell_type": "code",
      "source": [
        "russian_stopwords.extend(['…', '«', '»', '...', 'т.д.', 'т', 'д'])"
      ],
      "metadata": {
        "id": "KtW5k0h0K23e"
      },
      "execution_count": 21,
      "outputs": []
    },
    {
      "cell_type": "code",
      "source": [
        "import nltk\n",
        "nltk.download('punkt')"
      ],
      "metadata": {
        "id": "9UplgbfwViQO",
        "outputId": "0b6eeb94-f252-42f2-9244-0b8251a58e3e",
        "colab": {
          "base_uri": "https://localhost:8080/"
        }
      },
      "execution_count": 22,
      "outputs": [
        {
          "output_type": "stream",
          "name": "stdout",
          "text": [
            "[nltk_data] Downloading package punkt to /root/nltk_data...\n",
            "[nltk_data]   Unzipping tokenizers/punkt.zip.\n"
          ]
        },
        {
          "output_type": "execute_result",
          "data": {
            "text/plain": [
              "True"
            ]
          },
          "metadata": {},
          "execution_count": 22
        }
      ]
    },
    {
      "cell_type": "code",
      "source": [
        "from nltk import word_tokenize\n",
        "\n",
        "stemmed_texts_list = []\n",
        "for text in df_res['text_prep']:\n",
        "    tokens = word_tokenize(text)    \n",
        "    stemmed_tokens = [stemmer.stem(token) for token in tokens if token not in russian_stopwords]\n",
        "    text = \" \".join(stemmed_tokens)\n",
        "    stemmed_texts_list.append(text)\n",
        "\n",
        "df_res['text_stem'] = stemmed_texts_list"
      ],
      "metadata": {
        "id": "bFU7GTNKK2o5"
      },
      "execution_count": 23,
      "outputs": []
    },
    {
      "cell_type": "code",
      "source": [
        "df_res"
      ],
      "metadata": {
        "id": "Q3M1NSTAPS1I",
        "colab": {
          "base_uri": "https://localhost:8080/",
          "height": 641
        },
        "outputId": "97e8aba1-ec62-456d-fb69-ce3064e6915f"
      },
      "execution_count": 24,
      "outputs": [
        {
          "output_type": "execute_result",
          "data": {
            "text/plain": [
              "                                         sphere  \\\n",
              "0                Жилищно-коммунальное хозяйство   \n",
              "1                Жилищно-коммунальное хозяйство   \n",
              "2                Жилищно-коммунальное хозяйство   \n",
              "3                Жилищно-коммунальное хозяйство   \n",
              "4                Жилищно-коммунальное хозяйство   \n",
              "...                                         ...   \n",
              "7338  Неправомерная деятельность органов власти   \n",
              "7339  Неправомерная деятельность органов власти   \n",
              "7340  Неправомерная деятельность органов власти   \n",
              "7341  Неправомерная деятельность органов власти   \n",
              "7342  Неправомерная деятельность органов власти   \n",
              "\n",
              "                                               category  \\\n",
              "0                                  Многоквартирные дома   \n",
              "1                                  Многоквартирные дома   \n",
              "2     Государственный, муниципальный и ведомственный...   \n",
              "3                                  Многоквартирные дома   \n",
              "4                                  Многоквартирные дома   \n",
              "...                                                 ...   \n",
              "7338  Деяние (действие или бездействие) руководителе...   \n",
              "7339  Деяние (действие или бездействие) сотрудников ...   \n",
              "7340  Деятельность органов местного самоуправления (...   \n",
              "7341  Деяние (действие или бездействие) руководителе...   \n",
              "7342  Деяние (действие или бездействие) сотрудников ...   \n",
              "\n",
              "                                                  theme  \\\n",
              "0                 Нарушения в вопросах оплаты услуг ЖКХ   \n",
              "1              Содержание МКД и придомовой территории *   \n",
              "2     Обеспечение жильем ветеранов, инвалидов и семе...   \n",
              "3            Капитальный ремонт многоквартирного дома *   \n",
              "4                 Нарушения в вопросах оплаты услуг ЖКХ   \n",
              "...                                                 ...   \n",
              "7338                          Жалобы на чиновников ИОГВ   \n",
              "7339  Жалобы на сотрудников региональных представите...   \n",
              "7340                               Жалобы на чиновников   \n",
              "7341                          Жалобы на чиновников ИОГВ   \n",
              "7342  Жалобы на сотрудников региональных представите...   \n",
              "\n",
              "                                                   text  \\\n",
              "0      обращаются жильцы можем заверить что и других...   \n",
              "1      мая происходит залитие подвала многоквартирно...   \n",
              "2      вечер ребенка инвалида являюсь матерью одиноч...   \n",
              "3     Здравствуйте нашего дома находится в полуразру...   \n",
              "4     Здравствуйте зовут вопрос касается отопления и...   \n",
              "...                                                 ...   \n",
              "7338   день квартиру в материнский капитал этом доку...   \n",
              "7339  Здравствуйте проблема в том что приставы списы...   \n",
              "7340   разрешить сложившуюся ситуацию и соответствую...   \n",
              "7341   прошу помогите в новом составе выставляет нам...   \n",
              "7342   возмущены правосудием бывший сотрудник полици...   \n",
              "\n",
              "                                              text_prep  \\\n",
              "0      обращаются жильцы можем заверить что и других...   \n",
              "1      мая происходит залитие подвала многоквартирно...   \n",
              "2      вечер ребенка инвалида являюсь матерью одиноч...   \n",
              "3     здравствуйте нашего дома находится в полуразру...   \n",
              "4     здравствуйте зовут вопрос касается отопления и...   \n",
              "...                                                 ...   \n",
              "7338   день квартиру в материнский капитал этом доку...   \n",
              "7339  здравствуйте проблема в том что приставы списы...   \n",
              "7340   разрешить сложившуюся ситуацию и соответствую...   \n",
              "7341   прошу помогите в новом составе выставляет нам...   \n",
              "7342   возмущены правосудием бывший сотрудник полици...   \n",
              "\n",
              "                                              text_stem  \n",
              "0     обраща жильц мож завер друг дом наш микрорайон...  \n",
              "1     ма происход залит подва многоквартирн дом фека...  \n",
              "2     вечер ребенк инвалид явля матер одиночк обрат ...  \n",
              "3     наш дом наход полуразрушен состоян управлен жи...  \n",
              "4     зовут вопрос каса отоплен сумм котор нам квита...  \n",
              "...                                                 ...  \n",
              "7338  квартир материнск капита документ департамент ...  \n",
              "7339  проблем пристав списыва мо зарплат работа почт...  \n",
              "7340  разреш слож ситуац соответств мер неоднократн ...  \n",
              "7341  прош помог нов состав выставля нам счет оказыв...  \n",
              "7342  возмущ правосуд бывш сотрудник полиц закон осу...  \n",
              "\n",
              "[7343 rows x 6 columns]"
            ],
            "text/html": [
              "\n",
              "  <div id=\"df-0e795e7e-44b8-42fd-8bbe-32fe0ca0a509\">\n",
              "    <div class=\"colab-df-container\">\n",
              "      <div>\n",
              "<style scoped>\n",
              "    .dataframe tbody tr th:only-of-type {\n",
              "        vertical-align: middle;\n",
              "    }\n",
              "\n",
              "    .dataframe tbody tr th {\n",
              "        vertical-align: top;\n",
              "    }\n",
              "\n",
              "    .dataframe thead th {\n",
              "        text-align: right;\n",
              "    }\n",
              "</style>\n",
              "<table border=\"1\" class=\"dataframe\">\n",
              "  <thead>\n",
              "    <tr style=\"text-align: right;\">\n",
              "      <th></th>\n",
              "      <th>sphere</th>\n",
              "      <th>category</th>\n",
              "      <th>theme</th>\n",
              "      <th>text</th>\n",
              "      <th>text_prep</th>\n",
              "      <th>text_stem</th>\n",
              "    </tr>\n",
              "  </thead>\n",
              "  <tbody>\n",
              "    <tr>\n",
              "      <th>0</th>\n",
              "      <td>Жилищно-коммунальное хозяйство</td>\n",
              "      <td>Многоквартирные дома</td>\n",
              "      <td>Нарушения в вопросах оплаты услуг ЖКХ</td>\n",
              "      <td>обращаются жильцы можем заверить что и других...</td>\n",
              "      <td>обращаются жильцы можем заверить что и других...</td>\n",
              "      <td>обраща жильц мож завер друг дом наш микрорайон...</td>\n",
              "    </tr>\n",
              "    <tr>\n",
              "      <th>1</th>\n",
              "      <td>Жилищно-коммунальное хозяйство</td>\n",
              "      <td>Многоквартирные дома</td>\n",
              "      <td>Содержание МКД и придомовой территории *</td>\n",
              "      <td>мая происходит залитие подвала многоквартирно...</td>\n",
              "      <td>мая происходит залитие подвала многоквартирно...</td>\n",
              "      <td>ма происход залит подва многоквартирн дом фека...</td>\n",
              "    </tr>\n",
              "    <tr>\n",
              "      <th>2</th>\n",
              "      <td>Жилищно-коммунальное хозяйство</td>\n",
              "      <td>Государственный, муниципальный и ведомственный...</td>\n",
              "      <td>Обеспечение жильем ветеранов, инвалидов и семе...</td>\n",
              "      <td>вечер ребенка инвалида являюсь матерью одиноч...</td>\n",
              "      <td>вечер ребенка инвалида являюсь матерью одиноч...</td>\n",
              "      <td>вечер ребенк инвалид явля матер одиночк обрат ...</td>\n",
              "    </tr>\n",
              "    <tr>\n",
              "      <th>3</th>\n",
              "      <td>Жилищно-коммунальное хозяйство</td>\n",
              "      <td>Многоквартирные дома</td>\n",
              "      <td>Капитальный ремонт многоквартирного дома *</td>\n",
              "      <td>Здравствуйте нашего дома находится в полуразру...</td>\n",
              "      <td>здравствуйте нашего дома находится в полуразру...</td>\n",
              "      <td>наш дом наход полуразрушен состоян управлен жи...</td>\n",
              "    </tr>\n",
              "    <tr>\n",
              "      <th>4</th>\n",
              "      <td>Жилищно-коммунальное хозяйство</td>\n",
              "      <td>Многоквартирные дома</td>\n",
              "      <td>Нарушения в вопросах оплаты услуг ЖКХ</td>\n",
              "      <td>Здравствуйте зовут вопрос касается отопления и...</td>\n",
              "      <td>здравствуйте зовут вопрос касается отопления и...</td>\n",
              "      <td>зовут вопрос каса отоплен сумм котор нам квита...</td>\n",
              "    </tr>\n",
              "    <tr>\n",
              "      <th>...</th>\n",
              "      <td>...</td>\n",
              "      <td>...</td>\n",
              "      <td>...</td>\n",
              "      <td>...</td>\n",
              "      <td>...</td>\n",
              "      <td>...</td>\n",
              "    </tr>\n",
              "    <tr>\n",
              "      <th>7338</th>\n",
              "      <td>Неправомерная деятельность органов власти</td>\n",
              "      <td>Деяние (действие или бездействие) руководителе...</td>\n",
              "      <td>Жалобы на чиновников ИОГВ</td>\n",
              "      <td>день квартиру в материнский капитал этом доку...</td>\n",
              "      <td>день квартиру в материнский капитал этом доку...</td>\n",
              "      <td>квартир материнск капита документ департамент ...</td>\n",
              "    </tr>\n",
              "    <tr>\n",
              "      <th>7339</th>\n",
              "      <td>Неправомерная деятельность органов власти</td>\n",
              "      <td>Деяние (действие или бездействие) сотрудников ...</td>\n",
              "      <td>Жалобы на сотрудников региональных представите...</td>\n",
              "      <td>Здравствуйте проблема в том что приставы списы...</td>\n",
              "      <td>здравствуйте проблема в том что приставы списы...</td>\n",
              "      <td>проблем пристав списыва мо зарплат работа почт...</td>\n",
              "    </tr>\n",
              "    <tr>\n",
              "      <th>7340</th>\n",
              "      <td>Неправомерная деятельность органов власти</td>\n",
              "      <td>Деятельность органов местного самоуправления (...</td>\n",
              "      <td>Жалобы на чиновников</td>\n",
              "      <td>разрешить сложившуюся ситуацию и соответствую...</td>\n",
              "      <td>разрешить сложившуюся ситуацию и соответствую...</td>\n",
              "      <td>разреш слож ситуац соответств мер неоднократн ...</td>\n",
              "    </tr>\n",
              "    <tr>\n",
              "      <th>7341</th>\n",
              "      <td>Неправомерная деятельность органов власти</td>\n",
              "      <td>Деяние (действие или бездействие) руководителе...</td>\n",
              "      <td>Жалобы на чиновников ИОГВ</td>\n",
              "      <td>прошу помогите в новом составе выставляет нам...</td>\n",
              "      <td>прошу помогите в новом составе выставляет нам...</td>\n",
              "      <td>прош помог нов состав выставля нам счет оказыв...</td>\n",
              "    </tr>\n",
              "    <tr>\n",
              "      <th>7342</th>\n",
              "      <td>Неправомерная деятельность органов власти</td>\n",
              "      <td>Деяние (действие или бездействие) сотрудников ...</td>\n",
              "      <td>Жалобы на сотрудников региональных представите...</td>\n",
              "      <td>возмущены правосудием бывший сотрудник полици...</td>\n",
              "      <td>возмущены правосудием бывший сотрудник полици...</td>\n",
              "      <td>возмущ правосуд бывш сотрудник полиц закон осу...</td>\n",
              "    </tr>\n",
              "  </tbody>\n",
              "</table>\n",
              "<p>7343 rows × 6 columns</p>\n",
              "</div>\n",
              "      <button class=\"colab-df-convert\" onclick=\"convertToInteractive('df-0e795e7e-44b8-42fd-8bbe-32fe0ca0a509')\"\n",
              "              title=\"Convert this dataframe to an interactive table.\"\n",
              "              style=\"display:none;\">\n",
              "        \n",
              "  <svg xmlns=\"http://www.w3.org/2000/svg\" height=\"24px\"viewBox=\"0 0 24 24\"\n",
              "       width=\"24px\">\n",
              "    <path d=\"M0 0h24v24H0V0z\" fill=\"none\"/>\n",
              "    <path d=\"M18.56 5.44l.94 2.06.94-2.06 2.06-.94-2.06-.94-.94-2.06-.94 2.06-2.06.94zm-11 1L8.5 8.5l.94-2.06 2.06-.94-2.06-.94L8.5 2.5l-.94 2.06-2.06.94zm10 10l.94 2.06.94-2.06 2.06-.94-2.06-.94-.94-2.06-.94 2.06-2.06.94z\"/><path d=\"M17.41 7.96l-1.37-1.37c-.4-.4-.92-.59-1.43-.59-.52 0-1.04.2-1.43.59L10.3 9.45l-7.72 7.72c-.78.78-.78 2.05 0 2.83L4 21.41c.39.39.9.59 1.41.59.51 0 1.02-.2 1.41-.59l7.78-7.78 2.81-2.81c.8-.78.8-2.07 0-2.86zM5.41 20L4 18.59l7.72-7.72 1.47 1.35L5.41 20z\"/>\n",
              "  </svg>\n",
              "      </button>\n",
              "      \n",
              "  <style>\n",
              "    .colab-df-container {\n",
              "      display:flex;\n",
              "      flex-wrap:wrap;\n",
              "      gap: 12px;\n",
              "    }\n",
              "\n",
              "    .colab-df-convert {\n",
              "      background-color: #E8F0FE;\n",
              "      border: none;\n",
              "      border-radius: 50%;\n",
              "      cursor: pointer;\n",
              "      display: none;\n",
              "      fill: #1967D2;\n",
              "      height: 32px;\n",
              "      padding: 0 0 0 0;\n",
              "      width: 32px;\n",
              "    }\n",
              "\n",
              "    .colab-df-convert:hover {\n",
              "      background-color: #E2EBFA;\n",
              "      box-shadow: 0px 1px 2px rgba(60, 64, 67, 0.3), 0px 1px 3px 1px rgba(60, 64, 67, 0.15);\n",
              "      fill: #174EA6;\n",
              "    }\n",
              "\n",
              "    [theme=dark] .colab-df-convert {\n",
              "      background-color: #3B4455;\n",
              "      fill: #D2E3FC;\n",
              "    }\n",
              "\n",
              "    [theme=dark] .colab-df-convert:hover {\n",
              "      background-color: #434B5C;\n",
              "      box-shadow: 0px 1px 3px 1px rgba(0, 0, 0, 0.15);\n",
              "      filter: drop-shadow(0px 1px 2px rgba(0, 0, 0, 0.3));\n",
              "      fill: #FFFFFF;\n",
              "    }\n",
              "  </style>\n",
              "\n",
              "      <script>\n",
              "        const buttonEl =\n",
              "          document.querySelector('#df-0e795e7e-44b8-42fd-8bbe-32fe0ca0a509 button.colab-df-convert');\n",
              "        buttonEl.style.display =\n",
              "          google.colab.kernel.accessAllowed ? 'block' : 'none';\n",
              "\n",
              "        async function convertToInteractive(key) {\n",
              "          const element = document.querySelector('#df-0e795e7e-44b8-42fd-8bbe-32fe0ca0a509');\n",
              "          const dataTable =\n",
              "            await google.colab.kernel.invokeFunction('convertToInteractive',\n",
              "                                                     [key], {});\n",
              "          if (!dataTable) return;\n",
              "\n",
              "          const docLinkHtml = 'Like what you see? Visit the ' +\n",
              "            '<a target=\"_blank\" href=https://colab.research.google.com/notebooks/data_table.ipynb>data table notebook</a>'\n",
              "            + ' to learn more about interactive tables.';\n",
              "          element.innerHTML = '';\n",
              "          dataTable['output_type'] = 'display_data';\n",
              "          await google.colab.output.renderOutput(dataTable, element);\n",
              "          const docLink = document.createElement('div');\n",
              "          docLink.innerHTML = docLinkHtml;\n",
              "          element.appendChild(docLink);\n",
              "        }\n",
              "      </script>\n",
              "    </div>\n",
              "  </div>\n",
              "  "
            ]
          },
          "metadata": {},
          "execution_count": 24
        }
      ]
    },
    {
      "cell_type": "code",
      "source": [
        "from nltk import word_tokenize\n",
        "\n",
        "sw_texts_list = []\n",
        "for text in df_res['text_prep']:\n",
        "    tokens = word_tokenize(text)    \n",
        "    tokens = [token for token in tokens if token not in russian_stopwords and token != ' ']\n",
        "    text = \" \".join(tokens)\n",
        "    sw_texts_list.append(text)\n",
        "\n",
        "df_res['text'] = sw_texts_list"
      ],
      "metadata": {
        "id": "y3GStmPwPo-A"
      },
      "execution_count": 25,
      "outputs": []
    },
    {
      "cell_type": "code",
      "source": [
        "!pip install pymorphy2\n"
      ],
      "metadata": {
        "id": "AZ59P4goPtsM",
        "colab": {
          "base_uri": "https://localhost:8080/"
        },
        "outputId": "183ef35e-7585-48e7-98c2-fd69cad5e654"
      },
      "execution_count": 26,
      "outputs": [
        {
          "output_type": "stream",
          "name": "stdout",
          "text": [
            "Collecting pymorphy2\n",
            "  Downloading pymorphy2-0.9.1-py3-none-any.whl (55 kB)\n",
            "\u001b[K     |████████████████████████████████| 55 kB 1.7 MB/s \n",
            "\u001b[?25hCollecting pymorphy2-dicts-ru<3.0,>=2.4\n",
            "  Downloading pymorphy2_dicts_ru-2.4.417127.4579844-py2.py3-none-any.whl (8.2 MB)\n",
            "\u001b[K     |████████████████████████████████| 8.2 MB 4.9 MB/s \n",
            "\u001b[?25hRequirement already satisfied: docopt>=0.6 in /usr/local/lib/python3.7/dist-packages (from pymorphy2) (0.6.2)\n",
            "Collecting dawg-python>=0.7.1\n",
            "  Downloading DAWG_Python-0.7.2-py2.py3-none-any.whl (11 kB)\n",
            "Installing collected packages: pymorphy2-dicts-ru, dawg-python, pymorphy2\n",
            "Successfully installed dawg-python-0.7.2 pymorphy2-0.9.1 pymorphy2-dicts-ru-2.4.417127.4579844\n"
          ]
        }
      ]
    },
    {
      "cell_type": "code",
      "source": [
        "from tqdm.auto import tqdm, trange\n",
        "import pymorphy2\n",
        "\n",
        "morph = pymorphy2.MorphAnalyzer()\n",
        "\n",
        "lemm_texts_list = []\n",
        "for text in tqdm(df_res['text']):\n",
        "    sentence_words = nltk.word_tokenize(text)\n",
        "    text_lem = []\n",
        "    try:\n",
        "      for i in sentence_words:\n",
        "        text_lem.append(morph.parse(i)[0].normal_form)\n",
        "      tokens = [token for token in text_lem   if token != ' ' and token not in russian_stopwords]\n",
        "      text = \" \".join(tokens)\n",
        "      lemm_texts_list.append(text)\n",
        "    except Exception as e:\n",
        "        print(e)"
      ],
      "metadata": {
        "id": "YgnxX99sQMzU",
        "colab": {
          "base_uri": "https://localhost:8080/",
          "height": 49,
          "referenced_widgets": [
            "1e2a4589f32c4952b764b1bc3e69808b",
            "2dfbb75779a24e3c81c0ab8e04f28ccb",
            "914829c3d0624f33824a18c777601973",
            "297700d7ce2340a895ac01da4930db2c",
            "e39393e9c94c42a8b964906ba005a9f3",
            "5e47e7dd20d04c9ba83c387c6a74d0b4",
            "26d6f2020142479ebe1531e0b6bd118d",
            "ae4c3211c67e40078a373be7e5eaed47",
            "cb4389ac3eb047dea389925b2c5f5232",
            "4686a8b68fbc4ac39ab728f6d03e3b4a",
            "81ed28981bbb4a88bfff107d7f85e257"
          ]
        },
        "outputId": "0c57a40d-20ea-4677-ae72-350ffa7e3aff"
      },
      "execution_count": 27,
      "outputs": [
        {
          "output_type": "display_data",
          "data": {
            "text/plain": [
              "  0%|          | 0/7343 [00:00<?, ?it/s]"
            ],
            "application/vnd.jupyter.widget-view+json": {
              "version_major": 2,
              "version_minor": 0,
              "model_id": "1e2a4589f32c4952b764b1bc3e69808b"
            }
          },
          "metadata": {}
        }
      ]
    },
    {
      "cell_type": "code",
      "source": [
        "df_res['text_lemm'] = lemm_texts_list"
      ],
      "metadata": {
        "id": "tSqgPb9FQMxw"
      },
      "execution_count": 28,
      "outputs": []
    },
    {
      "cell_type": "code",
      "source": [
        "df_res"
      ],
      "metadata": {
        "id": "h9fkeReCQMv_",
        "colab": {
          "base_uri": "https://localhost:8080/",
          "height": 641
        },
        "outputId": "da10320e-74a3-45c9-87fa-5ba792c34fc2"
      },
      "execution_count": 29,
      "outputs": [
        {
          "output_type": "execute_result",
          "data": {
            "text/plain": [
              "                                         sphere  \\\n",
              "0                Жилищно-коммунальное хозяйство   \n",
              "1                Жилищно-коммунальное хозяйство   \n",
              "2                Жилищно-коммунальное хозяйство   \n",
              "3                Жилищно-коммунальное хозяйство   \n",
              "4                Жилищно-коммунальное хозяйство   \n",
              "...                                         ...   \n",
              "7338  Неправомерная деятельность органов власти   \n",
              "7339  Неправомерная деятельность органов власти   \n",
              "7340  Неправомерная деятельность органов власти   \n",
              "7341  Неправомерная деятельность органов власти   \n",
              "7342  Неправомерная деятельность органов власти   \n",
              "\n",
              "                                               category  \\\n",
              "0                                  Многоквартирные дома   \n",
              "1                                  Многоквартирные дома   \n",
              "2     Государственный, муниципальный и ведомственный...   \n",
              "3                                  Многоквартирные дома   \n",
              "4                                  Многоквартирные дома   \n",
              "...                                                 ...   \n",
              "7338  Деяние (действие или бездействие) руководителе...   \n",
              "7339  Деяние (действие или бездействие) сотрудников ...   \n",
              "7340  Деятельность органов местного самоуправления (...   \n",
              "7341  Деяние (действие или бездействие) руководителе...   \n",
              "7342  Деяние (действие или бездействие) сотрудников ...   \n",
              "\n",
              "                                                  theme  \\\n",
              "0                 Нарушения в вопросах оплаты услуг ЖКХ   \n",
              "1              Содержание МКД и придомовой территории *   \n",
              "2     Обеспечение жильем ветеранов, инвалидов и семе...   \n",
              "3            Капитальный ремонт многоквартирного дома *   \n",
              "4                 Нарушения в вопросах оплаты услуг ЖКХ   \n",
              "...                                                 ...   \n",
              "7338                          Жалобы на чиновников ИОГВ   \n",
              "7339  Жалобы на сотрудников региональных представите...   \n",
              "7340                               Жалобы на чиновников   \n",
              "7341                          Жалобы на чиновников ИОГВ   \n",
              "7342  Жалобы на сотрудников региональных представите...   \n",
              "\n",
              "                                                   text  \\\n",
              "0     обращаются жильцы можем заверить других домов ...   \n",
              "1     мая происходит залитие подвала многоквартирног...   \n",
              "2     вечер ребенка инвалида являюсь матерью одиночк...   \n",
              "3     нашего дома находится полуразрушенном состояни...   \n",
              "4     зовут вопрос касается отопления сумм которые н...   \n",
              "...                                                 ...   \n",
              "7338  квартиру материнский капитал документы департа...   \n",
              "7339  проблема приставы списывают мою зарплату работ...   \n",
              "7340  разрешить сложившуюся ситуацию соответствующие...   \n",
              "7341  прошу помогите новом составе выставляет нам сч...   \n",
              "7342  возмущены правосудием бывший сотрудник полиции...   \n",
              "\n",
              "                                              text_prep  \\\n",
              "0      обращаются жильцы можем заверить что и других...   \n",
              "1      мая происходит залитие подвала многоквартирно...   \n",
              "2      вечер ребенка инвалида являюсь матерью одиноч...   \n",
              "3     здравствуйте нашего дома находится в полуразру...   \n",
              "4     здравствуйте зовут вопрос касается отопления и...   \n",
              "...                                                 ...   \n",
              "7338   день квартиру в материнский капитал этом доку...   \n",
              "7339  здравствуйте проблема в том что приставы списы...   \n",
              "7340   разрешить сложившуюся ситуацию и соответствую...   \n",
              "7341   прошу помогите в новом составе выставляет нам...   \n",
              "7342   возмущены правосудием бывший сотрудник полици...   \n",
              "\n",
              "                                              text_stem  \\\n",
              "0     обраща жильц мож завер друг дом наш микрорайон...   \n",
              "1     ма происход залит подва многоквартирн дом фека...   \n",
              "2     вечер ребенк инвалид явля матер одиночк обрат ...   \n",
              "3     наш дом наход полуразрушен состоян управлен жи...   \n",
              "4     зовут вопрос каса отоплен сумм котор нам квита...   \n",
              "...                                                 ...   \n",
              "7338  квартир материнск капита документ департамент ...   \n",
              "7339  проблем пристав списыва мо зарплат работа почт...   \n",
              "7340  разреш слож ситуац соответств мер неоднократн ...   \n",
              "7341  прош помог нов состав выставля нам счет оказыв...   \n",
              "7342  возмущ правосуд бывш сотрудник полиц закон осу...   \n",
              "\n",
              "                                              text_lemm  \n",
              "0     обращаться жилец мочь заверить дом наш микрора...  \n",
              "1     май происходить залитие подвал многоквартирный...  \n",
              "2     вечер ребёнок инвалид являться мать одиночка о...  \n",
              "3     наш дом находиться полуразрушить состояние упр...  \n",
              "4     звать вопрос касаться отопление сумма который ...  \n",
              "...                                                 ...  \n",
              "7338  квартира материнский капитал документ департам...  \n",
              "7339  проблема пристав списывать зарплата работать п...  \n",
              "7340  разрешить сложиться ситуация соответствующий м...  \n",
              "7341  просить помочь новый состав выставлять счёт ок...  \n",
              "7342  возмутить правосудие бывший сотрудник полиция ...  \n",
              "\n",
              "[7343 rows x 7 columns]"
            ],
            "text/html": [
              "\n",
              "  <div id=\"df-7bc9a6b7-8ef7-4d71-9b37-3d800bbd6af9\">\n",
              "    <div class=\"colab-df-container\">\n",
              "      <div>\n",
              "<style scoped>\n",
              "    .dataframe tbody tr th:only-of-type {\n",
              "        vertical-align: middle;\n",
              "    }\n",
              "\n",
              "    .dataframe tbody tr th {\n",
              "        vertical-align: top;\n",
              "    }\n",
              "\n",
              "    .dataframe thead th {\n",
              "        text-align: right;\n",
              "    }\n",
              "</style>\n",
              "<table border=\"1\" class=\"dataframe\">\n",
              "  <thead>\n",
              "    <tr style=\"text-align: right;\">\n",
              "      <th></th>\n",
              "      <th>sphere</th>\n",
              "      <th>category</th>\n",
              "      <th>theme</th>\n",
              "      <th>text</th>\n",
              "      <th>text_prep</th>\n",
              "      <th>text_stem</th>\n",
              "      <th>text_lemm</th>\n",
              "    </tr>\n",
              "  </thead>\n",
              "  <tbody>\n",
              "    <tr>\n",
              "      <th>0</th>\n",
              "      <td>Жилищно-коммунальное хозяйство</td>\n",
              "      <td>Многоквартирные дома</td>\n",
              "      <td>Нарушения в вопросах оплаты услуг ЖКХ</td>\n",
              "      <td>обращаются жильцы можем заверить других домов ...</td>\n",
              "      <td>обращаются жильцы можем заверить что и других...</td>\n",
              "      <td>обраща жильц мож завер друг дом наш микрорайон...</td>\n",
              "      <td>обращаться жилец мочь заверить дом наш микрора...</td>\n",
              "    </tr>\n",
              "    <tr>\n",
              "      <th>1</th>\n",
              "      <td>Жилищно-коммунальное хозяйство</td>\n",
              "      <td>Многоквартирные дома</td>\n",
              "      <td>Содержание МКД и придомовой территории *</td>\n",
              "      <td>мая происходит залитие подвала многоквартирног...</td>\n",
              "      <td>мая происходит залитие подвала многоквартирно...</td>\n",
              "      <td>ма происход залит подва многоквартирн дом фека...</td>\n",
              "      <td>май происходить залитие подвал многоквартирный...</td>\n",
              "    </tr>\n",
              "    <tr>\n",
              "      <th>2</th>\n",
              "      <td>Жилищно-коммунальное хозяйство</td>\n",
              "      <td>Государственный, муниципальный и ведомственный...</td>\n",
              "      <td>Обеспечение жильем ветеранов, инвалидов и семе...</td>\n",
              "      <td>вечер ребенка инвалида являюсь матерью одиночк...</td>\n",
              "      <td>вечер ребенка инвалида являюсь матерью одиноч...</td>\n",
              "      <td>вечер ребенк инвалид явля матер одиночк обрат ...</td>\n",
              "      <td>вечер ребёнок инвалид являться мать одиночка о...</td>\n",
              "    </tr>\n",
              "    <tr>\n",
              "      <th>3</th>\n",
              "      <td>Жилищно-коммунальное хозяйство</td>\n",
              "      <td>Многоквартирные дома</td>\n",
              "      <td>Капитальный ремонт многоквартирного дома *</td>\n",
              "      <td>нашего дома находится полуразрушенном состояни...</td>\n",
              "      <td>здравствуйте нашего дома находится в полуразру...</td>\n",
              "      <td>наш дом наход полуразрушен состоян управлен жи...</td>\n",
              "      <td>наш дом находиться полуразрушить состояние упр...</td>\n",
              "    </tr>\n",
              "    <tr>\n",
              "      <th>4</th>\n",
              "      <td>Жилищно-коммунальное хозяйство</td>\n",
              "      <td>Многоквартирные дома</td>\n",
              "      <td>Нарушения в вопросах оплаты услуг ЖКХ</td>\n",
              "      <td>зовут вопрос касается отопления сумм которые н...</td>\n",
              "      <td>здравствуйте зовут вопрос касается отопления и...</td>\n",
              "      <td>зовут вопрос каса отоплен сумм котор нам квита...</td>\n",
              "      <td>звать вопрос касаться отопление сумма который ...</td>\n",
              "    </tr>\n",
              "    <tr>\n",
              "      <th>...</th>\n",
              "      <td>...</td>\n",
              "      <td>...</td>\n",
              "      <td>...</td>\n",
              "      <td>...</td>\n",
              "      <td>...</td>\n",
              "      <td>...</td>\n",
              "      <td>...</td>\n",
              "    </tr>\n",
              "    <tr>\n",
              "      <th>7338</th>\n",
              "      <td>Неправомерная деятельность органов власти</td>\n",
              "      <td>Деяние (действие или бездействие) руководителе...</td>\n",
              "      <td>Жалобы на чиновников ИОГВ</td>\n",
              "      <td>квартиру материнский капитал документы департа...</td>\n",
              "      <td>день квартиру в материнский капитал этом доку...</td>\n",
              "      <td>квартир материнск капита документ департамент ...</td>\n",
              "      <td>квартира материнский капитал документ департам...</td>\n",
              "    </tr>\n",
              "    <tr>\n",
              "      <th>7339</th>\n",
              "      <td>Неправомерная деятельность органов власти</td>\n",
              "      <td>Деяние (действие или бездействие) сотрудников ...</td>\n",
              "      <td>Жалобы на сотрудников региональных представите...</td>\n",
              "      <td>проблема приставы списывают мою зарплату работ...</td>\n",
              "      <td>здравствуйте проблема в том что приставы списы...</td>\n",
              "      <td>проблем пристав списыва мо зарплат работа почт...</td>\n",
              "      <td>проблема пристав списывать зарплата работать п...</td>\n",
              "    </tr>\n",
              "    <tr>\n",
              "      <th>7340</th>\n",
              "      <td>Неправомерная деятельность органов власти</td>\n",
              "      <td>Деятельность органов местного самоуправления (...</td>\n",
              "      <td>Жалобы на чиновников</td>\n",
              "      <td>разрешить сложившуюся ситуацию соответствующие...</td>\n",
              "      <td>разрешить сложившуюся ситуацию и соответствую...</td>\n",
              "      <td>разреш слож ситуац соответств мер неоднократн ...</td>\n",
              "      <td>разрешить сложиться ситуация соответствующий м...</td>\n",
              "    </tr>\n",
              "    <tr>\n",
              "      <th>7341</th>\n",
              "      <td>Неправомерная деятельность органов власти</td>\n",
              "      <td>Деяние (действие или бездействие) руководителе...</td>\n",
              "      <td>Жалобы на чиновников ИОГВ</td>\n",
              "      <td>прошу помогите новом составе выставляет нам сч...</td>\n",
              "      <td>прошу помогите в новом составе выставляет нам...</td>\n",
              "      <td>прош помог нов состав выставля нам счет оказыв...</td>\n",
              "      <td>просить помочь новый состав выставлять счёт ок...</td>\n",
              "    </tr>\n",
              "    <tr>\n",
              "      <th>7342</th>\n",
              "      <td>Неправомерная деятельность органов власти</td>\n",
              "      <td>Деяние (действие или бездействие) сотрудников ...</td>\n",
              "      <td>Жалобы на сотрудников региональных представите...</td>\n",
              "      <td>возмущены правосудием бывший сотрудник полиции...</td>\n",
              "      <td>возмущены правосудием бывший сотрудник полици...</td>\n",
              "      <td>возмущ правосуд бывш сотрудник полиц закон осу...</td>\n",
              "      <td>возмутить правосудие бывший сотрудник полиция ...</td>\n",
              "    </tr>\n",
              "  </tbody>\n",
              "</table>\n",
              "<p>7343 rows × 7 columns</p>\n",
              "</div>\n",
              "      <button class=\"colab-df-convert\" onclick=\"convertToInteractive('df-7bc9a6b7-8ef7-4d71-9b37-3d800bbd6af9')\"\n",
              "              title=\"Convert this dataframe to an interactive table.\"\n",
              "              style=\"display:none;\">\n",
              "        \n",
              "  <svg xmlns=\"http://www.w3.org/2000/svg\" height=\"24px\"viewBox=\"0 0 24 24\"\n",
              "       width=\"24px\">\n",
              "    <path d=\"M0 0h24v24H0V0z\" fill=\"none\"/>\n",
              "    <path d=\"M18.56 5.44l.94 2.06.94-2.06 2.06-.94-2.06-.94-.94-2.06-.94 2.06-2.06.94zm-11 1L8.5 8.5l.94-2.06 2.06-.94-2.06-.94L8.5 2.5l-.94 2.06-2.06.94zm10 10l.94 2.06.94-2.06 2.06-.94-2.06-.94-.94-2.06-.94 2.06-2.06.94z\"/><path d=\"M17.41 7.96l-1.37-1.37c-.4-.4-.92-.59-1.43-.59-.52 0-1.04.2-1.43.59L10.3 9.45l-7.72 7.72c-.78.78-.78 2.05 0 2.83L4 21.41c.39.39.9.59 1.41.59.51 0 1.02-.2 1.41-.59l7.78-7.78 2.81-2.81c.8-.78.8-2.07 0-2.86zM5.41 20L4 18.59l7.72-7.72 1.47 1.35L5.41 20z\"/>\n",
              "  </svg>\n",
              "      </button>\n",
              "      \n",
              "  <style>\n",
              "    .colab-df-container {\n",
              "      display:flex;\n",
              "      flex-wrap:wrap;\n",
              "      gap: 12px;\n",
              "    }\n",
              "\n",
              "    .colab-df-convert {\n",
              "      background-color: #E8F0FE;\n",
              "      border: none;\n",
              "      border-radius: 50%;\n",
              "      cursor: pointer;\n",
              "      display: none;\n",
              "      fill: #1967D2;\n",
              "      height: 32px;\n",
              "      padding: 0 0 0 0;\n",
              "      width: 32px;\n",
              "    }\n",
              "\n",
              "    .colab-df-convert:hover {\n",
              "      background-color: #E2EBFA;\n",
              "      box-shadow: 0px 1px 2px rgba(60, 64, 67, 0.3), 0px 1px 3px 1px rgba(60, 64, 67, 0.15);\n",
              "      fill: #174EA6;\n",
              "    }\n",
              "\n",
              "    [theme=dark] .colab-df-convert {\n",
              "      background-color: #3B4455;\n",
              "      fill: #D2E3FC;\n",
              "    }\n",
              "\n",
              "    [theme=dark] .colab-df-convert:hover {\n",
              "      background-color: #434B5C;\n",
              "      box-shadow: 0px 1px 3px 1px rgba(0, 0, 0, 0.15);\n",
              "      filter: drop-shadow(0px 1px 2px rgba(0, 0, 0, 0.3));\n",
              "      fill: #FFFFFF;\n",
              "    }\n",
              "  </style>\n",
              "\n",
              "      <script>\n",
              "        const buttonEl =\n",
              "          document.querySelector('#df-7bc9a6b7-8ef7-4d71-9b37-3d800bbd6af9 button.colab-df-convert');\n",
              "        buttonEl.style.display =\n",
              "          google.colab.kernel.accessAllowed ? 'block' : 'none';\n",
              "\n",
              "        async function convertToInteractive(key) {\n",
              "          const element = document.querySelector('#df-7bc9a6b7-8ef7-4d71-9b37-3d800bbd6af9');\n",
              "          const dataTable =\n",
              "            await google.colab.kernel.invokeFunction('convertToInteractive',\n",
              "                                                     [key], {});\n",
              "          if (!dataTable) return;\n",
              "\n",
              "          const docLinkHtml = 'Like what you see? Visit the ' +\n",
              "            '<a target=\"_blank\" href=https://colab.research.google.com/notebooks/data_table.ipynb>data table notebook</a>'\n",
              "            + ' to learn more about interactive tables.';\n",
              "          element.innerHTML = '';\n",
              "          dataTable['output_type'] = 'display_data';\n",
              "          await google.colab.output.renderOutput(dataTable, element);\n",
              "          const docLink = document.createElement('div');\n",
              "          docLink.innerHTML = docLinkHtml;\n",
              "          element.appendChild(docLink);\n",
              "        }\n",
              "      </script>\n",
              "    </div>\n",
              "  </div>\n",
              "  "
            ]
          },
          "metadata": {},
          "execution_count": 29
        }
      ]
    },
    {
      "cell_type": "code",
      "source": [
        "X = df_res['text_lemm']\n",
        "y = df_res['sphere']\n"
      ],
      "metadata": {
        "id": "sWb6RBBpmAdA"
      },
      "execution_count": 30,
      "outputs": []
    },
    {
      "cell_type": "code",
      "source": [
        "from sklearn.model_selection import StratifiedKFold\n",
        "skf = StratifiedKFold(n_splits=2, shuffle=True)\n",
        "skf.get_n_splits(X, y)\n",
        "for train_index, test_index in skf.split(X, y):\n",
        "    X_train, X_test = X[train_index], X[test_index]\n",
        "    y_train, y_test = y[train_index], y[test_index]"
      ],
      "metadata": {
        "id": "vSdusrZvQMsi"
      },
      "execution_count": 64,
      "outputs": []
    },
    {
      "cell_type": "code",
      "source": [
        "from sklearn.pipeline import Pipeline\n",
        "from sklearn.feature_extraction.text import TfidfTransformer\n",
        "from sklearn.feature_extraction.text import CountVectorizer\n",
        "from sklearn.ensemble import ExtraTreesClassifier\n",
        "from sklearn.metrics import accuracy_score\n",
        "from sklearn.metrics import f1_score\n",
        "from sklearn.metrics import classification_report"
      ],
      "metadata": {
        "id": "UF4jKM35QMpP"
      },
      "execution_count": 65,
      "outputs": []
    },
    {
      "cell_type": "code",
      "source": [
        "from sklearn.linear_model import LogisticRegression\n",
        "\n",
        "logreg = Pipeline([('vect', CountVectorizer()),\n",
        "                ('tfidf', TfidfTransformer()),\n",
        "                ('clf', LogisticRegression(n_jobs=1, C=1e5)),\n",
        "               ])"
      ],
      "metadata": {
        "id": "xDE2pHB8y-_N"
      },
      "execution_count": 66,
      "outputs": []
    },
    {
      "cell_type": "code",
      "source": [
        "logreg.fit(X_train, y_train)"
      ],
      "metadata": {
        "id": "ctDu6kq40JFI",
        "colab": {
          "base_uri": "https://localhost:8080/"
        },
        "outputId": "76846127-cbff-4307-a47d-df8b343bbdfa"
      },
      "execution_count": 67,
      "outputs": [
        {
          "output_type": "stream",
          "name": "stderr",
          "text": [
            "/usr/local/lib/python3.7/dist-packages/sklearn/linear_model/_logistic.py:818: ConvergenceWarning: lbfgs failed to converge (status=1):\n",
            "STOP: TOTAL NO. of ITERATIONS REACHED LIMIT.\n",
            "\n",
            "Increase the number of iterations (max_iter) or scale the data as shown in:\n",
            "    https://scikit-learn.org/stable/modules/preprocessing.html\n",
            "Please also refer to the documentation for alternative solver options:\n",
            "    https://scikit-learn.org/stable/modules/linear_model.html#logistic-regression\n",
            "  extra_warning_msg=_LOGISTIC_SOLVER_CONVERGENCE_MSG,\n"
          ]
        },
        {
          "output_type": "execute_result",
          "data": {
            "text/plain": [
              "Pipeline(steps=[('vect', CountVectorizer()), ('tfidf', TfidfTransformer()),\n",
              "                ('clf', LogisticRegression(C=100000.0, n_jobs=1))])"
            ]
          },
          "metadata": {},
          "execution_count": 67
        }
      ]
    },
    {
      "cell_type": "code",
      "source": [
        "y_pred = logreg.predict(X_test)"
      ],
      "metadata": {
        "id": "HO2lD8Mh0Ly6"
      },
      "execution_count": 68,
      "outputs": []
    },
    {
      "cell_type": "code",
      "source": [
        "print('accuracy %s' % accuracy_score(y_pred, y_test))\n",
        "print('f1 score %s' % f1_score(y_pred, y_test, average = 'weighted'))\n",
        "print(classification_report(y_test, y_pred,target_names=spheres))"
      ],
      "metadata": {
        "colab": {
          "base_uri": "https://localhost:8080/"
        },
        "id": "nLQc32ZF0OTT",
        "outputId": "2b5c6b31-b931-4205-c52e-019363b47ab5"
      },
      "execution_count": 60,
      "outputs": [
        {
          "output_type": "stream",
          "name": "stdout",
          "text": [
            "accuracy 0.8046289993192648\n",
            "f1 score 0.8090350491656119\n",
            "                                                                                                   precision    recall  f1-score   support\n",
            "\n",
            "                                                                   Жилищно-коммунальное хозяйство       0.81      0.86      0.83       265\n",
            "                                                                                  Здравоохранение       0.76      0.77      0.76       276\n",
            "Благоустройство населённых пунктов (площади, парки, скверы, улицы, дворовые территории, кладбища)       0.83      0.83      0.83       381\n",
            "                                                                             Автомобильные дороги       0.89      0.92      0.90       283\n",
            "                                                                 Социальное обеспечение населения       0.67      0.29      0.40        21\n",
            "                                                                      Общественный транспорт (ОТ)       0.85      0.61      0.71        36\n",
            "                                                                                      Образование       0.97      0.77      0.86        48\n",
            "                                                                                           Прочее       0.94      0.67      0.78        24\n",
            "                                                                                     Правопорядок       0.25      0.12      0.16        25\n",
            "                                                                                         Экология       0.56      0.84      0.67        61\n",
            "                                                                               Трудовые отношения       0.73      0.48      0.58        23\n",
            "                                                        Неправомерная деятельность органов власти       0.82      0.69      0.75        26\n",
            "\n",
            "                                                                                         accuracy                           0.80      1469\n",
            "                                                                                        macro avg       0.76      0.65      0.69      1469\n",
            "                                                                                     weighted avg       0.80      0.80      0.80      1469\n",
            "\n"
          ]
        }
      ]
    },
    {
      "cell_type": "code",
      "source": [
        "from sklearn.svm import SVC\n",
        "from sklearn.tree import DecisionTreeClassifier\n",
        "from sklearn.neighbors import KNeighborsClassifier\n",
        "from sklearn.ensemble import RandomForestClassifier\n",
        "from sklearn.ensemble import AdaBoostClassifier\n",
        "from sklearn.ensemble import BaggingClassifier\n",
        "from sklearn.ensemble import ExtraTreesClassifier\n",
        "from sklearn.metrics import accuracy_score\n",
        "from sklearn.metrics import f1_score\n",
        "\n",
        "svc = SVC(kernel='sigmoid', gamma=1.0)\n",
        "knc = KNeighborsClassifier(n_neighbors=49)\n",
        "dtc = DecisionTreeClassifier(min_samples_split=7, random_state=111)\n",
        "rfc = RandomForestClassifier(n_estimators=31, random_state=111)\n",
        "abc = AdaBoostClassifier(n_estimators=62, random_state=111)\n",
        "bc = BaggingClassifier(n_estimators=9, random_state=111)\n",
        "etc = ExtraTreesClassifier(n_estimators=9, random_state=111)"
      ],
      "metadata": {
        "id": "8WbyIZzy0Q_c"
      },
      "execution_count": 69,
      "outputs": []
    },
    {
      "cell_type": "code",
      "source": [
        "dtc = Pipeline([('vect', CountVectorizer()),\n",
        "                ('tfidf', TfidfTransformer()),\n",
        "                ('clf', dtc),\n",
        "               ])\n",
        "\n",
        "dtc.fit(X_train, y_train)\n",
        "\n",
        "y_pred = dtc.predict(X_test)\n",
        "\n",
        "print('accuracy %s' % accuracy_score(y_pred, y_test))\n",
        "print('f1 score %s' % f1_score(y_pred, y_test, average = 'weighted'))\n",
        "print(classification_report(y_test, y_pred,target_names=spheres))"
      ],
      "metadata": {
        "id": "T8_QqTM2ayI_",
        "colab": {
          "base_uri": "https://localhost:8080/"
        },
        "outputId": "2fe57301-892e-492a-bfa5-f1c5b20a6bef"
      },
      "execution_count": 70,
      "outputs": [
        {
          "output_type": "stream",
          "name": "stdout",
          "text": [
            "accuracy 0.6578588940343231\n",
            "f1 score 0.6616607174392689\n",
            "                                                                                                   precision    recall  f1-score   support\n",
            "\n",
            "                                                                   Жилищно-коммунальное хозяйство       0.67      0.70      0.69       636\n",
            "                                                                                  Здравоохранение       0.55      0.56      0.56       695\n",
            "Благоустройство населённых пунктов (площади, парки, скверы, улицы, дворовые территории, кладбища)       0.70      0.74      0.72       930\n",
            "                                                                             Автомобильные дороги       0.83      0.83      0.83       748\n",
            "                                                                 Социальное обеспечение населения       0.11      0.11      0.11        47\n",
            "                                                                      Общественный транспорт (ОТ)       0.50      0.51      0.51       105\n",
            "                                                                                      Образование       0.66      0.64      0.65       108\n",
            "                                                                                           Прочее       0.45      0.30      0.36        57\n",
            "                                                                                     Правопорядок       0.11      0.11      0.11        70\n",
            "                                                                                         Экология       0.56      0.49      0.53       170\n",
            "                                                                               Трудовые отношения       0.42      0.22      0.29        50\n",
            "                                                        Неправомерная деятельность органов власти       0.59      0.35      0.44        55\n",
            "\n",
            "                                                                                         accuracy                           0.66      3671\n",
            "                                                                                        macro avg       0.51      0.46      0.48      3671\n",
            "                                                                                     weighted avg       0.65      0.66      0.65      3671\n",
            "\n"
          ]
        }
      ]
    },
    {
      "cell_type": "code",
      "source": [
        "rfc = Pipeline([('vect', CountVectorizer()),\n",
        "                ('tfidf', TfidfTransformer()),\n",
        "                ('clf', rfc),\n",
        "               ])\n",
        "\n",
        "rfc.fit(X_train, y_train)\n",
        "\n",
        "y_pred = rfc.predict(X_test)\n",
        "\n",
        "print('accuracy %s' % accuracy_score(y_pred, y_test))\n",
        "print('f1 score %s' % f1_score(y_pred, y_test, average = 'weighted'))\n",
        "print(classification_report(y_test, y_pred,target_names=spheres))"
      ],
      "metadata": {
        "colab": {
          "base_uri": "https://localhost:8080/"
        },
        "id": "63sUFMgHNivX",
        "outputId": "97640543-cdcf-4eba-ae48-4d33e3272e1b"
      },
      "execution_count": 71,
      "outputs": [
        {
          "output_type": "stream",
          "name": "stdout",
          "text": [
            "accuracy 0.7499318986652138\n",
            "f1 score 0.7763689671660737\n",
            "                                                                                                   precision    recall  f1-score   support\n",
            "\n",
            "                                                                   Жилищно-коммунальное хозяйство       0.72      0.86      0.79       636\n",
            "                                                                                  Здравоохранение       0.73      0.67      0.70       695\n",
            "Благоустройство населённых пунктов (площади, парки, скверы, улицы, дворовые территории, кладбища)       0.75      0.85      0.80       930\n",
            "                                                                             Автомобильные дороги       0.83      0.96      0.89       748\n",
            "                                                                 Социальное обеспечение населения       1.00      0.02      0.04        47\n",
            "                                                                      Общественный транспорт (ОТ)       0.90      0.33      0.49       105\n",
            "                                                                                      Образование       0.88      0.71      0.79       108\n",
            "                                                                                           Прочее       1.00      0.21      0.35        57\n",
            "                                                                                     Правопорядок       0.25      0.01      0.03        70\n",
            "                                                                                         Экология       0.46      0.56      0.51       170\n",
            "                                                                               Трудовые отношения       0.00      0.00      0.00        50\n",
            "                                                        Неправомерная деятельность органов власти       1.00      0.16      0.28        55\n",
            "\n",
            "                                                                                         accuracy                           0.75      3671\n",
            "                                                                                        macro avg       0.71      0.45      0.47      3671\n",
            "                                                                                     weighted avg       0.74      0.75      0.72      3671\n",
            "\n"
          ]
        },
        {
          "output_type": "stream",
          "name": "stderr",
          "text": [
            "/usr/local/lib/python3.7/dist-packages/sklearn/metrics/_classification.py:1318: UndefinedMetricWarning: Precision and F-score are ill-defined and being set to 0.0 in labels with no predicted samples. Use `zero_division` parameter to control this behavior.\n",
            "  _warn_prf(average, modifier, msg_start, len(result))\n",
            "/usr/local/lib/python3.7/dist-packages/sklearn/metrics/_classification.py:1318: UndefinedMetricWarning: Precision and F-score are ill-defined and being set to 0.0 in labels with no predicted samples. Use `zero_division` parameter to control this behavior.\n",
            "  _warn_prf(average, modifier, msg_start, len(result))\n",
            "/usr/local/lib/python3.7/dist-packages/sklearn/metrics/_classification.py:1318: UndefinedMetricWarning: Precision and F-score are ill-defined and being set to 0.0 in labels with no predicted samples. Use `zero_division` parameter to control this behavior.\n",
            "  _warn_prf(average, modifier, msg_start, len(result))\n"
          ]
        }
      ]
    },
    {
      "cell_type": "code",
      "source": [
        "bc = Pipeline([('vect', CountVectorizer()),\n",
        "                ('tfidf', TfidfTransformer()),\n",
        "                ('clf', bc),\n",
        "               ])\n",
        "\n",
        "bc.fit(X_train, y_train)\n",
        "\n",
        "y_pred = bc.predict(X_test)\n",
        "\n",
        "print('accuracy %s' % accuracy_score(y_pred, y_test))\n",
        "print('f1 score %s' % f1_score(y_pred, y_test, average = 'weighted'))\n",
        "print(classification_report(y_test, y_pred,target_names=spheres))"
      ],
      "metadata": {
        "id": "1uXFB_ojax6u",
        "colab": {
          "base_uri": "https://localhost:8080/"
        },
        "outputId": "5e5e251c-8eb4-4d9e-dac9-2c6022971ad4"
      },
      "execution_count": 72,
      "outputs": [
        {
          "output_type": "stream",
          "name": "stdout",
          "text": [
            "accuracy 0.7139743938981205\n",
            "f1 score 0.7292693208104399\n",
            "                                                                                                   precision    recall  f1-score   support\n",
            "\n",
            "                                                                   Жилищно-коммунальное хозяйство       0.71      0.81      0.76       636\n",
            "                                                                                  Здравоохранение       0.65      0.59      0.62       695\n",
            "Благоустройство населённых пунктов (площади, парки, скверы, улицы, дворовые территории, кладбища)       0.73      0.78      0.75       930\n",
            "                                                                             Автомобильные дороги       0.84      0.91      0.88       748\n",
            "                                                                 Социальное обеспечение населения       0.38      0.11      0.17        47\n",
            "                                                                      Общественный транспорт (ОТ)       0.67      0.59      0.63       105\n",
            "                                                                                      Образование       0.78      0.75      0.76       108\n",
            "                                                                                           Прочее       0.89      0.28      0.43        57\n",
            "                                                                                     Правопорядок       0.05      0.01      0.02        70\n",
            "                                                                                         Экология       0.45      0.59      0.51       170\n",
            "                                                                               Трудовые отношения       0.33      0.06      0.10        50\n",
            "                                                        Неправомерная деятельность органов власти       0.74      0.31      0.44        55\n",
            "\n",
            "                                                                                         accuracy                           0.71      3671\n",
            "                                                                                        macro avg       0.60      0.48      0.51      3671\n",
            "                                                                                     weighted avg       0.70      0.71      0.70      3671\n",
            "\n"
          ]
        }
      ]
    },
    {
      "cell_type": "code",
      "source": [
        "etc = Pipeline([('vect', CountVectorizer()),\n",
        "                ('tfidf', TfidfTransformer()),\n",
        "                ('clf', etc),\n",
        "               ])\n",
        "\n",
        "etc.fit(X_train, y_train)\n",
        "\n",
        "y_pred = etc.predict(X_test)\n",
        "print('accuracy %s' % accuracy_score(y_pred, y_test))\n",
        "print('f1 score %s' % f1_score(y_pred, y_test, average = 'weighted'))\n",
        "print(classification_report(y_test, y_pred,target_names=spheres))"
      ],
      "metadata": {
        "id": "UED1eY81ax2n",
        "colab": {
          "base_uri": "https://localhost:8080/"
        },
        "outputId": "e6ff44f3-2c6a-4b4a-fdaa-b0ac66af8c66"
      },
      "execution_count": 54,
      "outputs": [
        {
          "output_type": "stream",
          "name": "stdout",
          "text": [
            "accuracy 0.7052416609938734\n",
            "f1 score 0.7287304463102556\n",
            "                                                                                                   precision    recall  f1-score   support\n",
            "\n",
            "                                                                   Жилищно-коммунальное хозяйство       0.67      0.76      0.71       265\n",
            "                                                                                  Здравоохранение       0.59      0.66      0.62       276\n",
            "Благоустройство населённых пунктов (площади, парки, скверы, улицы, дворовые территории, кладбища)       0.71      0.78      0.74       381\n",
            "                                                                             Автомобильные дороги       0.82      0.95      0.88       283\n",
            "                                                                 Социальное обеспечение населения       1.00      0.05      0.09        21\n",
            "                                                                      Общественный транспорт (ОТ)       0.69      0.25      0.37        36\n",
            "                                                                                      Образование       0.82      0.58      0.68        48\n",
            "                                                                                           Прочее       0.93      0.54      0.68        24\n",
            "                                                                                     Правопорядок       0.00      0.00      0.00        25\n",
            "                                                                                         Экология       0.63      0.48      0.54        61\n",
            "                                                                               Трудовые отношения       0.50      0.04      0.08        23\n",
            "                                                        Неправомерная деятельность органов власти       0.83      0.19      0.31        26\n",
            "\n",
            "                                                                                         accuracy                           0.71      1469\n",
            "                                                                                        macro avg       0.68      0.44      0.48      1469\n",
            "                                                                                     weighted avg       0.70      0.71      0.68      1469\n",
            "\n"
          ]
        },
        {
          "output_type": "stream",
          "name": "stderr",
          "text": [
            "/usr/local/lib/python3.7/dist-packages/sklearn/metrics/_classification.py:1318: UndefinedMetricWarning: Precision and F-score are ill-defined and being set to 0.0 in labels with no predicted samples. Use `zero_division` parameter to control this behavior.\n",
            "  _warn_prf(average, modifier, msg_start, len(result))\n",
            "/usr/local/lib/python3.7/dist-packages/sklearn/metrics/_classification.py:1318: UndefinedMetricWarning: Precision and F-score are ill-defined and being set to 0.0 in labels with no predicted samples. Use `zero_division` parameter to control this behavior.\n",
            "  _warn_prf(average, modifier, msg_start, len(result))\n",
            "/usr/local/lib/python3.7/dist-packages/sklearn/metrics/_classification.py:1318: UndefinedMetricWarning: Precision and F-score are ill-defined and being set to 0.0 in labels with no predicted samples. Use `zero_division` parameter to control this behavior.\n",
            "  _warn_prf(average, modifier, msg_start, len(result))\n"
          ]
        }
      ]
    },
    {
      "cell_type": "code",
      "source": [
        ""
      ],
      "metadata": {
        "id": "d1LtMl__axxg"
      },
      "execution_count": null,
      "outputs": []
    }
  ],
  "metadata": {
    "kernelspec": {
      "display_name": "Python 3",
      "language": "python",
      "name": "python3"
    },
    "language_info": {
      "codemirror_mode": {
        "name": "ipython",
        "version": 2
      },
      "file_extension": ".py",
      "mimetype": "text/x-python",
      "name": "python",
      "nbconvert_exporter": "python",
      "pygments_lexer": "ipython2",
      "version": "2.7.6"
    },
    "colab": {
      "name": "Классификация",
      "provenance": [],
      "collapsed_sections": [],
      "include_colab_link": true
    },
    "widgets": {
      "application/vnd.jupyter.widget-state+json": {
        "1e2a4589f32c4952b764b1bc3e69808b": {
          "model_module": "@jupyter-widgets/controls",
          "model_name": "HBoxModel",
          "model_module_version": "1.5.0",
          "state": {
            "_dom_classes": [],
            "_model_module": "@jupyter-widgets/controls",
            "_model_module_version": "1.5.0",
            "_model_name": "HBoxModel",
            "_view_count": null,
            "_view_module": "@jupyter-widgets/controls",
            "_view_module_version": "1.5.0",
            "_view_name": "HBoxView",
            "box_style": "",
            "children": [
              "IPY_MODEL_2dfbb75779a24e3c81c0ab8e04f28ccb",
              "IPY_MODEL_914829c3d0624f33824a18c777601973",
              "IPY_MODEL_297700d7ce2340a895ac01da4930db2c"
            ],
            "layout": "IPY_MODEL_e39393e9c94c42a8b964906ba005a9f3"
          }
        },
        "2dfbb75779a24e3c81c0ab8e04f28ccb": {
          "model_module": "@jupyter-widgets/controls",
          "model_name": "HTMLModel",
          "model_module_version": "1.5.0",
          "state": {
            "_dom_classes": [],
            "_model_module": "@jupyter-widgets/controls",
            "_model_module_version": "1.5.0",
            "_model_name": "HTMLModel",
            "_view_count": null,
            "_view_module": "@jupyter-widgets/controls",
            "_view_module_version": "1.5.0",
            "_view_name": "HTMLView",
            "description": "",
            "description_tooltip": null,
            "layout": "IPY_MODEL_5e47e7dd20d04c9ba83c387c6a74d0b4",
            "placeholder": "​",
            "style": "IPY_MODEL_26d6f2020142479ebe1531e0b6bd118d",
            "value": "100%"
          }
        },
        "914829c3d0624f33824a18c777601973": {
          "model_module": "@jupyter-widgets/controls",
          "model_name": "FloatProgressModel",
          "model_module_version": "1.5.0",
          "state": {
            "_dom_classes": [],
            "_model_module": "@jupyter-widgets/controls",
            "_model_module_version": "1.5.0",
            "_model_name": "FloatProgressModel",
            "_view_count": null,
            "_view_module": "@jupyter-widgets/controls",
            "_view_module_version": "1.5.0",
            "_view_name": "ProgressView",
            "bar_style": "success",
            "description": "",
            "description_tooltip": null,
            "layout": "IPY_MODEL_ae4c3211c67e40078a373be7e5eaed47",
            "max": 7343,
            "min": 0,
            "orientation": "horizontal",
            "style": "IPY_MODEL_cb4389ac3eb047dea389925b2c5f5232",
            "value": 7343
          }
        },
        "297700d7ce2340a895ac01da4930db2c": {
          "model_module": "@jupyter-widgets/controls",
          "model_name": "HTMLModel",
          "model_module_version": "1.5.0",
          "state": {
            "_dom_classes": [],
            "_model_module": "@jupyter-widgets/controls",
            "_model_module_version": "1.5.0",
            "_model_name": "HTMLModel",
            "_view_count": null,
            "_view_module": "@jupyter-widgets/controls",
            "_view_module_version": "1.5.0",
            "_view_name": "HTMLView",
            "description": "",
            "description_tooltip": null,
            "layout": "IPY_MODEL_4686a8b68fbc4ac39ab728f6d03e3b4a",
            "placeholder": "​",
            "style": "IPY_MODEL_81ed28981bbb4a88bfff107d7f85e257",
            "value": " 7343/7343 [01:44&lt;00:00, 44.04it/s]"
          }
        },
        "e39393e9c94c42a8b964906ba005a9f3": {
          "model_module": "@jupyter-widgets/base",
          "model_name": "LayoutModel",
          "model_module_version": "1.2.0",
          "state": {
            "_model_module": "@jupyter-widgets/base",
            "_model_module_version": "1.2.0",
            "_model_name": "LayoutModel",
            "_view_count": null,
            "_view_module": "@jupyter-widgets/base",
            "_view_module_version": "1.2.0",
            "_view_name": "LayoutView",
            "align_content": null,
            "align_items": null,
            "align_self": null,
            "border": null,
            "bottom": null,
            "display": null,
            "flex": null,
            "flex_flow": null,
            "grid_area": null,
            "grid_auto_columns": null,
            "grid_auto_flow": null,
            "grid_auto_rows": null,
            "grid_column": null,
            "grid_gap": null,
            "grid_row": null,
            "grid_template_areas": null,
            "grid_template_columns": null,
            "grid_template_rows": null,
            "height": null,
            "justify_content": null,
            "justify_items": null,
            "left": null,
            "margin": null,
            "max_height": null,
            "max_width": null,
            "min_height": null,
            "min_width": null,
            "object_fit": null,
            "object_position": null,
            "order": null,
            "overflow": null,
            "overflow_x": null,
            "overflow_y": null,
            "padding": null,
            "right": null,
            "top": null,
            "visibility": null,
            "width": null
          }
        },
        "5e47e7dd20d04c9ba83c387c6a74d0b4": {
          "model_module": "@jupyter-widgets/base",
          "model_name": "LayoutModel",
          "model_module_version": "1.2.0",
          "state": {
            "_model_module": "@jupyter-widgets/base",
            "_model_module_version": "1.2.0",
            "_model_name": "LayoutModel",
            "_view_count": null,
            "_view_module": "@jupyter-widgets/base",
            "_view_module_version": "1.2.0",
            "_view_name": "LayoutView",
            "align_content": null,
            "align_items": null,
            "align_self": null,
            "border": null,
            "bottom": null,
            "display": null,
            "flex": null,
            "flex_flow": null,
            "grid_area": null,
            "grid_auto_columns": null,
            "grid_auto_flow": null,
            "grid_auto_rows": null,
            "grid_column": null,
            "grid_gap": null,
            "grid_row": null,
            "grid_template_areas": null,
            "grid_template_columns": null,
            "grid_template_rows": null,
            "height": null,
            "justify_content": null,
            "justify_items": null,
            "left": null,
            "margin": null,
            "max_height": null,
            "max_width": null,
            "min_height": null,
            "min_width": null,
            "object_fit": null,
            "object_position": null,
            "order": null,
            "overflow": null,
            "overflow_x": null,
            "overflow_y": null,
            "padding": null,
            "right": null,
            "top": null,
            "visibility": null,
            "width": null
          }
        },
        "26d6f2020142479ebe1531e0b6bd118d": {
          "model_module": "@jupyter-widgets/controls",
          "model_name": "DescriptionStyleModel",
          "model_module_version": "1.5.0",
          "state": {
            "_model_module": "@jupyter-widgets/controls",
            "_model_module_version": "1.5.0",
            "_model_name": "DescriptionStyleModel",
            "_view_count": null,
            "_view_module": "@jupyter-widgets/base",
            "_view_module_version": "1.2.0",
            "_view_name": "StyleView",
            "description_width": ""
          }
        },
        "ae4c3211c67e40078a373be7e5eaed47": {
          "model_module": "@jupyter-widgets/base",
          "model_name": "LayoutModel",
          "model_module_version": "1.2.0",
          "state": {
            "_model_module": "@jupyter-widgets/base",
            "_model_module_version": "1.2.0",
            "_model_name": "LayoutModel",
            "_view_count": null,
            "_view_module": "@jupyter-widgets/base",
            "_view_module_version": "1.2.0",
            "_view_name": "LayoutView",
            "align_content": null,
            "align_items": null,
            "align_self": null,
            "border": null,
            "bottom": null,
            "display": null,
            "flex": null,
            "flex_flow": null,
            "grid_area": null,
            "grid_auto_columns": null,
            "grid_auto_flow": null,
            "grid_auto_rows": null,
            "grid_column": null,
            "grid_gap": null,
            "grid_row": null,
            "grid_template_areas": null,
            "grid_template_columns": null,
            "grid_template_rows": null,
            "height": null,
            "justify_content": null,
            "justify_items": null,
            "left": null,
            "margin": null,
            "max_height": null,
            "max_width": null,
            "min_height": null,
            "min_width": null,
            "object_fit": null,
            "object_position": null,
            "order": null,
            "overflow": null,
            "overflow_x": null,
            "overflow_y": null,
            "padding": null,
            "right": null,
            "top": null,
            "visibility": null,
            "width": null
          }
        },
        "cb4389ac3eb047dea389925b2c5f5232": {
          "model_module": "@jupyter-widgets/controls",
          "model_name": "ProgressStyleModel",
          "model_module_version": "1.5.0",
          "state": {
            "_model_module": "@jupyter-widgets/controls",
            "_model_module_version": "1.5.0",
            "_model_name": "ProgressStyleModel",
            "_view_count": null,
            "_view_module": "@jupyter-widgets/base",
            "_view_module_version": "1.2.0",
            "_view_name": "StyleView",
            "bar_color": null,
            "description_width": ""
          }
        },
        "4686a8b68fbc4ac39ab728f6d03e3b4a": {
          "model_module": "@jupyter-widgets/base",
          "model_name": "LayoutModel",
          "model_module_version": "1.2.0",
          "state": {
            "_model_module": "@jupyter-widgets/base",
            "_model_module_version": "1.2.0",
            "_model_name": "LayoutModel",
            "_view_count": null,
            "_view_module": "@jupyter-widgets/base",
            "_view_module_version": "1.2.0",
            "_view_name": "LayoutView",
            "align_content": null,
            "align_items": null,
            "align_self": null,
            "border": null,
            "bottom": null,
            "display": null,
            "flex": null,
            "flex_flow": null,
            "grid_area": null,
            "grid_auto_columns": null,
            "grid_auto_flow": null,
            "grid_auto_rows": null,
            "grid_column": null,
            "grid_gap": null,
            "grid_row": null,
            "grid_template_areas": null,
            "grid_template_columns": null,
            "grid_template_rows": null,
            "height": null,
            "justify_content": null,
            "justify_items": null,
            "left": null,
            "margin": null,
            "max_height": null,
            "max_width": null,
            "min_height": null,
            "min_width": null,
            "object_fit": null,
            "object_position": null,
            "order": null,
            "overflow": null,
            "overflow_x": null,
            "overflow_y": null,
            "padding": null,
            "right": null,
            "top": null,
            "visibility": null,
            "width": null
          }
        },
        "81ed28981bbb4a88bfff107d7f85e257": {
          "model_module": "@jupyter-widgets/controls",
          "model_name": "DescriptionStyleModel",
          "model_module_version": "1.5.0",
          "state": {
            "_model_module": "@jupyter-widgets/controls",
            "_model_module_version": "1.5.0",
            "_model_name": "DescriptionStyleModel",
            "_view_count": null,
            "_view_module": "@jupyter-widgets/base",
            "_view_module_version": "1.2.0",
            "_view_name": "StyleView",
            "description_width": ""
          }
        }
      }
    }
  },
  "nbformat": 4,
  "nbformat_minor": 0
}