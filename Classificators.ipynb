{
  "cells": [
    {
      "cell_type": "markdown",
      "metadata": {
        "id": "view-in-github",
        "colab_type": "text"
      },
      "source": [
        "<a href=\"https://colab.research.google.com/github/arinamur/Classification/blob/main/Classificators.ipynb\" target=\"_parent\"><img src=\"https://colab.research.google.com/assets/colab-badge.svg\" alt=\"Open In Colab\"/></a>"
      ]
    },
    {
      "cell_type": "code",
      "execution_count": 1,
      "metadata": {
        "collapsed": true,
        "id": "tGoNJIvhHF-E"
      },
      "outputs": [],
      "source": [
        "import pandas as pd\n",
        "import numpy as np"
      ]
    },
    {
      "cell_type": "code",
      "execution_count": 2,
      "metadata": {
        "colab": {
          "base_uri": "https://localhost:8080/"
        },
        "id": "Hd6JbJ9XTDMf",
        "outputId": "5228afc4-d7f9-4f10-e54c-eb6fa0e327e0"
      },
      "outputs": [
        {
          "output_type": "stream",
          "name": "stdout",
          "text": [
            "Mounted at /content/drive\n"
          ]
        }
      ],
      "source": [
        "from google.colab import drive\n",
        "drive.mount('/content/drive')"
      ]
    },
    {
      "cell_type": "code",
      "execution_count": 3,
      "metadata": {
        "id": "2ly4CXZ5HF-N"
      },
      "outputs": [],
      "source": [
        "data = pd.read_excel(\"drive/MyDrive/case_dataset.xlsx\")"
      ]
    },
    {
      "cell_type": "code",
      "execution_count": 4,
      "metadata": {
        "colab": {
          "base_uri": "https://localhost:8080/",
          "height": 206
        },
        "id": "tDWKt5EnHF-V",
        "outputId": "db6b4f57-b44b-4bf5-ad31-c10ead83423a"
      },
      "outputs": [
        {
          "output_type": "execute_result",
          "data": {
            "text/plain": [
              "                           sphere  \\\n",
              "0  Жилищно-коммунальное хозяйство   \n",
              "1                      Энергетика   \n",
              "2       Торговля, товары и услуги   \n",
              "3                 Здравоохранение   \n",
              "4              Трудовые отношения   \n",
              "\n",
              "                                            category  \\\n",
              "0                               Многоквартирные дома   \n",
              "1                                  Электроэнергетика   \n",
              "2                                           Торговля   \n",
              "3  Качество оказания медицинской помощи (в том чи...   \n",
              "4                     Нарушения в сфере охраны труда   \n",
              "\n",
              "                                               theme  \\\n",
              "0              Нарушения в вопросах оплаты услуг ЖКХ   \n",
              "1  Организация электроснабжения населенных пункто...   \n",
              "2  Нарушение санитарных требований к организациям...   \n",
              "3           Оказание медицинской помощи в стационаре   \n",
              "4                     Нарушения в сфере охраны труда   \n",
              "\n",
              "                                                text  \n",
              "0   обращаются жильцы можем заверить что и других...  \n",
              "1   обращаюсь лица моей бабушки проживающие адрес...  \n",
              "2   связи коронавирусом в нашей стране и в нашем ...  \n",
              "3   больнице тракторной отсутствует горячая вода ...  \n",
              "4   работаю начальником отделения почтовой связи ...  "
            ],
            "text/html": [
              "\n",
              "  <div id=\"df-c4ef40c5-be0f-4bf8-9c01-d797cb2de91a\">\n",
              "    <div class=\"colab-df-container\">\n",
              "      <div>\n",
              "<style scoped>\n",
              "    .dataframe tbody tr th:only-of-type {\n",
              "        vertical-align: middle;\n",
              "    }\n",
              "\n",
              "    .dataframe tbody tr th {\n",
              "        vertical-align: top;\n",
              "    }\n",
              "\n",
              "    .dataframe thead th {\n",
              "        text-align: right;\n",
              "    }\n",
              "</style>\n",
              "<table border=\"1\" class=\"dataframe\">\n",
              "  <thead>\n",
              "    <tr style=\"text-align: right;\">\n",
              "      <th></th>\n",
              "      <th>sphere</th>\n",
              "      <th>category</th>\n",
              "      <th>theme</th>\n",
              "      <th>text</th>\n",
              "    </tr>\n",
              "  </thead>\n",
              "  <tbody>\n",
              "    <tr>\n",
              "      <th>0</th>\n",
              "      <td>Жилищно-коммунальное хозяйство</td>\n",
              "      <td>Многоквартирные дома</td>\n",
              "      <td>Нарушения в вопросах оплаты услуг ЖКХ</td>\n",
              "      <td>обращаются жильцы можем заверить что и других...</td>\n",
              "    </tr>\n",
              "    <tr>\n",
              "      <th>1</th>\n",
              "      <td>Энергетика</td>\n",
              "      <td>Электроэнергетика</td>\n",
              "      <td>Организация электроснабжения населенных пункто...</td>\n",
              "      <td>обращаюсь лица моей бабушки проживающие адрес...</td>\n",
              "    </tr>\n",
              "    <tr>\n",
              "      <th>2</th>\n",
              "      <td>Торговля, товары и услуги</td>\n",
              "      <td>Торговля</td>\n",
              "      <td>Нарушение санитарных требований к организациям...</td>\n",
              "      <td>связи коронавирусом в нашей стране и в нашем ...</td>\n",
              "    </tr>\n",
              "    <tr>\n",
              "      <th>3</th>\n",
              "      <td>Здравоохранение</td>\n",
              "      <td>Качество оказания медицинской помощи (в том чи...</td>\n",
              "      <td>Оказание медицинской помощи в стационаре</td>\n",
              "      <td>больнице тракторной отсутствует горячая вода ...</td>\n",
              "    </tr>\n",
              "    <tr>\n",
              "      <th>4</th>\n",
              "      <td>Трудовые отношения</td>\n",
              "      <td>Нарушения в сфере охраны труда</td>\n",
              "      <td>Нарушения в сфере охраны труда</td>\n",
              "      <td>работаю начальником отделения почтовой связи ...</td>\n",
              "    </tr>\n",
              "  </tbody>\n",
              "</table>\n",
              "</div>\n",
              "      <button class=\"colab-df-convert\" onclick=\"convertToInteractive('df-c4ef40c5-be0f-4bf8-9c01-d797cb2de91a')\"\n",
              "              title=\"Convert this dataframe to an interactive table.\"\n",
              "              style=\"display:none;\">\n",
              "        \n",
              "  <svg xmlns=\"http://www.w3.org/2000/svg\" height=\"24px\"viewBox=\"0 0 24 24\"\n",
              "       width=\"24px\">\n",
              "    <path d=\"M0 0h24v24H0V0z\" fill=\"none\"/>\n",
              "    <path d=\"M18.56 5.44l.94 2.06.94-2.06 2.06-.94-2.06-.94-.94-2.06-.94 2.06-2.06.94zm-11 1L8.5 8.5l.94-2.06 2.06-.94-2.06-.94L8.5 2.5l-.94 2.06-2.06.94zm10 10l.94 2.06.94-2.06 2.06-.94-2.06-.94-.94-2.06-.94 2.06-2.06.94z\"/><path d=\"M17.41 7.96l-1.37-1.37c-.4-.4-.92-.59-1.43-.59-.52 0-1.04.2-1.43.59L10.3 9.45l-7.72 7.72c-.78.78-.78 2.05 0 2.83L4 21.41c.39.39.9.59 1.41.59.51 0 1.02-.2 1.41-.59l7.78-7.78 2.81-2.81c.8-.78.8-2.07 0-2.86zM5.41 20L4 18.59l7.72-7.72 1.47 1.35L5.41 20z\"/>\n",
              "  </svg>\n",
              "      </button>\n",
              "      \n",
              "  <style>\n",
              "    .colab-df-container {\n",
              "      display:flex;\n",
              "      flex-wrap:wrap;\n",
              "      gap: 12px;\n",
              "    }\n",
              "\n",
              "    .colab-df-convert {\n",
              "      background-color: #E8F0FE;\n",
              "      border: none;\n",
              "      border-radius: 50%;\n",
              "      cursor: pointer;\n",
              "      display: none;\n",
              "      fill: #1967D2;\n",
              "      height: 32px;\n",
              "      padding: 0 0 0 0;\n",
              "      width: 32px;\n",
              "    }\n",
              "\n",
              "    .colab-df-convert:hover {\n",
              "      background-color: #E2EBFA;\n",
              "      box-shadow: 0px 1px 2px rgba(60, 64, 67, 0.3), 0px 1px 3px 1px rgba(60, 64, 67, 0.15);\n",
              "      fill: #174EA6;\n",
              "    }\n",
              "\n",
              "    [theme=dark] .colab-df-convert {\n",
              "      background-color: #3B4455;\n",
              "      fill: #D2E3FC;\n",
              "    }\n",
              "\n",
              "    [theme=dark] .colab-df-convert:hover {\n",
              "      background-color: #434B5C;\n",
              "      box-shadow: 0px 1px 3px 1px rgba(0, 0, 0, 0.15);\n",
              "      filter: drop-shadow(0px 1px 2px rgba(0, 0, 0, 0.3));\n",
              "      fill: #FFFFFF;\n",
              "    }\n",
              "  </style>\n",
              "\n",
              "      <script>\n",
              "        const buttonEl =\n",
              "          document.querySelector('#df-c4ef40c5-be0f-4bf8-9c01-d797cb2de91a button.colab-df-convert');\n",
              "        buttonEl.style.display =\n",
              "          google.colab.kernel.accessAllowed ? 'block' : 'none';\n",
              "\n",
              "        async function convertToInteractive(key) {\n",
              "          const element = document.querySelector('#df-c4ef40c5-be0f-4bf8-9c01-d797cb2de91a');\n",
              "          const dataTable =\n",
              "            await google.colab.kernel.invokeFunction('convertToInteractive',\n",
              "                                                     [key], {});\n",
              "          if (!dataTable) return;\n",
              "\n",
              "          const docLinkHtml = 'Like what you see? Visit the ' +\n",
              "            '<a target=\"_blank\" href=https://colab.research.google.com/notebooks/data_table.ipynb>data table notebook</a>'\n",
              "            + ' to learn more about interactive tables.';\n",
              "          element.innerHTML = '';\n",
              "          dataTable['output_type'] = 'display_data';\n",
              "          await google.colab.output.renderOutput(dataTable, element);\n",
              "          const docLink = document.createElement('div');\n",
              "          docLink.innerHTML = docLinkHtml;\n",
              "          element.appendChild(docLink);\n",
              "        }\n",
              "      </script>\n",
              "    </div>\n",
              "  </div>\n",
              "  "
            ]
          },
          "metadata": {},
          "execution_count": 4
        }
      ],
      "source": [
        "data.head()"
      ]
    },
    {
      "cell_type": "code",
      "source": [
        ""
      ],
      "metadata": {
        "id": "bKmDRExJp-72"
      },
      "execution_count": null,
      "outputs": []
    },
    {
      "cell_type": "code",
      "execution_count": 5,
      "metadata": {
        "colab": {
          "base_uri": "https://localhost:8080/"
        },
        "id": "62aQe9maAOcc",
        "outputId": "91308ab7-4422-484e-e3bc-2590881ae056"
      },
      "outputs": [
        {
          "output_type": "stream",
          "name": "stdout",
          "text": [
            "390 sphere      Благоустройство населённых пунктов (площади, п...\n",
            "category                            Брошенный автотранспорт *\n",
            "theme                                 Брошенный автотранспорт\n",
            "text                                                         \n",
            "Name: 390, dtype: object\n",
            "654 sphere               Торговля, товары и услуги\n",
            "category                     Банковские услуги\n",
            "theme       Нарушения в сфере банковских услуг\n",
            "text                                       NaN\n",
            "Name: 654, dtype: object\n",
            "688 sphere                                   Автомобильные дороги\n",
            "category    Дороги в границах городских округов и сельских...\n",
            "theme                             Безопасная дорога в школу *\n",
            "text                                                      NaN\n",
            "Name: 688, dtype: object\n",
            "749 sphere                                Бюджет Липецкой области\n",
            "category                        Исполнение областного бюджета\n",
            "theme       Ведение лицевых счетов, для операций со средст...\n",
            "text                                                         \n",
            "Name: 749, dtype: object\n",
            "1415 sphere      Замечания по работе данного сайта\n",
            "category                 Работа данного сайта\n",
            "theme                    Работа данного сайта\n",
            "text                                      NaN\n",
            "Name: 1415, dtype: object\n",
            "1561 sphere                                Бюджет Липецкой области\n",
            "category    Государственный долг Липецкой области и муници...\n",
            "theme       Ведение государственной долговой книги Липецко...\n",
            "text                                                         \n",
            "Name: 1561, dtype: object\n",
            "1865 sphere                                     Ветеринария\n",
            "category    Некачественное оказание ветеринарных услуг\n",
            "theme       Некачественное оказание ветеринарных услуг\n",
            "text                                                  \n",
            "Name: 1865, dtype: object\n",
            "2353 sphere                                   Автомобильные дороги\n",
            "category    Дороги в границах городских округов и сельских...\n",
            "theme                             Безопасная дорога в школу *\n",
            "text                                                         \n",
            "Name: 2353, dtype: object\n",
            "2374 sphere      Добровольчество\n",
            "category    Добровольчество\n",
            "theme          Волонтерство\n",
            "text                       \n",
            "Name: 2374, dtype: object\n",
            "2493 sphere                                              Туризм\n",
            "category              Событийные туристические мероприятия\n",
            "theme       Качество проведения туристического мероприятия\n",
            "text                                                      \n",
            "Name: 2493, dtype: object\n",
            "3151 sphere                       Социальное обеспечение населения\n",
            "category    Назначение и выплата пособий, компенсаций, доп...\n",
            "theme                            Ежемесячные денежные выплаты\n",
            "text                                                         \n",
            "Name: 3151, dtype: object\n",
            "3393 sphere                   Социальное обеспечение населения\n",
            "category                  Присвоение звания Ветеран труда\n",
            "theme       Ветеран труда Липецкой области (региональный)\n",
            "text                                                     \n",
            "Name: 3393, dtype: object\n",
            "5500 sphere                                   Автомобильные дороги\n",
            "category    Дороги в границах городских округов и сельских...\n",
            "theme       Нарушение дорожного покрытия (ямы), в.ч. после...\n",
            "text                                                         \n",
            "Name: 5500, dtype: object\n",
            "5517 sphere                                   Автомобильные дороги\n",
            "category    Дороги в границах городских округов и сельских...\n",
            "theme       Нарушение дорожного покрытия (ямы), в.ч. после...\n",
            "text                                                         \n",
            "Name: 5517, dtype: object\n",
            "6634 sphere                                   Автомобильные дороги\n",
            "category    Дороги в границах городских округов и сельских...\n",
            "theme                             Безопасная дорога в школу *\n",
            "text                                                         \n",
            "Name: 6634, dtype: object\n",
            "7561 sphere      Жилищно-коммунальное хозяйство\n",
            "category              Многоквартирные дома\n",
            "theme                     Аварийное жильё*\n",
            "text                                      \n",
            "Name: 7561, dtype: object\n",
            "16\n"
          ]
        }
      ],
      "source": [
        "c = 0\n",
        "for i, row in data.iterrows():\n",
        "  if row.text == ' ' or type(row.text) == float:\n",
        "    data = data.drop(axis=0, index=i)\n",
        "    print(i, row)\n",
        "    c += 1\n",
        "print(c)"
      ]
    },
    {
      "cell_type": "code",
      "execution_count": 6,
      "metadata": {
        "id": "Fm2bw5YXR7pq"
      },
      "outputs": [],
      "source": [
        "spheres = ['Жилищно-коммунальное хозяйство', 'Здравоохранение', 'Благоустройство населённых пунктов (площади, парки, скверы, улицы, дворовые территории, кладбища)', 'Автомобильные дороги', 'Социальное обеспечение населения', 'Общественный транспорт (ОТ)', 'Образование', 'Неправомерная деятельность органов власти', 'Правопорядок', 'Экология', 'Трудовые отношения', 'Строительство, градостроительная деятельность']"
      ]
    },
    {
      "cell_type": "code",
      "execution_count": 9,
      "metadata": {
        "id": "OGVPvEnaK3Rx"
      },
      "outputs": [],
      "source": [
        "df_res = pd.DataFrame()"
      ]
    },
    {
      "cell_type": "code",
      "source": [
        "for i in spheres:\n",
        "    df_sphere = data[data['sphere'] == i][:]\n",
        "    print(i, len(df_sphere))\n",
        "    df_res = df_res.append(df_sphere, ignore_index=True)"
      ],
      "metadata": {
        "colab": {
          "base_uri": "https://localhost:8080/"
        },
        "id": "hIVWyB8gqA6o",
        "outputId": "07f8c413-6c7a-4479-a98f-720d77dbe450"
      },
      "execution_count": 12,
      "outputs": [
        {
          "output_type": "stream",
          "name": "stdout",
          "text": [
            "['Многоквартирные дома'\n",
            " 'Государственный, муниципальный и ведомственный жилфонд' 'Частный сектор'\n",
            " 'Объект коммунального хозяйства']\n",
            "Жилищно-коммунальное хозяйство 1859\n",
            "['Качество оказания медицинской помощи (в том числе скорой помощи)'\n",
            " 'Запись на прием, электронная регистратура'\n",
            " 'Нарушение этики и деонтологии медицинскими работниками'\n",
            " 'Обеспечение лекарственными средствами  и медицинскими изделиями'\n",
            " 'Отказ в оказании медицинской помощи'\n",
            " 'Необоснованное взимание платы за медицинские услуги'\n",
            " 'Материально-техническое состояние учреждений здравоохранения'\n",
            " 'Обеспечение детским питанием детей в возрасте от 0 до 3-х лет'\n",
            " 'Лекарственные препараты, включенные в Перечень ЖНВЛП'\n",
            " 'Невозможность прикрепления или неоправданно длительное прикрепление к медицинской организации'\n",
            " 'Установление инвалидности, обеспечение средствами реабилитации и санаторно-курортным лечением инвалидов'\n",
            " 'Диспансеризация взрослого и детского населения']\n",
            "Здравоохранение 1496\n",
            "['Наружное освещение на общественной территорий*'\n",
            " 'Восстановление нарушенного благоустройства *'\n",
            " 'Содержание клумб и газонов *'\n",
            " 'Состояние тротуаров, пешеходных дорожек на общественной территории*'\n",
            " 'Ненадлежащее состояние деревьев, кустарников, газонов на общественной территории НП *'\n",
            " 'Ненадлежащее благоустройство общественной, дворовой территории'\n",
            " 'Внешний вид нежилых зданий, объектов и ограждений*'\n",
            " 'Детские, спортивные площадки' 'Незаконная парковка транспорта'\n",
            " 'Уборка улиц и тротуаров *'\n",
            " 'Отсутствие люков на колодцах и решеток на ливневой канализации на общественной территории НП*'\n",
            " 'Площадки для выгула собак' 'Брошенный автотранспорт *'\n",
            " 'Незаконное размещение рекламы (таблички, баннеры, листовки, граффити) на столбах, деревьях, ограждениях *'\n",
            " 'Содержание кладбищ']\n",
            "Благоустройство населённых пунктов (площади, парки, скверы, улицы, дворовые территории, кладбища) 1389\n",
            "['Дороги в границах городских округов и сельских поселений (ГОСП)'\n",
            " 'Дороги регионального и межмуниципального значения ( РМД )']\n",
            "Автомобильные дороги 1268\n",
            "['Многодетные семьи'\n",
            " 'Назначение и выплата пособий, компенсаций, доплат, путёвок'\n",
            " 'Предоставление мер социальной поддержки (адресная помощь, трудная жизненная ситуация)'\n",
            " 'Обеспечения жильем льготных категорий граждан'\n",
            " 'Предоставление социальных услуг' 'Опека и попечительство'\n",
            " 'Присвоение звания Ветеран труда' 'Приемные семьи']\n",
            "Социальное обеспечение населения 337\n",
            "['Муниципальные перевозки'\n",
            " 'Межмуниципальные перевозки (пригородные, междугородные)'\n",
            " 'Пригородные ж/д перевозки' 'Перевозки воздушным транспортом'\n",
            " 'Строительство и реконструкция объектов железнодорожного, авиа- и водного транспорта']\n",
            "Общественный транспорт (ОТ) 216\n",
            "['Детский сад и школа' 'Доставка обучающихся'\n",
            " 'Культурно-досуговая деятельность обучающихся'\n",
            " 'Создание, реорганизация и ликвидация образовательных организаций'\n",
            " 'Среднее профессиональное образование  (СПО)'\n",
            " 'Дополнительное образование']\n",
            "Образование 210\n",
            "['Деяние (действие или бездействие) сотрудников органов государственной власти'\n",
            " 'Деяние (действие или бездействие) руководителей органов государственной власти'\n",
            " 'Деятельность органов местного самоуправления (либо действия (бездействия) органов местного самоуправления)']\n",
            "Неправомерная деятельность органов власти 94\n",
            "['Защита прав граждан' 'Безнадзорные животные *'\n",
            " 'Предупреждение чрезвычайных ситуаций природного и техногенного характера'\n",
            " 'Несанкционированное проживание мигрантов' 'Выгул собак'\n",
            " 'Обеспечение деятельности мировых судей'\n",
            " 'Наличие информации (прямой или косвенной) о продаже наркотиков']\n",
            "Правопорядок 113\n",
            "['Водные объекты' 'Выбросы в атмосферный воздух:'\n",
            " 'Несанкционированные свалки твёрдых коммунальных отходов *'\n",
            " 'Несанкционированный сброс жидких бытовых отходов *'\n",
            " 'Несанкционированная вырубка зелёных насаждений *:' 'Отходы'\n",
            " 'Нарушение правил пожарной безопасности в сфере природопользования *'\n",
            " 'Недра' 'Городские леса' 'Защита лесов']\n",
            "Экология 110\n",
            "['Нарушения в сфере охраны труда' 'Заработная плата' 'Трудоустройство'\n",
            " 'Временная нетрудоспособность'\n",
            " 'Государственные услуги по содействию занятости населения'\n",
            " 'Безопасность на производстве' 'Неоформленные трудовые отношения'\n",
            " 'Рабочие места для инвалидов, трудоустройство инвалидов (лиц с ограниченными возможностями)']\n",
            "Трудовые отношения 101\n",
            "['Государственная поддержка жителей Липецкой области на приобретение и строительство жилья'\n",
            " 'Строительный объект'\n",
            " 'Нарушение установленных процедур для подготовки и утверждения градостроительной документации'\n",
            " 'Несоответствие муниципальных правовых актов законодательству о градостроительной деятельности'\n",
            " 'Соответствие выполнения работ требованиям проектной документации (на объектах площадью более 1500 кв. м)']\n",
            "Строительство, градостроительная деятельность 199\n"
          ]
        }
      ]
    },
    {
      "cell_type": "code",
      "execution_count": 10,
      "metadata": {
        "id": "NXkPhw_kK3PM",
        "colab": {
          "base_uri": "https://localhost:8080/"
        },
        "outputId": "62f41f99-96ca-4b52-b9ac-f8648edcb753"
      },
      "outputs": [
        {
          "output_type": "stream",
          "name": "stdout",
          "text": [
            "Жилищно-коммунальное хозяйство 1859\n",
            "Здравоохранение 1496\n",
            "Благоустройство населённых пунктов (площади, парки, скверы, улицы, дворовые территории, кладбища) 1389\n",
            "Автомобильные дороги 1268\n",
            "Социальное обеспечение населения 337\n",
            "Общественный транспорт (ОТ) 216\n",
            "Образование 210\n",
            "Неправомерная деятельность органов власти 94\n",
            "Правопорядок 113\n",
            "Экология 110\n",
            "Трудовые отношения 101\n",
            "Строительство, градостроительная деятельность 199\n"
          ]
        }
      ],
      "source": [
        "for i in spheres:\n",
        "    df_sphere = data[data['sphere'] == i][:]\n",
        "    print(i, len(df_sphere))\n",
        "    df_res = df_res.append(df_sphere, ignore_index=True)"
      ]
    },
    {
      "cell_type": "code",
      "source": [
        ""
      ],
      "metadata": {
        "id": "6RprDAjbgv9j"
      },
      "execution_count": null,
      "outputs": []
    },
    {
      "cell_type": "code",
      "execution_count": 81,
      "metadata": {
        "colab": {
          "base_uri": "https://localhost:8080/"
        },
        "id": "X-x63BchSlyy",
        "outputId": "2a9b1e71-ec25-4f98-ee7f-ff7aee0850f3"
      },
      "outputs": [
        {
          "output_type": "stream",
          "name": "stdout",
          "text": [
            "[nltk_data] Downloading package stopwords to /root/nltk_data...\n",
            "[nltk_data]   Unzipping corpora/stopwords.zip.\n",
            "[nltk_data] Downloading package punkt to /root/nltk_data...\n",
            "[nltk_data]   Unzipping tokenizers/punkt.zip.\n"
          ]
        },
        {
          "output_type": "execute_result",
          "data": {
            "text/plain": [
              "True"
            ]
          },
          "metadata": {},
          "execution_count": 81
        }
      ],
      "source": [
        "import nltk\n",
        "nltk.download('stopwords')\n",
        "nltk.download('punkt')"
      ]
    },
    {
      "cell_type": "code",
      "execution_count": 82,
      "metadata": {
        "id": "ODUQcAgSK3Jp"
      },
      "outputs": [],
      "source": [
        "import string\n",
        "def remove_punctuation(text):\n",
        "    return \"\".join([ch if ch not in string.punctuation else ' ' for ch in text])\n",
        "\n",
        "def remove_numbers(text):\n",
        "    return ''.join([i if not i.isdigit() else ' ' for i in text])\n",
        "\n",
        "import re\n",
        "def remove_multiple_spaces(text):\n",
        "\treturn re.sub(r'\\s+', ' ', text, flags=re.I)\n",
        "\n",
        "from nltk.stem import *\n",
        "from nltk.corpus import stopwords\n",
        "from pymystem3 import Mystem\n",
        "from string import punctuation\n",
        "mystem = Mystem() \n",
        "\n",
        "russian_stopwords = stopwords.words(\"russian\")\n",
        "russian_stopwords.extend(['…', '«', '»', '...', 'здравствуйте', 'который', 'это', 'пожалуйста', 'спасибо', 'этот', 'наш', 'никто', 'свой'])"
      ]
    },
    {
      "cell_type": "code",
      "execution_count": null,
      "metadata": {
        "colab": {
          "base_uri": "https://localhost:8080/",
          "height": 35
        },
        "id": "hmMJy4VASW-G",
        "outputId": "65661227-8412-41af-9404-66fd9e539ac4"
      },
      "outputs": [
        {
          "data": {
            "application/vnd.google.colaboratory.intrinsic+json": {
              "type": "string"
            },
            "text/plain": [
              "'!\"#$%&\\'()*+,-./:;<=>?@[\\\\]^_`{|}~'"
            ]
          },
          "execution_count": 15,
          "metadata": {},
          "output_type": "execute_result"
        }
      ],
      "source": [
        "string.punctuation "
      ]
    },
    {
      "cell_type": "code",
      "execution_count": null,
      "metadata": {
        "id": "csERu9NCK3Hg"
      },
      "outputs": [],
      "source": [
        "prep_text = [remove_multiple_spaces(remove_numbers(remove_punctuation(str(text).lower()))) for text in df_res['text']]"
      ]
    },
    {
      "cell_type": "code",
      "execution_count": null,
      "metadata": {
        "id": "oQ3R83yfK3GA"
      },
      "outputs": [],
      "source": [
        "df_res['text_prep'] = prep_text"
      ]
    },
    {
      "cell_type": "code",
      "execution_count": null,
      "metadata": {
        "id": "kQpkX6nNK2_1"
      },
      "outputs": [],
      "source": [
        "from nltk.stem.snowball import SnowballStemmer \n",
        "stemmer = SnowballStemmer(\"russian\") "
      ]
    },
    {
      "cell_type": "code",
      "execution_count": null,
      "metadata": {
        "id": "KtW5k0h0K23e"
      },
      "outputs": [],
      "source": [
        "russian_stopwords.extend(['…', '«', '»', '...', 'т.д.', 'т', 'д'])"
      ]
    },
    {
      "cell_type": "code",
      "execution_count": null,
      "metadata": {
        "id": "bFU7GTNKK2o5"
      },
      "outputs": [],
      "source": [
        "from nltk import word_tokenize\n",
        "\n",
        "stemmed_texts_list = []\n",
        "for text in df_res['text_prep']:\n",
        "    tokens = word_tokenize(text)    \n",
        "    stemmed_tokens = [stemmer.stem(token) for token in tokens if token not in russian_stopwords]\n",
        "    text = \" \".join(stemmed_tokens)\n",
        "    stemmed_texts_list.append(text)"
      ]
    },
    {
      "cell_type": "code",
      "execution_count": null,
      "metadata": {
        "id": "Q3M1NSTAPS1I"
      },
      "outputs": [],
      "source": [
        "df_res['text_stem'] = stemmed_texts_list"
      ]
    },
    {
      "cell_type": "code",
      "execution_count": null,
      "metadata": {
        "id": "y3GStmPwPo-A"
      },
      "outputs": [],
      "source": [
        "from nltk import word_tokenize\n",
        "\n",
        "sw_texts_list = []\n",
        "for text in df_res['text_prep']:\n",
        "    tokens = word_tokenize(text)    \n",
        "    tokens = [token for token in tokens if token not in russian_stopwords and token != ' ']\n",
        "    text = \" \".join(tokens)\n",
        "    sw_texts_list.append(text)"
      ]
    },
    {
      "cell_type": "code",
      "execution_count": null,
      "metadata": {
        "id": "2G127J9QaU6W"
      },
      "outputs": [],
      "source": [
        "from nltk import word_tokenize\n",
        "def stemm(texts):\n",
        "  sw_texts_list = []\n",
        "  for text in texts:\n",
        "      tokens = word_tokenize(text)    \n",
        "      tokens = [token for token in tokens if token not in russian_stopwords and token != ' ']\n",
        "      text = \" \".join(tokens)\n",
        "      sw_texts_list.append(text)\n",
        "  return sw_texts_list"
      ]
    },
    {
      "cell_type": "code",
      "execution_count": null,
      "metadata": {
        "id": "8yPD8ZuxxJDD"
      },
      "outputs": [],
      "source": [
        "df_res['text_prep'] = sw_texts_list"
      ]
    },
    {
      "cell_type": "code",
      "execution_count": null,
      "metadata": {
        "colab": {
          "base_uri": "https://localhost:8080/"
        },
        "id": "AZ59P4goPtsM",
        "outputId": "741d54b6-bd6c-4510-a80f-3fb1eab0507d"
      },
      "outputs": [
        {
          "output_type": "stream",
          "name": "stdout",
          "text": [
            "Collecting pymorphy2\n",
            "  Downloading pymorphy2-0.9.1-py3-none-any.whl (55 kB)\n",
            "\u001b[K     |████████████████████████████████| 55 kB 1.9 MB/s \n",
            "\u001b[?25hCollecting pymorphy2-dicts-ru<3.0,>=2.4\n",
            "  Downloading pymorphy2_dicts_ru-2.4.417127.4579844-py2.py3-none-any.whl (8.2 MB)\n",
            "\u001b[K     |████████████████████████████████| 8.2 MB 7.7 MB/s \n",
            "\u001b[?25hCollecting dawg-python>=0.7.1\n",
            "  Downloading DAWG_Python-0.7.2-py2.py3-none-any.whl (11 kB)\n",
            "Requirement already satisfied: docopt>=0.6 in /usr/local/lib/python3.7/dist-packages (from pymorphy2) (0.6.2)\n",
            "Installing collected packages: pymorphy2-dicts-ru, dawg-python, pymorphy2\n",
            "Successfully installed dawg-python-0.7.2 pymorphy2-0.9.1 pymorphy2-dicts-ru-2.4.417127.4579844\n"
          ]
        }
      ],
      "source": [
        "!pip install pymorphy2"
      ]
    },
    {
      "cell_type": "code",
      "execution_count": null,
      "metadata": {
        "colab": {
          "base_uri": "https://localhost:8080/",
          "height": 49,
          "referenced_widgets": [
            "c2a9f4ca05524113a339702a4047fb1c",
            "5abba94d5c584ae6a428af13a452549d",
            "47ebf6e2f57a44d5af3cd35fbadd99dc",
            "7ad4ac115a4941269306d82dbaf73588",
            "ec19d2ba5c6f4e2eb7a81b714d48b15a",
            "0344d72f922d4d1fada84cbce9094513",
            "7554396b92d84d659754274f47b27666",
            "c7b3bb3af744472da4a0ba3656cb2c37",
            "54c45933d28c4085a1fc2fc189b8ffcf",
            "2af0725672694c8aa6e1208d70823ca0",
            "a6f736bf1ee244be82664b3503a78f52"
          ]
        },
        "id": "YgnxX99sQMzU",
        "outputId": "1c9a576f-a51a-4c67-cff9-76a0a20c571e"
      },
      "outputs": [
        {
          "data": {
            "application/vnd.jupyter.widget-view+json": {
              "model_id": "c2a9f4ca05524113a339702a4047fb1c",
              "version_major": 2,
              "version_minor": 0
            },
            "text/plain": [
              "  0%|          | 0/7392 [00:00<?, ?it/s]"
            ]
          },
          "metadata": {},
          "output_type": "display_data"
        }
      ],
      "source": [
        "from tqdm.auto import tqdm, trange\n",
        "import pymorphy2\n",
        "\n",
        "morph = pymorphy2.MorphAnalyzer()\n",
        "\n",
        "lemm_texts_list = []\n",
        "for text in tqdm(df_res['text_prep']):\n",
        "    sentence_words = word_tokenize(text)\n",
        "    text_lem = []\n",
        "    try:\n",
        "      for i in sentence_words:\n",
        "        w = morph.parse(i)[0].normal_form\n",
        "        text_lem.append(w)\n",
        "      tokens = [token for token in text_lem if token != ' ' and token not in russian_stopwords]\n",
        "      text = \" \".join(tokens)\n",
        "      lemm_texts_list.append(text)\n",
        "    except Exception as e:\n",
        "        print(e)"
      ]
    },
    {
      "cell_type": "code",
      "execution_count": null,
      "metadata": {
        "id": "xsuNt9PSagwl"
      },
      "outputs": [],
      "source": [
        "from tqdm.auto import tqdm, trange\n",
        "import pymorphy2\n",
        "morph = pymorphy2.MorphAnalyzer()\n",
        "\n",
        "def lemm(texts):\n",
        "  lemm_texts_list = []\n",
        "  for text in tqdm(texts):\n",
        "      sentence_words = word_tokenize(text)\n",
        "      text_lem = []\n",
        "      try:\n",
        "        for i in sentence_words:\n",
        "          w = morph.parse(i)[0].normal_form\n",
        "          text_lem.append(w)\n",
        "        tokens = [token for token in text_lem if token != ' ' and token not in russian_stopwords]\n",
        "        text = \" \".join(tokens)\n",
        "        lemm_texts_list.append(text)\n",
        "      except Exception as e:\n",
        "          print(e)\n",
        "  return lemm_texts_list"
      ]
    },
    {
      "cell_type": "code",
      "execution_count": null,
      "metadata": {
        "id": "tSqgPb9FQMxw"
      },
      "outputs": [],
      "source": [
        "df_res['text_lemm'] = lemm_texts_list"
      ]
    },
    {
      "cell_type": "code",
      "execution_count": null,
      "metadata": {
        "id": "GUceIt6uE9EX"
      },
      "outputs": [],
      "source": [
        "df_res['sphere'] = df_res['sphere'].replace(spheres, range(12))"
      ]
    },
    {
      "cell_type": "code",
      "execution_count": null,
      "metadata": {
        "colab": {
          "base_uri": "https://localhost:8080/",
          "height": 598
        },
        "id": "h9fkeReCQMv_",
        "outputId": "ff7901ea-f3e3-47ab-9b84-93ff9bc4bc15"
      },
      "outputs": [
        {
          "data": {
            "text/html": [
              "\n",
              "  <div id=\"df-faae823e-8543-4eeb-b86f-ba345b3f2c66\">\n",
              "    <div class=\"colab-df-container\">\n",
              "      <div>\n",
              "<style scoped>\n",
              "    .dataframe tbody tr th:only-of-type {\n",
              "        vertical-align: middle;\n",
              "    }\n",
              "\n",
              "    .dataframe tbody tr th {\n",
              "        vertical-align: top;\n",
              "    }\n",
              "\n",
              "    .dataframe thead th {\n",
              "        text-align: right;\n",
              "    }\n",
              "</style>\n",
              "<table border=\"1\" class=\"dataframe\">\n",
              "  <thead>\n",
              "    <tr style=\"text-align: right;\">\n",
              "      <th></th>\n",
              "      <th>sphere</th>\n",
              "      <th>category</th>\n",
              "      <th>theme</th>\n",
              "      <th>text</th>\n",
              "      <th>text_prep</th>\n",
              "      <th>text_stem</th>\n",
              "      <th>text_lemm</th>\n",
              "    </tr>\n",
              "  </thead>\n",
              "  <tbody>\n",
              "    <tr>\n",
              "      <th>0</th>\n",
              "      <td>0</td>\n",
              "      <td>Многоквартирные дома</td>\n",
              "      <td>Нарушения в вопросах оплаты услуг ЖКХ</td>\n",
              "      <td>обращаются жильцы можем заверить что и других...</td>\n",
              "      <td>обращаются жильцы можем заверить других домов ...</td>\n",
              "      <td>обраща жильц мож завер друг дом наш микрорайон...</td>\n",
              "      <td>обращаться жилец мочь заверить дом микрорайон ...</td>\n",
              "    </tr>\n",
              "    <tr>\n",
              "      <th>1</th>\n",
              "      <td>0</td>\n",
              "      <td>Многоквартирные дома</td>\n",
              "      <td>Содержание МКД и придомовой территории *</td>\n",
              "      <td>мая происходит залитие подвала многоквартирно...</td>\n",
              "      <td>мая происходит залитие подвала многоквартирног...</td>\n",
              "      <td>ма происход залит подва многоквартирн дом фека...</td>\n",
              "      <td>май происходить залитие подвал многоквартирный...</td>\n",
              "    </tr>\n",
              "    <tr>\n",
              "      <th>2</th>\n",
              "      <td>0</td>\n",
              "      <td>Государственный, муниципальный и ведомственный...</td>\n",
              "      <td>Обеспечение жильем ветеранов, инвалидов и семе...</td>\n",
              "      <td>вечер ребенка инвалида являюсь матерью одиноч...</td>\n",
              "      <td>вечер ребенка инвалида являюсь матерью одиночк...</td>\n",
              "      <td>вечер ребенк инвалид явля матер одиночк обрат ...</td>\n",
              "      <td>вечер ребёнок инвалид являться мать одиночка о...</td>\n",
              "    </tr>\n",
              "    <tr>\n",
              "      <th>3</th>\n",
              "      <td>0</td>\n",
              "      <td>Многоквартирные дома</td>\n",
              "      <td>Капитальный ремонт многоквартирного дома *</td>\n",
              "      <td>Здравствуйте нашего дома находится в полуразру...</td>\n",
              "      <td>нашего дома находится полуразрушенном состояни...</td>\n",
              "      <td>наш дом наход полуразрушен состоян управлен жи...</td>\n",
              "      <td>дом находиться полуразрушить состояние управле...</td>\n",
              "    </tr>\n",
              "    <tr>\n",
              "      <th>4</th>\n",
              "      <td>0</td>\n",
              "      <td>Многоквартирные дома</td>\n",
              "      <td>Нарушения в вопросах оплаты услуг ЖКХ</td>\n",
              "      <td>Здравствуйте зовут вопрос касается отопления и...</td>\n",
              "      <td>зовут вопрос касается отопления сумм которые н...</td>\n",
              "      <td>зовут вопрос каса отоплен сумм котор нам квита...</td>\n",
              "      <td>звать вопрос касаться отопление сумма квитанци...</td>\n",
              "    </tr>\n",
              "    <tr>\n",
              "      <th>5</th>\n",
              "      <td>0</td>\n",
              "      <td>Многоквартирные дома</td>\n",
              "      <td>Текущий ремонт многоквартирного дома*</td>\n",
              "      <td>вечер помочь промазать швы между плитками эта...</td>\n",
              "      <td>вечер помочь промазать швы плитками этаже дует...</td>\n",
              "      <td>вечер помоч промаза швы плитк этаж дует сквозн...</td>\n",
              "      <td>вечер помочь промазать шов плитка этаж дуть ск...</td>\n",
              "    </tr>\n",
              "    <tr>\n",
              "      <th>6</th>\n",
              "      <td>0</td>\n",
              "      <td>Многоквартирные дома</td>\n",
              "      <td>Горячее водоснабжение МКД</td>\n",
              "      <td>через день отключает горячую воду этого в наш...</td>\n",
              "      <td>день отключает горячую воду нашем подъезде гор...</td>\n",
              "      <td>ден отключа горяч вод наш подъезд горяч вод си...</td>\n",
              "      <td>день отключать горячий вода подъезд горячий во...</td>\n",
              "    </tr>\n",
              "    <tr>\n",
              "      <th>7</th>\n",
              "      <td>0</td>\n",
              "      <td>Многоквартирные дома</td>\n",
              "      <td>Неудовлетворительная работа диспетчерской служ...</td>\n",
              "      <td>день лет счетчика начала течь вода обратились...</td>\n",
              "      <td>день лет счетчика начала течь вода обратились ...</td>\n",
              "      <td>ден лет счетчик нача теч вод обрат служб жэк с...</td>\n",
              "      <td>день год счётчик начало течь вода обратиться с...</td>\n",
              "    </tr>\n",
              "    <tr>\n",
              "      <th>8</th>\n",
              "      <td>0</td>\n",
              "      <td>Частный сектор</td>\n",
              "      <td>Водоснабжение, водоотведение дома</td>\n",
              "      <td>обращается пенсионер проживающая адресу город...</td>\n",
              "      <td>обращается пенсионер проживающая адресу город ...</td>\n",
              "      <td>обраща пенсионер прожива адрес город дом одино...</td>\n",
              "      <td>обращаться пенсионер проживать адрес город дом...</td>\n",
              "    </tr>\n",
              "    <tr>\n",
              "      <th>9</th>\n",
              "      <td>0</td>\n",
              "      <td>Многоквартирные дома</td>\n",
              "      <td>Содержание МКД и придомовой территории *</td>\n",
              "      <td>Здравствуйте домом вдоль тротуарной дорожки тр...</td>\n",
              "      <td>домом вдоль тротуарной дорожки трава местами в...</td>\n",
              "      <td>дом вдол тротуарн дорожк трав мест выш страшн ...</td>\n",
              "      <td>дом вдоль тротуарный дорожка трава место выше ...</td>\n",
              "    </tr>\n",
              "  </tbody>\n",
              "</table>\n",
              "</div>\n",
              "      <button class=\"colab-df-convert\" onclick=\"convertToInteractive('df-faae823e-8543-4eeb-b86f-ba345b3f2c66')\"\n",
              "              title=\"Convert this dataframe to an interactive table.\"\n",
              "              style=\"display:none;\">\n",
              "        \n",
              "  <svg xmlns=\"http://www.w3.org/2000/svg\" height=\"24px\"viewBox=\"0 0 24 24\"\n",
              "       width=\"24px\">\n",
              "    <path d=\"M0 0h24v24H0V0z\" fill=\"none\"/>\n",
              "    <path d=\"M18.56 5.44l.94 2.06.94-2.06 2.06-.94-2.06-.94-.94-2.06-.94 2.06-2.06.94zm-11 1L8.5 8.5l.94-2.06 2.06-.94-2.06-.94L8.5 2.5l-.94 2.06-2.06.94zm10 10l.94 2.06.94-2.06 2.06-.94-2.06-.94-.94-2.06-.94 2.06-2.06.94z\"/><path d=\"M17.41 7.96l-1.37-1.37c-.4-.4-.92-.59-1.43-.59-.52 0-1.04.2-1.43.59L10.3 9.45l-7.72 7.72c-.78.78-.78 2.05 0 2.83L4 21.41c.39.39.9.59 1.41.59.51 0 1.02-.2 1.41-.59l7.78-7.78 2.81-2.81c.8-.78.8-2.07 0-2.86zM5.41 20L4 18.59l7.72-7.72 1.47 1.35L5.41 20z\"/>\n",
              "  </svg>\n",
              "      </button>\n",
              "      \n",
              "  <style>\n",
              "    .colab-df-container {\n",
              "      display:flex;\n",
              "      flex-wrap:wrap;\n",
              "      gap: 12px;\n",
              "    }\n",
              "\n",
              "    .colab-df-convert {\n",
              "      background-color: #E8F0FE;\n",
              "      border: none;\n",
              "      border-radius: 50%;\n",
              "      cursor: pointer;\n",
              "      display: none;\n",
              "      fill: #1967D2;\n",
              "      height: 32px;\n",
              "      padding: 0 0 0 0;\n",
              "      width: 32px;\n",
              "    }\n",
              "\n",
              "    .colab-df-convert:hover {\n",
              "      background-color: #E2EBFA;\n",
              "      box-shadow: 0px 1px 2px rgba(60, 64, 67, 0.3), 0px 1px 3px 1px rgba(60, 64, 67, 0.15);\n",
              "      fill: #174EA6;\n",
              "    }\n",
              "\n",
              "    [theme=dark] .colab-df-convert {\n",
              "      background-color: #3B4455;\n",
              "      fill: #D2E3FC;\n",
              "    }\n",
              "\n",
              "    [theme=dark] .colab-df-convert:hover {\n",
              "      background-color: #434B5C;\n",
              "      box-shadow: 0px 1px 3px 1px rgba(0, 0, 0, 0.15);\n",
              "      filter: drop-shadow(0px 1px 2px rgba(0, 0, 0, 0.3));\n",
              "      fill: #FFFFFF;\n",
              "    }\n",
              "  </style>\n",
              "\n",
              "      <script>\n",
              "        const buttonEl =\n",
              "          document.querySelector('#df-faae823e-8543-4eeb-b86f-ba345b3f2c66 button.colab-df-convert');\n",
              "        buttonEl.style.display =\n",
              "          google.colab.kernel.accessAllowed ? 'block' : 'none';\n",
              "\n",
              "        async function convertToInteractive(key) {\n",
              "          const element = document.querySelector('#df-faae823e-8543-4eeb-b86f-ba345b3f2c66');\n",
              "          const dataTable =\n",
              "            await google.colab.kernel.invokeFunction('convertToInteractive',\n",
              "                                                     [key], {});\n",
              "          if (!dataTable) return;\n",
              "\n",
              "          const docLinkHtml = 'Like what you see? Visit the ' +\n",
              "            '<a target=\"_blank\" href=https://colab.research.google.com/notebooks/data_table.ipynb>data table notebook</a>'\n",
              "            + ' to learn more about interactive tables.';\n",
              "          element.innerHTML = '';\n",
              "          dataTable['output_type'] = 'display_data';\n",
              "          await google.colab.output.renderOutput(dataTable, element);\n",
              "          const docLink = document.createElement('div');\n",
              "          docLink.innerHTML = docLinkHtml;\n",
              "          element.appendChild(docLink);\n",
              "        }\n",
              "      </script>\n",
              "    </div>\n",
              "  </div>\n",
              "  "
            ],
            "text/plain": [
              "   sphere                                           category  \\\n",
              "0       0                               Многоквартирные дома   \n",
              "1       0                               Многоквартирные дома   \n",
              "2       0  Государственный, муниципальный и ведомственный...   \n",
              "3       0                               Многоквартирные дома   \n",
              "4       0                               Многоквартирные дома   \n",
              "5       0                               Многоквартирные дома   \n",
              "6       0                               Многоквартирные дома   \n",
              "7       0                               Многоквартирные дома   \n",
              "8       0                                     Частный сектор   \n",
              "9       0                               Многоквартирные дома   \n",
              "\n",
              "                                               theme  \\\n",
              "0              Нарушения в вопросах оплаты услуг ЖКХ   \n",
              "1           Содержание МКД и придомовой территории *   \n",
              "2  Обеспечение жильем ветеранов, инвалидов и семе...   \n",
              "3         Капитальный ремонт многоквартирного дома *   \n",
              "4              Нарушения в вопросах оплаты услуг ЖКХ   \n",
              "5              Текущий ремонт многоквартирного дома*   \n",
              "6                          Горячее водоснабжение МКД   \n",
              "7  Неудовлетворительная работа диспетчерской служ...   \n",
              "8                  Водоснабжение, водоотведение дома   \n",
              "9           Содержание МКД и придомовой территории *   \n",
              "\n",
              "                                                text  \\\n",
              "0   обращаются жильцы можем заверить что и других...   \n",
              "1   мая происходит залитие подвала многоквартирно...   \n",
              "2   вечер ребенка инвалида являюсь матерью одиноч...   \n",
              "3  Здравствуйте нашего дома находится в полуразру...   \n",
              "4  Здравствуйте зовут вопрос касается отопления и...   \n",
              "5   вечер помочь промазать швы между плитками эта...   \n",
              "6   через день отключает горячую воду этого в наш...   \n",
              "7   день лет счетчика начала течь вода обратились...   \n",
              "8   обращается пенсионер проживающая адресу город...   \n",
              "9  Здравствуйте домом вдоль тротуарной дорожки тр...   \n",
              "\n",
              "                                           text_prep  \\\n",
              "0  обращаются жильцы можем заверить других домов ...   \n",
              "1  мая происходит залитие подвала многоквартирног...   \n",
              "2  вечер ребенка инвалида являюсь матерью одиночк...   \n",
              "3  нашего дома находится полуразрушенном состояни...   \n",
              "4  зовут вопрос касается отопления сумм которые н...   \n",
              "5  вечер помочь промазать швы плитками этаже дует...   \n",
              "6  день отключает горячую воду нашем подъезде гор...   \n",
              "7  день лет счетчика начала течь вода обратились ...   \n",
              "8  обращается пенсионер проживающая адресу город ...   \n",
              "9  домом вдоль тротуарной дорожки трава местами в...   \n",
              "\n",
              "                                           text_stem  \\\n",
              "0  обраща жильц мож завер друг дом наш микрорайон...   \n",
              "1  ма происход залит подва многоквартирн дом фека...   \n",
              "2  вечер ребенк инвалид явля матер одиночк обрат ...   \n",
              "3  наш дом наход полуразрушен состоян управлен жи...   \n",
              "4  зовут вопрос каса отоплен сумм котор нам квита...   \n",
              "5  вечер помоч промаза швы плитк этаж дует сквозн...   \n",
              "6  ден отключа горяч вод наш подъезд горяч вод си...   \n",
              "7  ден лет счетчик нача теч вод обрат служб жэк с...   \n",
              "8  обраща пенсионер прожива адрес город дом одино...   \n",
              "9  дом вдол тротуарн дорожк трав мест выш страшн ...   \n",
              "\n",
              "                                           text_lemm  \n",
              "0  обращаться жилец мочь заверить дом микрорайон ...  \n",
              "1  май происходить залитие подвал многоквартирный...  \n",
              "2  вечер ребёнок инвалид являться мать одиночка о...  \n",
              "3  дом находиться полуразрушить состояние управле...  \n",
              "4  звать вопрос касаться отопление сумма квитанци...  \n",
              "5  вечер помочь промазать шов плитка этаж дуть ск...  \n",
              "6  день отключать горячий вода подъезд горячий во...  \n",
              "7  день год счётчик начало течь вода обратиться с...  \n",
              "8  обращаться пенсионер проживать адрес город дом...  \n",
              "9  дом вдоль тротуарный дорожка трава место выше ...  "
            ]
          },
          "execution_count": 32,
          "metadata": {},
          "output_type": "execute_result"
        }
      ],
      "source": [
        "df_res.head(10)"
      ]
    },
    {
      "cell_type": "code",
      "execution_count": null,
      "metadata": {
        "id": "UOYLZ2kHPVoj"
      },
      "outputs": [],
      "source": [
        "df_res.to_excel('drive/MyDrive/new_case_dataset.xlsx', index=False)"
      ]
    },
    {
      "cell_type": "code",
      "execution_count": 13,
      "metadata": {
        "id": "kKXmrsr8R3Fr"
      },
      "outputs": [],
      "source": [
        "df_res = pd.read_excel('drive/MyDrive/new_case_dataset.xlsx')"
      ]
    },
    {
      "cell_type": "code",
      "execution_count": 14,
      "metadata": {
        "colab": {
          "base_uri": "https://localhost:8080/",
          "height": 641
        },
        "id": "MChvHHt_U9W0",
        "outputId": "e052c4b2-183a-4d87-b8ba-3fbe3145ffb2"
      },
      "outputs": [
        {
          "output_type": "execute_result",
          "data": {
            "text/plain": [
              "      sphere                                           category  \\\n",
              "0          0                               Многоквартирные дома   \n",
              "1          0                               Многоквартирные дома   \n",
              "2          0  Государственный, муниципальный и ведомственный...   \n",
              "3          0                               Многоквартирные дома   \n",
              "4          0                               Многоквартирные дома   \n",
              "...      ...                                                ...   \n",
              "7387      11                                Строительный объект   \n",
              "7388      11                                Строительный объект   \n",
              "7389      11                                Строительный объект   \n",
              "7390      11                                Строительный объект   \n",
              "7391      11                                Строительный объект   \n",
              "\n",
              "                                                  theme  \\\n",
              "0                 Нарушения в вопросах оплаты услуг ЖКХ   \n",
              "1              Содержание МКД и придомовой территории *   \n",
              "2     Обеспечение жильем ветеранов, инвалидов и семе...   \n",
              "3            Капитальный ремонт многоквартирного дома *   \n",
              "4                 Нарушения в вопросах оплаты услуг ЖКХ   \n",
              "...                                                 ...   \n",
              "7387                      Нарушение строительных норм *   \n",
              "7388  Неисполнение застройщиком договорных обязательств   \n",
              "7389  Неисполнение застройщиком договорных обязательств   \n",
              "7390  Неисполнение застройщиком договорных обязательств   \n",
              "7391  Неисполнение застройщиком договорных обязательств   \n",
              "\n",
              "                                                   text  \\\n",
              "0      обращаются жильцы можем заверить что и других...   \n",
              "1      мая происходит залитие подвала многоквартирно...   \n",
              "2      вечер ребенка инвалида являюсь матерью одиноч...   \n",
              "3     Здравствуйте нашего дома находится в полуразру...   \n",
              "4     Здравствуйте зовут вопрос касается отопления и...   \n",
              "...                                                 ...   \n",
              "7387   день жители частного сектора домов номер прос...   \n",
              "7388   день в активно ведётся строительство долгостр...   \n",
              "7389  Здравствуйте я ранее обращалась дома пришел от...   \n",
              "7390   приходом должность главы региона началось реш...   \n",
              "7391  Здравствуйте приобрели июня квартиру в ипотеку...   \n",
              "\n",
              "                                              text_prep  \\\n",
              "0     обращаются жильцы можем заверить других домов ...   \n",
              "1     мая происходит залитие подвала многоквартирног...   \n",
              "2     вечер ребенка инвалида являюсь матерью одиночк...   \n",
              "3     нашего дома находится полуразрушенном состояни...   \n",
              "4     зовут вопрос касается отопления сумм которые н...   \n",
              "...                                                 ...   \n",
              "7387  день жители частного сектора домов номер проси...   \n",
              "7388  день активно ведётся строительство долгостроев...   \n",
              "7389  ранее обращалась дома пришел ответ следующего ...   \n",
              "7390  приходом должность главы региона началось реше...   \n",
              "7391  приобрели июня квартиру ипотеку материнского к...   \n",
              "\n",
              "                                              text_stem  \\\n",
              "0     обраща жильц мож завер друг дом наш микрорайон...   \n",
              "1     ма происход залит подва многоквартирн дом фека...   \n",
              "2     вечер ребенк инвалид явля матер одиночк обрат ...   \n",
              "3     наш дом наход полуразрушен состоян управлен жи...   \n",
              "4     зовут вопрос каса отоплен сумм котор нам квита...   \n",
              "...                                                 ...   \n",
              "7387  ден жител частн сектор дом номер прос помощ ра...   \n",
              "7388  ден активн ведет строительств долгостро везд з...   \n",
              "7389  ран обраща дом пришел ответ след содержан обра...   \n",
              "7390  приход должност глав регион нача решен проблем...   \n",
              "7391  приобрел июн квартир ипотек материнск капита н...   \n",
              "\n",
              "                                              text_lemm  \n",
              "0     обращаться жилец мочь заверить дом микрорайон ...  \n",
              "1     май происходить залитие подвал многоквартирный...  \n",
              "2     вечер ребёнок инвалид являться мать одиночка о...  \n",
              "3     дом находиться полуразрушить состояние управле...  \n",
              "4     звать вопрос касаться отопление сумма квитанци...  \n",
              "...                                                 ...  \n",
              "7387  день житель частное сектор дом номер просить п...  \n",
              "7388  день активно вестись строительство долгострой ...  \n",
              "7389  ранее обращаться дом прийти ответ следующий со...  \n",
              "7390  приход должность глава регион начаться решение...  \n",
              "7391  приобрести июнь квартира ипотека материнский к...  \n",
              "\n",
              "[7392 rows x 7 columns]"
            ],
            "text/html": [
              "\n",
              "  <div id=\"df-7b065561-c671-4e68-9c2e-f9eb3a043440\">\n",
              "    <div class=\"colab-df-container\">\n",
              "      <div>\n",
              "<style scoped>\n",
              "    .dataframe tbody tr th:only-of-type {\n",
              "        vertical-align: middle;\n",
              "    }\n",
              "\n",
              "    .dataframe tbody tr th {\n",
              "        vertical-align: top;\n",
              "    }\n",
              "\n",
              "    .dataframe thead th {\n",
              "        text-align: right;\n",
              "    }\n",
              "</style>\n",
              "<table border=\"1\" class=\"dataframe\">\n",
              "  <thead>\n",
              "    <tr style=\"text-align: right;\">\n",
              "      <th></th>\n",
              "      <th>sphere</th>\n",
              "      <th>category</th>\n",
              "      <th>theme</th>\n",
              "      <th>text</th>\n",
              "      <th>text_prep</th>\n",
              "      <th>text_stem</th>\n",
              "      <th>text_lemm</th>\n",
              "    </tr>\n",
              "  </thead>\n",
              "  <tbody>\n",
              "    <tr>\n",
              "      <th>0</th>\n",
              "      <td>0</td>\n",
              "      <td>Многоквартирные дома</td>\n",
              "      <td>Нарушения в вопросах оплаты услуг ЖКХ</td>\n",
              "      <td>обращаются жильцы можем заверить что и других...</td>\n",
              "      <td>обращаются жильцы можем заверить других домов ...</td>\n",
              "      <td>обраща жильц мож завер друг дом наш микрорайон...</td>\n",
              "      <td>обращаться жилец мочь заверить дом микрорайон ...</td>\n",
              "    </tr>\n",
              "    <tr>\n",
              "      <th>1</th>\n",
              "      <td>0</td>\n",
              "      <td>Многоквартирные дома</td>\n",
              "      <td>Содержание МКД и придомовой территории *</td>\n",
              "      <td>мая происходит залитие подвала многоквартирно...</td>\n",
              "      <td>мая происходит залитие подвала многоквартирног...</td>\n",
              "      <td>ма происход залит подва многоквартирн дом фека...</td>\n",
              "      <td>май происходить залитие подвал многоквартирный...</td>\n",
              "    </tr>\n",
              "    <tr>\n",
              "      <th>2</th>\n",
              "      <td>0</td>\n",
              "      <td>Государственный, муниципальный и ведомственный...</td>\n",
              "      <td>Обеспечение жильем ветеранов, инвалидов и семе...</td>\n",
              "      <td>вечер ребенка инвалида являюсь матерью одиноч...</td>\n",
              "      <td>вечер ребенка инвалида являюсь матерью одиночк...</td>\n",
              "      <td>вечер ребенк инвалид явля матер одиночк обрат ...</td>\n",
              "      <td>вечер ребёнок инвалид являться мать одиночка о...</td>\n",
              "    </tr>\n",
              "    <tr>\n",
              "      <th>3</th>\n",
              "      <td>0</td>\n",
              "      <td>Многоквартирные дома</td>\n",
              "      <td>Капитальный ремонт многоквартирного дома *</td>\n",
              "      <td>Здравствуйте нашего дома находится в полуразру...</td>\n",
              "      <td>нашего дома находится полуразрушенном состояни...</td>\n",
              "      <td>наш дом наход полуразрушен состоян управлен жи...</td>\n",
              "      <td>дом находиться полуразрушить состояние управле...</td>\n",
              "    </tr>\n",
              "    <tr>\n",
              "      <th>4</th>\n",
              "      <td>0</td>\n",
              "      <td>Многоквартирные дома</td>\n",
              "      <td>Нарушения в вопросах оплаты услуг ЖКХ</td>\n",
              "      <td>Здравствуйте зовут вопрос касается отопления и...</td>\n",
              "      <td>зовут вопрос касается отопления сумм которые н...</td>\n",
              "      <td>зовут вопрос каса отоплен сумм котор нам квита...</td>\n",
              "      <td>звать вопрос касаться отопление сумма квитанци...</td>\n",
              "    </tr>\n",
              "    <tr>\n",
              "      <th>...</th>\n",
              "      <td>...</td>\n",
              "      <td>...</td>\n",
              "      <td>...</td>\n",
              "      <td>...</td>\n",
              "      <td>...</td>\n",
              "      <td>...</td>\n",
              "      <td>...</td>\n",
              "    </tr>\n",
              "    <tr>\n",
              "      <th>7387</th>\n",
              "      <td>11</td>\n",
              "      <td>Строительный объект</td>\n",
              "      <td>Нарушение строительных норм *</td>\n",
              "      <td>день жители частного сектора домов номер прос...</td>\n",
              "      <td>день жители частного сектора домов номер проси...</td>\n",
              "      <td>ден жител частн сектор дом номер прос помощ ра...</td>\n",
              "      <td>день житель частное сектор дом номер просить п...</td>\n",
              "    </tr>\n",
              "    <tr>\n",
              "      <th>7388</th>\n",
              "      <td>11</td>\n",
              "      <td>Строительный объект</td>\n",
              "      <td>Неисполнение застройщиком договорных обязательств</td>\n",
              "      <td>день в активно ведётся строительство долгостр...</td>\n",
              "      <td>день активно ведётся строительство долгостроев...</td>\n",
              "      <td>ден активн ведет строительств долгостро везд з...</td>\n",
              "      <td>день активно вестись строительство долгострой ...</td>\n",
              "    </tr>\n",
              "    <tr>\n",
              "      <th>7389</th>\n",
              "      <td>11</td>\n",
              "      <td>Строительный объект</td>\n",
              "      <td>Неисполнение застройщиком договорных обязательств</td>\n",
              "      <td>Здравствуйте я ранее обращалась дома пришел от...</td>\n",
              "      <td>ранее обращалась дома пришел ответ следующего ...</td>\n",
              "      <td>ран обраща дом пришел ответ след содержан обра...</td>\n",
              "      <td>ранее обращаться дом прийти ответ следующий со...</td>\n",
              "    </tr>\n",
              "    <tr>\n",
              "      <th>7390</th>\n",
              "      <td>11</td>\n",
              "      <td>Строительный объект</td>\n",
              "      <td>Неисполнение застройщиком договорных обязательств</td>\n",
              "      <td>приходом должность главы региона началось реш...</td>\n",
              "      <td>приходом должность главы региона началось реше...</td>\n",
              "      <td>приход должност глав регион нача решен проблем...</td>\n",
              "      <td>приход должность глава регион начаться решение...</td>\n",
              "    </tr>\n",
              "    <tr>\n",
              "      <th>7391</th>\n",
              "      <td>11</td>\n",
              "      <td>Строительный объект</td>\n",
              "      <td>Неисполнение застройщиком договорных обязательств</td>\n",
              "      <td>Здравствуйте приобрели июня квартиру в ипотеку...</td>\n",
              "      <td>приобрели июня квартиру ипотеку материнского к...</td>\n",
              "      <td>приобрел июн квартир ипотек материнск капита н...</td>\n",
              "      <td>приобрести июнь квартира ипотека материнский к...</td>\n",
              "    </tr>\n",
              "  </tbody>\n",
              "</table>\n",
              "<p>7392 rows × 7 columns</p>\n",
              "</div>\n",
              "      <button class=\"colab-df-convert\" onclick=\"convertToInteractive('df-7b065561-c671-4e68-9c2e-f9eb3a043440')\"\n",
              "              title=\"Convert this dataframe to an interactive table.\"\n",
              "              style=\"display:none;\">\n",
              "        \n",
              "  <svg xmlns=\"http://www.w3.org/2000/svg\" height=\"24px\"viewBox=\"0 0 24 24\"\n",
              "       width=\"24px\">\n",
              "    <path d=\"M0 0h24v24H0V0z\" fill=\"none\"/>\n",
              "    <path d=\"M18.56 5.44l.94 2.06.94-2.06 2.06-.94-2.06-.94-.94-2.06-.94 2.06-2.06.94zm-11 1L8.5 8.5l.94-2.06 2.06-.94-2.06-.94L8.5 2.5l-.94 2.06-2.06.94zm10 10l.94 2.06.94-2.06 2.06-.94-2.06-.94-.94-2.06-.94 2.06-2.06.94z\"/><path d=\"M17.41 7.96l-1.37-1.37c-.4-.4-.92-.59-1.43-.59-.52 0-1.04.2-1.43.59L10.3 9.45l-7.72 7.72c-.78.78-.78 2.05 0 2.83L4 21.41c.39.39.9.59 1.41.59.51 0 1.02-.2 1.41-.59l7.78-7.78 2.81-2.81c.8-.78.8-2.07 0-2.86zM5.41 20L4 18.59l7.72-7.72 1.47 1.35L5.41 20z\"/>\n",
              "  </svg>\n",
              "      </button>\n",
              "      \n",
              "  <style>\n",
              "    .colab-df-container {\n",
              "      display:flex;\n",
              "      flex-wrap:wrap;\n",
              "      gap: 12px;\n",
              "    }\n",
              "\n",
              "    .colab-df-convert {\n",
              "      background-color: #E8F0FE;\n",
              "      border: none;\n",
              "      border-radius: 50%;\n",
              "      cursor: pointer;\n",
              "      display: none;\n",
              "      fill: #1967D2;\n",
              "      height: 32px;\n",
              "      padding: 0 0 0 0;\n",
              "      width: 32px;\n",
              "    }\n",
              "\n",
              "    .colab-df-convert:hover {\n",
              "      background-color: #E2EBFA;\n",
              "      box-shadow: 0px 1px 2px rgba(60, 64, 67, 0.3), 0px 1px 3px 1px rgba(60, 64, 67, 0.15);\n",
              "      fill: #174EA6;\n",
              "    }\n",
              "\n",
              "    [theme=dark] .colab-df-convert {\n",
              "      background-color: #3B4455;\n",
              "      fill: #D2E3FC;\n",
              "    }\n",
              "\n",
              "    [theme=dark] .colab-df-convert:hover {\n",
              "      background-color: #434B5C;\n",
              "      box-shadow: 0px 1px 3px 1px rgba(0, 0, 0, 0.15);\n",
              "      filter: drop-shadow(0px 1px 2px rgba(0, 0, 0, 0.3));\n",
              "      fill: #FFFFFF;\n",
              "    }\n",
              "  </style>\n",
              "\n",
              "      <script>\n",
              "        const buttonEl =\n",
              "          document.querySelector('#df-7b065561-c671-4e68-9c2e-f9eb3a043440 button.colab-df-convert');\n",
              "        buttonEl.style.display =\n",
              "          google.colab.kernel.accessAllowed ? 'block' : 'none';\n",
              "\n",
              "        async function convertToInteractive(key) {\n",
              "          const element = document.querySelector('#df-7b065561-c671-4e68-9c2e-f9eb3a043440');\n",
              "          const dataTable =\n",
              "            await google.colab.kernel.invokeFunction('convertToInteractive',\n",
              "                                                     [key], {});\n",
              "          if (!dataTable) return;\n",
              "\n",
              "          const docLinkHtml = 'Like what you see? Visit the ' +\n",
              "            '<a target=\"_blank\" href=https://colab.research.google.com/notebooks/data_table.ipynb>data table notebook</a>'\n",
              "            + ' to learn more about interactive tables.';\n",
              "          element.innerHTML = '';\n",
              "          dataTable['output_type'] = 'display_data';\n",
              "          await google.colab.output.renderOutput(dataTable, element);\n",
              "          const docLink = document.createElement('div');\n",
              "          docLink.innerHTML = docLinkHtml;\n",
              "          element.appendChild(docLink);\n",
              "        }\n",
              "      </script>\n",
              "    </div>\n",
              "  </div>\n",
              "  "
            ]
          },
          "metadata": {},
          "execution_count": 14
        }
      ],
      "source": [
        "df_res"
      ]
    },
    {
      "cell_type": "code",
      "execution_count": 29,
      "metadata": {
        "id": "PM2MmKHyldZp"
      },
      "outputs": [],
      "source": [
        "X, y = [], []"
      ]
    },
    {
      "cell_type": "code",
      "source": [
        "for i, row in df_res.iterrows():\n",
        "  th = remove_multiple_spaces(remove_numbers(remove_punctuation(str(row.theme).strip().lower())))\n",
        "  X.append(th + ' ' + row.text_prep)\n",
        "  y.append(row.sphere)"
      ],
      "metadata": {
        "id": "MrFnzoIvrFIb"
      },
      "execution_count": 30,
      "outputs": []
    },
    {
      "cell_type": "code",
      "source": [
        "X, y = np.array(X), np.array(y)"
      ],
      "metadata": {
        "id": "wQYuNMBlsBX7"
      },
      "execution_count": 31,
      "outputs": []
    },
    {
      "cell_type": "code",
      "execution_count": 32,
      "metadata": {
        "id": "vzOTfk88_41K"
      },
      "outputs": [],
      "source": [
        "import warnings\n",
        "warnings.filterwarnings('ignore')"
      ]
    },
    {
      "cell_type": "code",
      "execution_count": 33,
      "metadata": {
        "id": "UF4jKM35QMpP"
      },
      "outputs": [],
      "source": [
        "from sklearn.pipeline import Pipeline\n",
        "from sklearn.feature_extraction.text import TfidfTransformer\n",
        "from sklearn.feature_extraction.text import CountVectorizer\n",
        "from sklearn.metrics import accuracy_score\n",
        "from sklearn.metrics import f1_score\n",
        "from sklearn.model_selection import GridSearchCV\n",
        "from sklearn.metrics import classification_report"
      ]
    },
    {
      "cell_type": "code",
      "execution_count": 98,
      "metadata": {
        "colab": {
          "base_uri": "https://localhost:8080/"
        },
        "id": "8WbyIZzy0Q_c",
        "outputId": "b5ca0a04-0227-4cd9-e8c5-1cf84dcaa99a"
      },
      "outputs": [
        {
          "output_type": "stream",
          "name": "stdout",
          "text": [
            "Populating the interactive namespace from numpy and matplotlib\n"
          ]
        }
      ],
      "source": [
        "from sklearn.svm import SVC\n",
        "from sklearn.tree import DecisionTreeClassifier, ExtraTreeClassifier\n",
        "from sklearn.linear_model import LogisticRegression\n",
        "from sklearn.ensemble import RandomForestClassifier\n",
        "from sklearn.metrics import *\n",
        "import matplotlib.pyplot as plt\n",
        "%pylab inline\n",
        "import seaborn as sns\n",
        "\n",
        "rs = 42\n",
        "\n",
        "lr = LogisticRegression(random_state=rs, n_jobs=-1, C=0.6)\n",
        "rfc = RandomForestClassifier(random_state=rs, n_jobs =-1, n_estimators=200, min_samples_leaf=10, min_samples_split=10, max_depth=35)\n",
        "svc = SVC(random_state=rs, C=0.6)\n",
        "dtc = DecisionTreeClassifier(min_samples_split=7, random_state=rs, max_depth=20)"
      ]
    },
    {
      "cell_type": "code",
      "execution_count": 59,
      "metadata": {
        "id": "qP0p0iShZ1cK"
      },
      "outputs": [],
      "source": [
        "from sklearn.model_selection import StratifiedKFold, cross_validate\n",
        "from sklearn import metrics"
      ]
    },
    {
      "cell_type": "code",
      "source": [
        "model = Pipeline([('vect', CountVectorizer()),\n",
        "                ('tfidf', TfidfTransformer()),\n",
        "                ('clf', LogisticRegression()),\n",
        "               ])"
      ],
      "metadata": {
        "id": "yn8jn7wl_bTX"
      },
      "execution_count": null,
      "outputs": []
    },
    {
      "cell_type": "code",
      "execution_count": 60,
      "metadata": {
        "id": "3cZ8KC12PTLG"
      },
      "outputs": [],
      "source": [
        "model = Pipeline([('vect', CountVectorizer()),\n",
        "                ('tfidf', TfidfTransformer()),\n",
        "                ('clf', lr),\n",
        "               ])"
      ]
    },
    {
      "cell_type": "code",
      "source": [
        "skf = StratifiedKFold(n_splits=5, shuffle=True, random_state=42)"
      ],
      "metadata": {
        "id": "J9Sm2wANqwvY"
      },
      "execution_count": 61,
      "outputs": []
    },
    {
      "cell_type": "code",
      "source": [
        "scores = cross_validate(estimator=model, X=X, y=y, \n",
        "                         cv=skf, scoring=['f1_weighted', 'accuracy'], n_jobs=-1)"
      ],
      "metadata": {
        "id": "iVd0Ltm5lNh9"
      },
      "execution_count": 62,
      "outputs": []
    },
    {
      "cell_type": "code",
      "source": [
        "for i in scores.keys():\n",
        "  print('{}\\n scores = {} \\nmean score = {:.5f} +/- {:.5f}'.format(i, scores[i], scores[i].mean(), scores[i].std()))"
      ],
      "metadata": {
        "colab": {
          "base_uri": "https://localhost:8080/"
        },
        "id": "6ZChFerG5pkv",
        "outputId": "2071ff43-8877-467b-e919-a3123b943930"
      },
      "execution_count": 63,
      "outputs": [
        {
          "output_type": "stream",
          "name": "stdout",
          "text": [
            "fit_time\n",
            " scores = [12.0021596  11.9317224  11.46306348 11.96760559  6.8990469 ] \n",
            "mean score = 10.85272 +/- 1.98658\n",
            "score_time\n",
            " scores = [0.23216057 0.19435787 0.24827886 0.21879411 0.13854742] \n",
            "mean score = 0.20643 +/- 0.03826\n",
            "test_f1_weighted\n",
            " scores = [0.89132049 0.88639834 0.89255068 0.88642398 0.88674288] \n",
            "mean score = 0.88869 +/- 0.00268\n",
            "test_accuracy\n",
            " scores = [0.90331305 0.89790399 0.90460081 0.89715832 0.89715832] \n",
            "mean score = 0.90003 +/- 0.00325\n"
          ]
        }
      ]
    },
    {
      "cell_type": "code",
      "execution_count": 65,
      "metadata": {
        "id": "FWgeQt4WvYP_",
        "colab": {
          "base_uri": "https://localhost:8080/"
        },
        "outputId": "7b03fe0f-28ff-4003-cbc4-404cfa347448"
      },
      "outputs": [
        {
          "output_type": "stream",
          "name": "stdout",
          "text": [
            "fit_time\n",
            " scores = [48.06270456 48.2599287  48.8980248  48.91520834 35.26057839] \n",
            "mean score = 45.87929 +/- 5.32018\n",
            "score_time\n",
            " scores = [5.61987424 5.54617023 6.29594111 6.32194185 4.0846889 ] \n",
            "mean score = 5.57372 +/- 0.81259\n",
            "test_f1_weighted\n",
            " scores = [0.87152967 0.86871195 0.87651311 0.87610038 0.87357974] \n",
            "mean score = 0.87329 +/- 0.00291\n",
            "test_accuracy\n",
            " scores = [0.88708587 0.88302907 0.89039242 0.88836265 0.88700947] \n",
            "mean score = 0.88718 +/- 0.00241\n"
          ]
        }
      ],
      "source": [
        "model = Pipeline([('vect', CountVectorizer()),\n",
        "                ('tfidf', TfidfTransformer()),\n",
        "                ('clf', svc),\n",
        "               ])\n",
        "\n",
        "scores = cross_validate(estimator=model, X=X, y=y, \n",
        "                         cv=skf, scoring=['f1_weighted', 'accuracy'], n_jobs=-1)\n",
        "for i in scores.keys():\n",
        "  print('{}\\n scores = {} \\nmean score = {:.5f} +/- {:.5f}'.format(i, scores[i], scores[i].mean(), scores[i].std()))"
      ]
    },
    {
      "cell_type": "code",
      "execution_count": 37,
      "metadata": {
        "colab": {
          "base_uri": "https://localhost:8080/"
        },
        "id": "63sUFMgHNivX",
        "outputId": "af7c1e57-e1d0-4852-b981-08c75a2b6241"
      },
      "outputs": [
        {
          "output_type": "stream",
          "name": "stdout",
          "text": [
            "fit_time\n",
            " scores = [3.52608824 3.52566004 3.40613008 3.28596783 1.96286535] \n",
            "mean score = 3.14134 +/- 0.59591\n",
            "score_time\n",
            " scores = [0.43717408 0.42660451 0.40646625 0.50445652 0.33436894] \n",
            "mean score = 0.42181 +/- 0.05472\n",
            "test_f1_weighted\n",
            " scores = [0.87156844 0.84785665 0.86151514 0.87373867 0.85569452] \n",
            "mean score = 0.86207 +/- 0.00969\n",
            "test_accuracy\n",
            " scores = [0.88302907 0.8647735  0.87483085 0.88092016 0.86874154] \n",
            "mean score = 0.87446 +/- 0.00695\n"
          ]
        }
      ],
      "source": [
        "model = Pipeline([('vect', CountVectorizer()),\n",
        "                ('tfidf', TfidfTransformer()),\n",
        "                ('clf', rfc),\n",
        "               ])\n",
        "\n",
        "scores = cross_validate(estimator=model, X=X, y=y, \n",
        "                         cv=skf, scoring=['f1_weighted', 'accuracy'], n_jobs=-1)\n",
        "for i in scores.keys():\n",
        "  print('{}\\n scores = {} \\nmean score = {:.5f} +/- {:.5f}'.format(i, scores[i], scores[i].mean(), scores[i].std()))"
      ]
    },
    {
      "cell_type": "code",
      "execution_count": 109,
      "metadata": {
        "id": "Tnpz8g2M02RT"
      },
      "outputs": [],
      "source": [
        "from sklearn.ensemble import GradientBoostingClassifier\n",
        "\n",
        "etc = ExtraTreeClassifier(max_depth=150, random_state=rs)\n",
        "gbc = GradientBoostingClassifier(random_state=rs, max_depth=1, n_estimators=30)"
      ]
    },
    {
      "cell_type": "code",
      "source": [
        "model = Pipeline([('vect', CountVectorizer()),\n",
        "                ('tfidf', TfidfTransformer()),\n",
        "                ('clf', gbc),\n",
        "               ])\n",
        "\n",
        "scores = cross_validate(estimator=model, X=X, y=y, \n",
        "                         cv=skf, scoring=['f1_weighted', 'accuracy'], n_jobs=-1)\n",
        "for i in scores.keys():\n",
        "  print('{}\\n scores = {} \\nmean score = {:.5f} +/- {:.5f}'.format(i, scores[i], scores[i].mean(), scores[i].std()))"
      ],
      "metadata": {
        "id": "BGy-19GOL2i3",
        "colab": {
          "base_uri": "https://localhost:8080/"
        },
        "outputId": "6d7be855-da85-4bd6-e8b0-bc793e906c4a"
      },
      "execution_count": 76,
      "outputs": [
        {
          "output_type": "stream",
          "name": "stdout",
          "text": [
            "fit_time\n",
            " scores = [24.15670848 21.97610664 21.60143542 21.44337511 14.37242627] \n",
            "mean score = 20.71001 +/- 3.31603\n",
            "score_time\n",
            " scores = [0.22776484 0.23060703 0.21398282 0.22490907 0.14183879] \n",
            "mean score = 0.20782 +/- 0.03347\n",
            "test_f1_weighted\n",
            " scores = [0.88487132 0.88126374 0.88117116 0.88393375 0.89835586] \n",
            "mean score = 0.88592 +/- 0.00639\n",
            "test_accuracy\n",
            " scores = [0.88167681 0.87897228 0.8782138  0.88092016 0.89648173] \n",
            "mean score = 0.88325 +/- 0.00673\n"
          ]
        }
      ]
    },
    {
      "cell_type": "code",
      "execution_count": 110,
      "metadata": {
        "colab": {
          "base_uri": "https://localhost:8080/"
        },
        "id": "8iFWfcg5pN1v",
        "outputId": "c55103d2-e473-4a60-81c1-c2bd9fa6af08"
      },
      "outputs": [
        {
          "output_type": "stream",
          "name": "stdout",
          "text": [
            "fit_time\n",
            " scores = [2.73733068 2.79563785 1.78623891 1.63148212 0.87550998] \n",
            "mean score = 1.96524 +/- 0.72341\n",
            "score_time\n",
            " scores = [0.31611824 0.47460318 0.21863198 0.22204041 0.1333549 ] \n",
            "mean score = 0.27295 +/- 0.11624\n",
            "test_f1_weighted\n",
            " scores = [0.72496124 0.71049975 0.71587867 0.76826797 0.68065426] \n",
            "mean score = 0.72005 +/- 0.02832\n",
            "test_accuracy\n",
            " scores = [0.72751859 0.70858688 0.71718539 0.77131258 0.67861976] \n",
            "mean score = 0.72064 +/- 0.03013\n"
          ]
        }
      ],
      "source": [
        "model = Pipeline([('vect', CountVectorizer()),\n",
        "                ('tfidf', TfidfTransformer()),\n",
        "                ('clf', etc),\n",
        "               ])\n",
        "\n",
        "scores = cross_validate(estimator=model, X=X, y=y, \n",
        "                         cv=skf, scoring=['f1_weighted', 'accuracy'], n_jobs=-1)\n",
        "for i in scores.keys():\n",
        "  print('{}\\n scores = {} \\nmean score = {:.5f} +/- {:.5f}'.format(i, scores[i], scores[i].mean(), scores[i].std()))"
      ]
    },
    {
      "cell_type": "code",
      "source": [
        "model = Pipeline([('vect', CountVectorizer()),\n",
        "                ('tfidf', TfidfTransformer()),\n",
        "                ('clf', dtc),\n",
        "               ])\n",
        "\n",
        "scores = cross_validate(estimator=model, X=X, y=y, \n",
        "                         cv=skf, scoring=['f1_weighted', 'accuracy'], n_jobs=-1)\n",
        "for i in scores.keys():\n",
        "  print('{}\\n scores = {} \\nmean score = {:.5f} +/- {:.5f}'.format(i, scores[i], scores[i].mean(), scores[i].std()))"
      ],
      "metadata": {
        "colab": {
          "base_uri": "https://localhost:8080/"
        },
        "id": "YKAHAKJd0fRr",
        "outputId": "ccbbcd6a-8ed5-425b-988c-c9fb12680bca"
      },
      "execution_count": 78,
      "outputs": [
        {
          "output_type": "stream",
          "name": "stdout",
          "text": [
            "fit_time\n",
            " scores = [2.38381791 2.38625574 2.42251134 2.41195154 1.53812885] \n",
            "mean score = 2.22853 +/- 0.34552\n",
            "score_time\n",
            " scores = [0.2151618  0.21284819 0.20901299 0.21286964 0.14504266] \n",
            "mean score = 0.19899 +/- 0.02704\n",
            "test_f1_weighted\n",
            " scores = [0.83100694 0.82273797 0.84331363 0.84175116 0.84219097] \n",
            "mean score = 0.83620 +/- 0.00807\n",
            "test_accuracy\n",
            " scores = [0.8296146  0.82555781 0.84641407 0.84573748 0.84776725] \n",
            "mean score = 0.83902 +/- 0.00944\n"
          ]
        }
      ]
    },
    {
      "cell_type": "code",
      "source": [
        "np.set_printoptions(threshold=300)\n",
        "model['vect'].fit_transform(df_res['text_prep'][2:7])[4].toarray()"
      ],
      "metadata": {
        "colab": {
          "base_uri": "https://localhost:8080/"
        },
        "id": "EOOiB-sp-4yQ",
        "outputId": "ac94fefe-f16f-4283-85fa-c1e1c5d08edd"
      },
      "execution_count": 92,
      "outputs": [
        {
          "output_type": "execute_result",
          "data": {
            "text/plain": [
              "array([[0, 0, 0, 0, 0, 0, 0, 0, 0, 0, 0, 0, 1, 2, 1, 1, 0, 0, 0, 0, 0, 0,\n",
              "        0, 0, 1, 1, 0, 0, 0, 0, 0, 0, 0, 1, 1, 0, 0, 0, 1, 0, 0, 0, 0, 0,\n",
              "        0, 0, 0, 1, 0, 0, 0, 0, 0, 0, 0, 1, 0, 0, 0, 0, 0, 0, 0, 0, 0, 0,\n",
              "        1, 0, 0, 0, 0, 0, 0, 0, 0, 0, 0, 0, 0, 0, 0, 0, 0, 0, 0, 0, 0, 0,\n",
              "        0, 0, 0, 0, 0, 0, 0, 0, 0, 0, 0, 0, 0, 0, 0, 0, 0, 1, 0, 0, 1, 1,\n",
              "        0, 0, 0, 0, 0, 0, 0, 0, 0, 0, 0, 1, 0, 0, 0, 0, 0, 0, 0, 0, 0, 0,\n",
              "        1, 0, 0, 0, 0, 0, 0, 0, 0, 0, 0, 0, 0, 0, 0, 0, 0, 0, 0, 0, 0, 1,\n",
              "        0, 0, 0, 0, 0, 0, 0, 0, 0, 0, 0, 0, 0, 0, 0, 0, 0, 1, 0, 0, 0, 0,\n",
              "        0, 0, 0, 0, 0, 0, 0, 0, 1, 0, 0, 0, 1, 0, 0, 0, 0, 0, 0, 0, 0, 0,\n",
              "        0, 0, 0, 0, 0, 0, 0, 1, 1, 0, 0, 0, 0, 1, 0, 0, 0, 0, 0, 0, 0, 0,\n",
              "        0, 1, 0, 0, 0, 0, 0, 0, 0, 0, 0, 0, 0, 0, 0, 0, 0, 0, 0, 0, 0, 0,\n",
              "        1, 0, 0, 0, 0, 0, 0, 0, 0, 1, 0, 0, 0, 0, 0, 0, 0, 0, 0, 0, 0, 0,\n",
              "        0, 0, 0, 0, 0, 0]])"
            ]
          },
          "metadata": {},
          "execution_count": 92
        }
      ]
    },
    {
      "cell_type": "code",
      "source": [
        "np.set_printoptions(threshold=1000)\n",
        "T = model['vect'].fit_transform(df_res['text_prep'][4:7]).toarray()\n",
        "model['tfidf'].fit_transform(T)[2].toarray()"
      ],
      "metadata": {
        "colab": {
          "base_uri": "https://localhost:8080/"
        },
        "id": "miTQtnCD9o94",
        "outputId": "a37deb7b-1612-4c09-e217-c3c8349e7847"
      },
      "execution_count": 87,
      "outputs": [
        {
          "output_type": "execute_result",
          "data": {
            "text/plain": [
              "array([[0.        , 0.        , 0.        , 0.18257419, 0.36514837,\n",
              "        0.18257419, 0.18257419, 0.        , 0.        , 0.        ,\n",
              "        0.18257419, 0.18257419, 0.        , 0.        , 0.        ,\n",
              "        0.18257419, 0.18257419, 0.18257419, 0.        , 0.        ,\n",
              "        0.18257419, 0.        , 0.18257419, 0.        , 0.        ,\n",
              "        0.        , 0.18257419, 0.        , 0.        , 0.        ,\n",
              "        0.        , 0.        , 0.        , 0.        , 0.        ,\n",
              "        0.        , 0.        , 0.        , 0.        , 0.        ,\n",
              "        0.18257419, 0.18257419, 0.18257419, 0.        , 0.        ,\n",
              "        0.18257419, 0.        , 0.        , 0.18257419, 0.        ,\n",
              "        0.        , 0.        , 0.        , 0.        , 0.        ,\n",
              "        0.        , 0.        , 0.        , 0.18257419, 0.        ,\n",
              "        0.        , 0.        , 0.        , 0.18257419, 0.        ,\n",
              "        0.        , 0.18257419, 0.18257419, 0.        , 0.        ,\n",
              "        0.        , 0.18257419, 0.18257419, 0.        , 0.        ,\n",
              "        0.18257419, 0.18257419, 0.        , 0.        , 0.        ,\n",
              "        0.        , 0.        , 0.        , 0.        , 0.        ,\n",
              "        0.        , 0.        , 0.        , 0.        , 0.18257419,\n",
              "        0.18257419, 0.        , 0.        , 0.        , 0.        ,\n",
              "        0.        , 0.        , 0.        ]])"
            ]
          },
          "metadata": {},
          "execution_count": 87
        }
      ]
    },
    {
      "cell_type": "code",
      "source": [
        ""
      ],
      "metadata": {
        "id": "SUg9h88-_NeD"
      },
      "execution_count": null,
      "outputs": []
    }
  ],
  "metadata": {
    "colab": {
      "collapsed_sections": [],
      "name": "Classificators",
      "provenance": [],
      "include_colab_link": true
    },
    "kernelspec": {
      "display_name": "Python 3",
      "language": "python",
      "name": "python3"
    },
    "language_info": {
      "codemirror_mode": {
        "name": "ipython",
        "version": 2
      },
      "file_extension": ".py",
      "mimetype": "text/x-python",
      "name": "python",
      "nbconvert_exporter": "python",
      "pygments_lexer": "ipython2",
      "version": "2.7.6"
    },
    "widgets": {
      "application/vnd.jupyter.widget-state+json": {
        "0344d72f922d4d1fada84cbce9094513": {
          "model_module": "@jupyter-widgets/base",
          "model_module_version": "1.2.0",
          "model_name": "LayoutModel",
          "state": {
            "_model_module": "@jupyter-widgets/base",
            "_model_module_version": "1.2.0",
            "_model_name": "LayoutModel",
            "_view_count": null,
            "_view_module": "@jupyter-widgets/base",
            "_view_module_version": "1.2.0",
            "_view_name": "LayoutView",
            "align_content": null,
            "align_items": null,
            "align_self": null,
            "border": null,
            "bottom": null,
            "display": null,
            "flex": null,
            "flex_flow": null,
            "grid_area": null,
            "grid_auto_columns": null,
            "grid_auto_flow": null,
            "grid_auto_rows": null,
            "grid_column": null,
            "grid_gap": null,
            "grid_row": null,
            "grid_template_areas": null,
            "grid_template_columns": null,
            "grid_template_rows": null,
            "height": null,
            "justify_content": null,
            "justify_items": null,
            "left": null,
            "margin": null,
            "max_height": null,
            "max_width": null,
            "min_height": null,
            "min_width": null,
            "object_fit": null,
            "object_position": null,
            "order": null,
            "overflow": null,
            "overflow_x": null,
            "overflow_y": null,
            "padding": null,
            "right": null,
            "top": null,
            "visibility": null,
            "width": null
          }
        },
        "2af0725672694c8aa6e1208d70823ca0": {
          "model_module": "@jupyter-widgets/base",
          "model_module_version": "1.2.0",
          "model_name": "LayoutModel",
          "state": {
            "_model_module": "@jupyter-widgets/base",
            "_model_module_version": "1.2.0",
            "_model_name": "LayoutModel",
            "_view_count": null,
            "_view_module": "@jupyter-widgets/base",
            "_view_module_version": "1.2.0",
            "_view_name": "LayoutView",
            "align_content": null,
            "align_items": null,
            "align_self": null,
            "border": null,
            "bottom": null,
            "display": null,
            "flex": null,
            "flex_flow": null,
            "grid_area": null,
            "grid_auto_columns": null,
            "grid_auto_flow": null,
            "grid_auto_rows": null,
            "grid_column": null,
            "grid_gap": null,
            "grid_row": null,
            "grid_template_areas": null,
            "grid_template_columns": null,
            "grid_template_rows": null,
            "height": null,
            "justify_content": null,
            "justify_items": null,
            "left": null,
            "margin": null,
            "max_height": null,
            "max_width": null,
            "min_height": null,
            "min_width": null,
            "object_fit": null,
            "object_position": null,
            "order": null,
            "overflow": null,
            "overflow_x": null,
            "overflow_y": null,
            "padding": null,
            "right": null,
            "top": null,
            "visibility": null,
            "width": null
          }
        },
        "47ebf6e2f57a44d5af3cd35fbadd99dc": {
          "model_module": "@jupyter-widgets/controls",
          "model_module_version": "1.5.0",
          "model_name": "FloatProgressModel",
          "state": {
            "_dom_classes": [],
            "_model_module": "@jupyter-widgets/controls",
            "_model_module_version": "1.5.0",
            "_model_name": "FloatProgressModel",
            "_view_count": null,
            "_view_module": "@jupyter-widgets/controls",
            "_view_module_version": "1.5.0",
            "_view_name": "ProgressView",
            "bar_style": "success",
            "description": "",
            "description_tooltip": null,
            "layout": "IPY_MODEL_c7b3bb3af744472da4a0ba3656cb2c37",
            "max": 7392,
            "min": 0,
            "orientation": "horizontal",
            "style": "IPY_MODEL_54c45933d28c4085a1fc2fc189b8ffcf",
            "value": 7392
          }
        },
        "54c45933d28c4085a1fc2fc189b8ffcf": {
          "model_module": "@jupyter-widgets/controls",
          "model_module_version": "1.5.0",
          "model_name": "ProgressStyleModel",
          "state": {
            "_model_module": "@jupyter-widgets/controls",
            "_model_module_version": "1.5.0",
            "_model_name": "ProgressStyleModel",
            "_view_count": null,
            "_view_module": "@jupyter-widgets/base",
            "_view_module_version": "1.2.0",
            "_view_name": "StyleView",
            "bar_color": null,
            "description_width": ""
          }
        },
        "5abba94d5c584ae6a428af13a452549d": {
          "model_module": "@jupyter-widgets/controls",
          "model_module_version": "1.5.0",
          "model_name": "HTMLModel",
          "state": {
            "_dom_classes": [],
            "_model_module": "@jupyter-widgets/controls",
            "_model_module_version": "1.5.0",
            "_model_name": "HTMLModel",
            "_view_count": null,
            "_view_module": "@jupyter-widgets/controls",
            "_view_module_version": "1.5.0",
            "_view_name": "HTMLView",
            "description": "",
            "description_tooltip": null,
            "layout": "IPY_MODEL_0344d72f922d4d1fada84cbce9094513",
            "placeholder": "​",
            "style": "IPY_MODEL_7554396b92d84d659754274f47b27666",
            "value": "100%"
          }
        },
        "7554396b92d84d659754274f47b27666": {
          "model_module": "@jupyter-widgets/controls",
          "model_module_version": "1.5.0",
          "model_name": "DescriptionStyleModel",
          "state": {
            "_model_module": "@jupyter-widgets/controls",
            "_model_module_version": "1.5.0",
            "_model_name": "DescriptionStyleModel",
            "_view_count": null,
            "_view_module": "@jupyter-widgets/base",
            "_view_module_version": "1.2.0",
            "_view_name": "StyleView",
            "description_width": ""
          }
        },
        "7ad4ac115a4941269306d82dbaf73588": {
          "model_module": "@jupyter-widgets/controls",
          "model_module_version": "1.5.0",
          "model_name": "HTMLModel",
          "state": {
            "_dom_classes": [],
            "_model_module": "@jupyter-widgets/controls",
            "_model_module_version": "1.5.0",
            "_model_name": "HTMLModel",
            "_view_count": null,
            "_view_module": "@jupyter-widgets/controls",
            "_view_module_version": "1.5.0",
            "_view_name": "HTMLView",
            "description": "",
            "description_tooltip": null,
            "layout": "IPY_MODEL_2af0725672694c8aa6e1208d70823ca0",
            "placeholder": "​",
            "style": "IPY_MODEL_a6f736bf1ee244be82664b3503a78f52",
            "value": " 7392/7392 [01:39&lt;00:00, 58.99it/s]"
          }
        },
        "a6f736bf1ee244be82664b3503a78f52": {
          "model_module": "@jupyter-widgets/controls",
          "model_module_version": "1.5.0",
          "model_name": "DescriptionStyleModel",
          "state": {
            "_model_module": "@jupyter-widgets/controls",
            "_model_module_version": "1.5.0",
            "_model_name": "DescriptionStyleModel",
            "_view_count": null,
            "_view_module": "@jupyter-widgets/base",
            "_view_module_version": "1.2.0",
            "_view_name": "StyleView",
            "description_width": ""
          }
        },
        "c2a9f4ca05524113a339702a4047fb1c": {
          "model_module": "@jupyter-widgets/controls",
          "model_module_version": "1.5.0",
          "model_name": "HBoxModel",
          "state": {
            "_dom_classes": [],
            "_model_module": "@jupyter-widgets/controls",
            "_model_module_version": "1.5.0",
            "_model_name": "HBoxModel",
            "_view_count": null,
            "_view_module": "@jupyter-widgets/controls",
            "_view_module_version": "1.5.0",
            "_view_name": "HBoxView",
            "box_style": "",
            "children": [
              "IPY_MODEL_5abba94d5c584ae6a428af13a452549d",
              "IPY_MODEL_47ebf6e2f57a44d5af3cd35fbadd99dc",
              "IPY_MODEL_7ad4ac115a4941269306d82dbaf73588"
            ],
            "layout": "IPY_MODEL_ec19d2ba5c6f4e2eb7a81b714d48b15a"
          }
        },
        "c7b3bb3af744472da4a0ba3656cb2c37": {
          "model_module": "@jupyter-widgets/base",
          "model_module_version": "1.2.0",
          "model_name": "LayoutModel",
          "state": {
            "_model_module": "@jupyter-widgets/base",
            "_model_module_version": "1.2.0",
            "_model_name": "LayoutModel",
            "_view_count": null,
            "_view_module": "@jupyter-widgets/base",
            "_view_module_version": "1.2.0",
            "_view_name": "LayoutView",
            "align_content": null,
            "align_items": null,
            "align_self": null,
            "border": null,
            "bottom": null,
            "display": null,
            "flex": null,
            "flex_flow": null,
            "grid_area": null,
            "grid_auto_columns": null,
            "grid_auto_flow": null,
            "grid_auto_rows": null,
            "grid_column": null,
            "grid_gap": null,
            "grid_row": null,
            "grid_template_areas": null,
            "grid_template_columns": null,
            "grid_template_rows": null,
            "height": null,
            "justify_content": null,
            "justify_items": null,
            "left": null,
            "margin": null,
            "max_height": null,
            "max_width": null,
            "min_height": null,
            "min_width": null,
            "object_fit": null,
            "object_position": null,
            "order": null,
            "overflow": null,
            "overflow_x": null,
            "overflow_y": null,
            "padding": null,
            "right": null,
            "top": null,
            "visibility": null,
            "width": null
          }
        },
        "ec19d2ba5c6f4e2eb7a81b714d48b15a": {
          "model_module": "@jupyter-widgets/base",
          "model_module_version": "1.2.0",
          "model_name": "LayoutModel",
          "state": {
            "_model_module": "@jupyter-widgets/base",
            "_model_module_version": "1.2.0",
            "_model_name": "LayoutModel",
            "_view_count": null,
            "_view_module": "@jupyter-widgets/base",
            "_view_module_version": "1.2.0",
            "_view_name": "LayoutView",
            "align_content": null,
            "align_items": null,
            "align_self": null,
            "border": null,
            "bottom": null,
            "display": null,
            "flex": null,
            "flex_flow": null,
            "grid_area": null,
            "grid_auto_columns": null,
            "grid_auto_flow": null,
            "grid_auto_rows": null,
            "grid_column": null,
            "grid_gap": null,
            "grid_row": null,
            "grid_template_areas": null,
            "grid_template_columns": null,
            "grid_template_rows": null,
            "height": null,
            "justify_content": null,
            "justify_items": null,
            "left": null,
            "margin": null,
            "max_height": null,
            "max_width": null,
            "min_height": null,
            "min_width": null,
            "object_fit": null,
            "object_position": null,
            "order": null,
            "overflow": null,
            "overflow_x": null,
            "overflow_y": null,
            "padding": null,
            "right": null,
            "top": null,
            "visibility": null,
            "width": null
          }
        }
      }
    }
  },
  "nbformat": 4,
  "nbformat_minor": 0
}