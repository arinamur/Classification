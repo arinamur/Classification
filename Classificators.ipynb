{
  "cells": [
    {
      "cell_type": "markdown",
      "metadata": {
        "id": "view-in-github",
        "colab_type": "text"
      },
      "source": [
        "<a href=\"https://colab.research.google.com/github/arinamur/Classification/blob/main/Classificators.ipynb\" target=\"_parent\"><img src=\"https://colab.research.google.com/assets/colab-badge.svg\" alt=\"Open In Colab\"/></a>"
      ]
    },
    {
      "cell_type": "markdown",
      "source": [
        "# Загрузка и анализ данных"
      ],
      "metadata": {
        "id": "lykuvFapQsKR"
      }
    },
    {
      "cell_type": "code",
      "execution_count": 2,
      "metadata": {
        "collapsed": true,
        "id": "tGoNJIvhHF-E"
      },
      "outputs": [],
      "source": [
        "import pandas as pd\n",
        "import numpy as np"
      ]
    },
    {
      "cell_type": "code",
      "execution_count": 3,
      "metadata": {
        "colab": {
          "base_uri": "https://localhost:8080/"
        },
        "id": "Hd6JbJ9XTDMf",
        "outputId": "defa0da7-fa04-40b9-8467-ac326f4f3ade"
      },
      "outputs": [
        {
          "output_type": "stream",
          "name": "stdout",
          "text": [
            "Cloning into 'Classification'...\n",
            "remote: Enumerating objects: 24, done.\u001b[K\n",
            "remote: Counting objects: 100% (24/24), done.\u001b[K\n",
            "remote: Compressing objects: 100% (24/24), done.\u001b[K\n",
            "remote: Total 24 (delta 6), reused 6 (delta 0), pack-reused 0\u001b[K\n",
            "Unpacking objects: 100% (24/24), 1.92 MiB | 8.51 MiB/s, done.\n"
          ]
        }
      ],
      "source": [
        "!git clone 'https://github.com/arinamur/Classification/'"
      ]
    },
    {
      "cell_type": "code",
      "execution_count": 4,
      "metadata": {
        "id": "2ly4CXZ5HF-N"
      },
      "outputs": [],
      "source": [
        "data = pd.read_excel(\"Classification/case_dataset.xlsx\")"
      ]
    },
    {
      "cell_type": "code",
      "source": [
        "data.head()"
      ],
      "metadata": {
        "colab": {
          "base_uri": "https://localhost:8080/",
          "height": 206
        },
        "id": "amfObiftLQIO",
        "outputId": "38846823-3b32-4032-b59e-c35b3f576d37"
      },
      "execution_count": 13,
      "outputs": [
        {
          "output_type": "execute_result",
          "data": {
            "text/plain": [
              "                           sphere  \\\n",
              "0  Жилищно-коммунальное хозяйство   \n",
              "1                      Энергетика   \n",
              "2       Торговля, товары и услуги   \n",
              "3                 Здравоохранение   \n",
              "4              Трудовые отношения   \n",
              "\n",
              "                                            category  \\\n",
              "0                               Многоквартирные дома   \n",
              "1                                  Электроэнергетика   \n",
              "2                                           Торговля   \n",
              "3  Качество оказания медицинской помощи (в том чи...   \n",
              "4                     Нарушения в сфере охраны труда   \n",
              "\n",
              "                                               theme  \\\n",
              "0              Нарушения в вопросах оплаты услуг ЖКХ   \n",
              "1  Организация электроснабжения населенных пункто...   \n",
              "2  Нарушение санитарных требований к организациям...   \n",
              "3           Оказание медицинской помощи в стационаре   \n",
              "4                     Нарушения в сфере охраны труда   \n",
              "\n",
              "                                                text  \n",
              "0   обращаются жильцы можем заверить что и других...  \n",
              "1   обращаюсь лица моей бабушки проживающие адрес...  \n",
              "2   связи коронавирусом в нашей стране и в нашем ...  \n",
              "3   больнице тракторной отсутствует горячая вода ...  \n",
              "4   работаю начальником отделения почтовой связи ...  "
            ],
            "text/html": [
              "\n",
              "  <div id=\"df-3f6ae093-fd1c-4846-a0c3-6a3e54f8799e\">\n",
              "    <div class=\"colab-df-container\">\n",
              "      <div>\n",
              "<style scoped>\n",
              "    .dataframe tbody tr th:only-of-type {\n",
              "        vertical-align: middle;\n",
              "    }\n",
              "\n",
              "    .dataframe tbody tr th {\n",
              "        vertical-align: top;\n",
              "    }\n",
              "\n",
              "    .dataframe thead th {\n",
              "        text-align: right;\n",
              "    }\n",
              "</style>\n",
              "<table border=\"1\" class=\"dataframe\">\n",
              "  <thead>\n",
              "    <tr style=\"text-align: right;\">\n",
              "      <th></th>\n",
              "      <th>sphere</th>\n",
              "      <th>category</th>\n",
              "      <th>theme</th>\n",
              "      <th>text</th>\n",
              "    </tr>\n",
              "  </thead>\n",
              "  <tbody>\n",
              "    <tr>\n",
              "      <th>0</th>\n",
              "      <td>Жилищно-коммунальное хозяйство</td>\n",
              "      <td>Многоквартирные дома</td>\n",
              "      <td>Нарушения в вопросах оплаты услуг ЖКХ</td>\n",
              "      <td>обращаются жильцы можем заверить что и других...</td>\n",
              "    </tr>\n",
              "    <tr>\n",
              "      <th>1</th>\n",
              "      <td>Энергетика</td>\n",
              "      <td>Электроэнергетика</td>\n",
              "      <td>Организация электроснабжения населенных пункто...</td>\n",
              "      <td>обращаюсь лица моей бабушки проживающие адрес...</td>\n",
              "    </tr>\n",
              "    <tr>\n",
              "      <th>2</th>\n",
              "      <td>Торговля, товары и услуги</td>\n",
              "      <td>Торговля</td>\n",
              "      <td>Нарушение санитарных требований к организациям...</td>\n",
              "      <td>связи коронавирусом в нашей стране и в нашем ...</td>\n",
              "    </tr>\n",
              "    <tr>\n",
              "      <th>3</th>\n",
              "      <td>Здравоохранение</td>\n",
              "      <td>Качество оказания медицинской помощи (в том чи...</td>\n",
              "      <td>Оказание медицинской помощи в стационаре</td>\n",
              "      <td>больнице тракторной отсутствует горячая вода ...</td>\n",
              "    </tr>\n",
              "    <tr>\n",
              "      <th>4</th>\n",
              "      <td>Трудовые отношения</td>\n",
              "      <td>Нарушения в сфере охраны труда</td>\n",
              "      <td>Нарушения в сфере охраны труда</td>\n",
              "      <td>работаю начальником отделения почтовой связи ...</td>\n",
              "    </tr>\n",
              "  </tbody>\n",
              "</table>\n",
              "</div>\n",
              "      <button class=\"colab-df-convert\" onclick=\"convertToInteractive('df-3f6ae093-fd1c-4846-a0c3-6a3e54f8799e')\"\n",
              "              title=\"Convert this dataframe to an interactive table.\"\n",
              "              style=\"display:none;\">\n",
              "        \n",
              "  <svg xmlns=\"http://www.w3.org/2000/svg\" height=\"24px\"viewBox=\"0 0 24 24\"\n",
              "       width=\"24px\">\n",
              "    <path d=\"M0 0h24v24H0V0z\" fill=\"none\"/>\n",
              "    <path d=\"M18.56 5.44l.94 2.06.94-2.06 2.06-.94-2.06-.94-.94-2.06-.94 2.06-2.06.94zm-11 1L8.5 8.5l.94-2.06 2.06-.94-2.06-.94L8.5 2.5l-.94 2.06-2.06.94zm10 10l.94 2.06.94-2.06 2.06-.94-2.06-.94-.94-2.06-.94 2.06-2.06.94z\"/><path d=\"M17.41 7.96l-1.37-1.37c-.4-.4-.92-.59-1.43-.59-.52 0-1.04.2-1.43.59L10.3 9.45l-7.72 7.72c-.78.78-.78 2.05 0 2.83L4 21.41c.39.39.9.59 1.41.59.51 0 1.02-.2 1.41-.59l7.78-7.78 2.81-2.81c.8-.78.8-2.07 0-2.86zM5.41 20L4 18.59l7.72-7.72 1.47 1.35L5.41 20z\"/>\n",
              "  </svg>\n",
              "      </button>\n",
              "      \n",
              "  <style>\n",
              "    .colab-df-container {\n",
              "      display:flex;\n",
              "      flex-wrap:wrap;\n",
              "      gap: 12px;\n",
              "    }\n",
              "\n",
              "    .colab-df-convert {\n",
              "      background-color: #E8F0FE;\n",
              "      border: none;\n",
              "      border-radius: 50%;\n",
              "      cursor: pointer;\n",
              "      display: none;\n",
              "      fill: #1967D2;\n",
              "      height: 32px;\n",
              "      padding: 0 0 0 0;\n",
              "      width: 32px;\n",
              "    }\n",
              "\n",
              "    .colab-df-convert:hover {\n",
              "      background-color: #E2EBFA;\n",
              "      box-shadow: 0px 1px 2px rgba(60, 64, 67, 0.3), 0px 1px 3px 1px rgba(60, 64, 67, 0.15);\n",
              "      fill: #174EA6;\n",
              "    }\n",
              "\n",
              "    [theme=dark] .colab-df-convert {\n",
              "      background-color: #3B4455;\n",
              "      fill: #D2E3FC;\n",
              "    }\n",
              "\n",
              "    [theme=dark] .colab-df-convert:hover {\n",
              "      background-color: #434B5C;\n",
              "      box-shadow: 0px 1px 3px 1px rgba(0, 0, 0, 0.15);\n",
              "      filter: drop-shadow(0px 1px 2px rgba(0, 0, 0, 0.3));\n",
              "      fill: #FFFFFF;\n",
              "    }\n",
              "  </style>\n",
              "\n",
              "      <script>\n",
              "        const buttonEl =\n",
              "          document.querySelector('#df-3f6ae093-fd1c-4846-a0c3-6a3e54f8799e button.colab-df-convert');\n",
              "        buttonEl.style.display =\n",
              "          google.colab.kernel.accessAllowed ? 'block' : 'none';\n",
              "\n",
              "        async function convertToInteractive(key) {\n",
              "          const element = document.querySelector('#df-3f6ae093-fd1c-4846-a0c3-6a3e54f8799e');\n",
              "          const dataTable =\n",
              "            await google.colab.kernel.invokeFunction('convertToInteractive',\n",
              "                                                     [key], {});\n",
              "          if (!dataTable) return;\n",
              "\n",
              "          const docLinkHtml = 'Like what you see? Visit the ' +\n",
              "            '<a target=\"_blank\" href=https://colab.research.google.com/notebooks/data_table.ipynb>data table notebook</a>'\n",
              "            + ' to learn more about interactive tables.';\n",
              "          element.innerHTML = '';\n",
              "          dataTable['output_type'] = 'display_data';\n",
              "          await google.colab.output.renderOutput(dataTable, element);\n",
              "          const docLink = document.createElement('div');\n",
              "          docLink.innerHTML = docLinkHtml;\n",
              "          element.appendChild(docLink);\n",
              "        }\n",
              "      </script>\n",
              "    </div>\n",
              "  </div>\n",
              "  "
            ]
          },
          "metadata": {},
          "execution_count": 13
        }
      ]
    },
    {
      "cell_type": "code",
      "source": [
        "for i in data['sphere'].unique():\n",
        "    df_sphere = data[data['sphere'] == i][:]\n",
        "    print(i, len(df_sphere))"
      ],
      "metadata": {
        "colab": {
          "base_uri": "https://localhost:8080/"
        },
        "id": "hIVWyB8gqA6o",
        "outputId": "f275e611-6f7d-431f-cd24-608eef499a63"
      },
      "execution_count": 16,
      "outputs": [
        {
          "output_type": "stream",
          "name": "stdout",
          "text": [
            "Жилищно-коммунальное хозяйство 1860\n",
            "Энергетика 75\n",
            "Торговля, товары и услуги 84\n",
            "Здравоохранение 1496\n",
            "Трудовые отношения 101\n",
            "Благоустройство населённых пунктов (площади, парки, скверы, улицы, дворовые территории, кладбища) 1390\n",
            "Строительство, градостроительная деятельность 199\n",
            "Автомобильные дороги 1273\n",
            "Социальное обеспечение населения 339\n",
            "Экология 110\n",
            "Образование 210\n",
            "Общественный транспорт (ОТ) 216\n",
            "Внутренняя политика 15\n",
            "Замечания по работе данного сайта 28\n",
            "Неправомерная деятельность органов власти 94\n",
            "Правопорядок 113\n",
            "Прочее 141\n",
            "Культура 30\n",
            "Физическая культура и спорт 41\n",
            "Учёт граждан, ЗАГС и архив 16\n",
            "Имущественные и земельные отношения 59\n",
            "Малое и среднее предпринимательство 39\n",
            "Ветеринария 4\n",
            "Связь, телекоммуникации и СМИ 70\n",
            "Предоставление услуг в электронной форме 14\n",
            "Бюджет Липецкой области 5\n",
            "Сельское хозяйство 8\n",
            "Государственная (муниципальная) служба 18\n",
            "Культурное наследие 5\n",
            "Добровольчество 2\n",
            "Туризм 2\n",
            "Инновации и промышленная политика 4\n",
            "Противодействие коррупции 4\n",
            "Техника 1\n"
          ]
        }
      ]
    },
    {
      "cell_type": "markdown",
      "source": [
        "Выбираем 12 сфер с наибольшим количеством обращений."
      ],
      "metadata": {
        "id": "DuPDp1h9Q4iC"
      }
    },
    {
      "cell_type": "code",
      "execution_count": 18,
      "metadata": {
        "id": "Fm2bw5YXR7pq"
      },
      "outputs": [],
      "source": [
        "spheres = ['Жилищно-коммунальное хозяйство', 'Здравоохранение', 'Благоустройство населённых пунктов (площади, парки, скверы, улицы, дворовые территории, кладбища)', 'Автомобильные дороги', 'Социальное обеспечение населения', 'Общественный транспорт (ОТ)', 'Образование', 'Неправомерная деятельность органов власти', 'Правопорядок', 'Экология', 'Трудовые отношения', 'Строительство, градостроительная деятельность']"
      ]
    },
    {
      "cell_type": "code",
      "execution_count": 19,
      "metadata": {
        "id": "OGVPvEnaK3Rx"
      },
      "outputs": [],
      "source": [
        "df_res = pd.DataFrame()\n",
        "for i in spheres:\n",
        "  df_res = pd.concat([df_res, data[data.sphere == i]], ignore_index=True)"
      ]
    },
    {
      "cell_type": "code",
      "source": [
        "indexes = [i for i, row in df_res.iterrows() if row.text == ' ' or type(row.text) == float]\n",
        "df_res = df_res.drop(axis=0, index=indexes)"
      ],
      "metadata": {
        "id": "6RprDAjbgv9j"
      },
      "execution_count": 20,
      "outputs": []
    },
    {
      "cell_type": "code",
      "source": [
        "df_res.head()"
      ],
      "metadata": {
        "colab": {
          "base_uri": "https://localhost:8080/",
          "height": 206
        },
        "id": "snBeoXGzLraN",
        "outputId": "6a0094a2-9ec4-454f-c662-2dc56045920f"
      },
      "execution_count": 21,
      "outputs": [
        {
          "output_type": "execute_result",
          "data": {
            "text/plain": [
              "                           sphere  \\\n",
              "0  Жилищно-коммунальное хозяйство   \n",
              "1  Жилищно-коммунальное хозяйство   \n",
              "2  Жилищно-коммунальное хозяйство   \n",
              "3  Жилищно-коммунальное хозяйство   \n",
              "4  Жилищно-коммунальное хозяйство   \n",
              "\n",
              "                                            category  \\\n",
              "0                               Многоквартирные дома   \n",
              "1                               Многоквартирные дома   \n",
              "2  Государственный, муниципальный и ведомственный...   \n",
              "3                               Многоквартирные дома   \n",
              "4                               Многоквартирные дома   \n",
              "\n",
              "                                               theme  \\\n",
              "0              Нарушения в вопросах оплаты услуг ЖКХ   \n",
              "1           Содержание МКД и придомовой территории *   \n",
              "2  Обеспечение жильем ветеранов, инвалидов и семе...   \n",
              "3         Капитальный ремонт многоквартирного дома *   \n",
              "4              Нарушения в вопросах оплаты услуг ЖКХ   \n",
              "\n",
              "                                                text  \n",
              "0   обращаются жильцы можем заверить что и других...  \n",
              "1   мая происходит залитие подвала многоквартирно...  \n",
              "2   вечер ребенка инвалида являюсь матерью одиноч...  \n",
              "3  Здравствуйте нашего дома находится в полуразру...  \n",
              "4  Здравствуйте зовут вопрос касается отопления и...  "
            ],
            "text/html": [
              "\n",
              "  <div id=\"df-e768da89-48d1-4c92-b5a3-3a2f8cc51fd3\">\n",
              "    <div class=\"colab-df-container\">\n",
              "      <div>\n",
              "<style scoped>\n",
              "    .dataframe tbody tr th:only-of-type {\n",
              "        vertical-align: middle;\n",
              "    }\n",
              "\n",
              "    .dataframe tbody tr th {\n",
              "        vertical-align: top;\n",
              "    }\n",
              "\n",
              "    .dataframe thead th {\n",
              "        text-align: right;\n",
              "    }\n",
              "</style>\n",
              "<table border=\"1\" class=\"dataframe\">\n",
              "  <thead>\n",
              "    <tr style=\"text-align: right;\">\n",
              "      <th></th>\n",
              "      <th>sphere</th>\n",
              "      <th>category</th>\n",
              "      <th>theme</th>\n",
              "      <th>text</th>\n",
              "    </tr>\n",
              "  </thead>\n",
              "  <tbody>\n",
              "    <tr>\n",
              "      <th>0</th>\n",
              "      <td>Жилищно-коммунальное хозяйство</td>\n",
              "      <td>Многоквартирные дома</td>\n",
              "      <td>Нарушения в вопросах оплаты услуг ЖКХ</td>\n",
              "      <td>обращаются жильцы можем заверить что и других...</td>\n",
              "    </tr>\n",
              "    <tr>\n",
              "      <th>1</th>\n",
              "      <td>Жилищно-коммунальное хозяйство</td>\n",
              "      <td>Многоквартирные дома</td>\n",
              "      <td>Содержание МКД и придомовой территории *</td>\n",
              "      <td>мая происходит залитие подвала многоквартирно...</td>\n",
              "    </tr>\n",
              "    <tr>\n",
              "      <th>2</th>\n",
              "      <td>Жилищно-коммунальное хозяйство</td>\n",
              "      <td>Государственный, муниципальный и ведомственный...</td>\n",
              "      <td>Обеспечение жильем ветеранов, инвалидов и семе...</td>\n",
              "      <td>вечер ребенка инвалида являюсь матерью одиноч...</td>\n",
              "    </tr>\n",
              "    <tr>\n",
              "      <th>3</th>\n",
              "      <td>Жилищно-коммунальное хозяйство</td>\n",
              "      <td>Многоквартирные дома</td>\n",
              "      <td>Капитальный ремонт многоквартирного дома *</td>\n",
              "      <td>Здравствуйте нашего дома находится в полуразру...</td>\n",
              "    </tr>\n",
              "    <tr>\n",
              "      <th>4</th>\n",
              "      <td>Жилищно-коммунальное хозяйство</td>\n",
              "      <td>Многоквартирные дома</td>\n",
              "      <td>Нарушения в вопросах оплаты услуг ЖКХ</td>\n",
              "      <td>Здравствуйте зовут вопрос касается отопления и...</td>\n",
              "    </tr>\n",
              "  </tbody>\n",
              "</table>\n",
              "</div>\n",
              "      <button class=\"colab-df-convert\" onclick=\"convertToInteractive('df-e768da89-48d1-4c92-b5a3-3a2f8cc51fd3')\"\n",
              "              title=\"Convert this dataframe to an interactive table.\"\n",
              "              style=\"display:none;\">\n",
              "        \n",
              "  <svg xmlns=\"http://www.w3.org/2000/svg\" height=\"24px\"viewBox=\"0 0 24 24\"\n",
              "       width=\"24px\">\n",
              "    <path d=\"M0 0h24v24H0V0z\" fill=\"none\"/>\n",
              "    <path d=\"M18.56 5.44l.94 2.06.94-2.06 2.06-.94-2.06-.94-.94-2.06-.94 2.06-2.06.94zm-11 1L8.5 8.5l.94-2.06 2.06-.94-2.06-.94L8.5 2.5l-.94 2.06-2.06.94zm10 10l.94 2.06.94-2.06 2.06-.94-2.06-.94-.94-2.06-.94 2.06-2.06.94z\"/><path d=\"M17.41 7.96l-1.37-1.37c-.4-.4-.92-.59-1.43-.59-.52 0-1.04.2-1.43.59L10.3 9.45l-7.72 7.72c-.78.78-.78 2.05 0 2.83L4 21.41c.39.39.9.59 1.41.59.51 0 1.02-.2 1.41-.59l7.78-7.78 2.81-2.81c.8-.78.8-2.07 0-2.86zM5.41 20L4 18.59l7.72-7.72 1.47 1.35L5.41 20z\"/>\n",
              "  </svg>\n",
              "      </button>\n",
              "      \n",
              "  <style>\n",
              "    .colab-df-container {\n",
              "      display:flex;\n",
              "      flex-wrap:wrap;\n",
              "      gap: 12px;\n",
              "    }\n",
              "\n",
              "    .colab-df-convert {\n",
              "      background-color: #E8F0FE;\n",
              "      border: none;\n",
              "      border-radius: 50%;\n",
              "      cursor: pointer;\n",
              "      display: none;\n",
              "      fill: #1967D2;\n",
              "      height: 32px;\n",
              "      padding: 0 0 0 0;\n",
              "      width: 32px;\n",
              "    }\n",
              "\n",
              "    .colab-df-convert:hover {\n",
              "      background-color: #E2EBFA;\n",
              "      box-shadow: 0px 1px 2px rgba(60, 64, 67, 0.3), 0px 1px 3px 1px rgba(60, 64, 67, 0.15);\n",
              "      fill: #174EA6;\n",
              "    }\n",
              "\n",
              "    [theme=dark] .colab-df-convert {\n",
              "      background-color: #3B4455;\n",
              "      fill: #D2E3FC;\n",
              "    }\n",
              "\n",
              "    [theme=dark] .colab-df-convert:hover {\n",
              "      background-color: #434B5C;\n",
              "      box-shadow: 0px 1px 3px 1px rgba(0, 0, 0, 0.15);\n",
              "      filter: drop-shadow(0px 1px 2px rgba(0, 0, 0, 0.3));\n",
              "      fill: #FFFFFF;\n",
              "    }\n",
              "  </style>\n",
              "\n",
              "      <script>\n",
              "        const buttonEl =\n",
              "          document.querySelector('#df-e768da89-48d1-4c92-b5a3-3a2f8cc51fd3 button.colab-df-convert');\n",
              "        buttonEl.style.display =\n",
              "          google.colab.kernel.accessAllowed ? 'block' : 'none';\n",
              "\n",
              "        async function convertToInteractive(key) {\n",
              "          const element = document.querySelector('#df-e768da89-48d1-4c92-b5a3-3a2f8cc51fd3');\n",
              "          const dataTable =\n",
              "            await google.colab.kernel.invokeFunction('convertToInteractive',\n",
              "                                                     [key], {});\n",
              "          if (!dataTable) return;\n",
              "\n",
              "          const docLinkHtml = 'Like what you see? Visit the ' +\n",
              "            '<a target=\"_blank\" href=https://colab.research.google.com/notebooks/data_table.ipynb>data table notebook</a>'\n",
              "            + ' to learn more about interactive tables.';\n",
              "          element.innerHTML = '';\n",
              "          dataTable['output_type'] = 'display_data';\n",
              "          await google.colab.output.renderOutput(dataTable, element);\n",
              "          const docLink = document.createElement('div');\n",
              "          docLink.innerHTML = docLinkHtml;\n",
              "          element.appendChild(docLink);\n",
              "        }\n",
              "      </script>\n",
              "    </div>\n",
              "  </div>\n",
              "  "
            ]
          },
          "metadata": {},
          "execution_count": 21
        }
      ]
    },
    {
      "cell_type": "markdown",
      "source": [
        "# Предобработка данных"
      ],
      "metadata": {
        "id": "8aNDbPr9RKr_"
      }
    },
    {
      "cell_type": "code",
      "execution_count": 22,
      "metadata": {
        "colab": {
          "base_uri": "https://localhost:8080/"
        },
        "id": "X-x63BchSlyy",
        "outputId": "09d6541e-f3ec-442a-8afc-b791246cd7e1"
      },
      "outputs": [
        {
          "output_type": "stream",
          "name": "stderr",
          "text": [
            "[nltk_data] Downloading package stopwords to /root/nltk_data...\n",
            "[nltk_data]   Unzipping corpora/stopwords.zip.\n",
            "[nltk_data] Downloading package punkt to /root/nltk_data...\n",
            "[nltk_data]   Unzipping tokenizers/punkt.zip.\n"
          ]
        },
        {
          "output_type": "execute_result",
          "data": {
            "text/plain": [
              "True"
            ]
          },
          "metadata": {},
          "execution_count": 22
        }
      ],
      "source": [
        "import nltk\n",
        "nltk.download('stopwords')\n",
        "nltk.download('punkt')"
      ]
    },
    {
      "cell_type": "code",
      "execution_count": 23,
      "metadata": {
        "id": "ODUQcAgSK3Jp",
        "colab": {
          "base_uri": "https://localhost:8080/"
        },
        "outputId": "4f7606c5-06c6-46d3-a646-c7fcbea486f5"
      },
      "outputs": [
        {
          "output_type": "stream",
          "name": "stderr",
          "text": [
            "Installing mystem to /root/.local/bin/mystem from http://download.cdn.yandex.net/mystem/mystem-3.1-linux-64bit.tar.gz\n"
          ]
        }
      ],
      "source": [
        "import string\n",
        "def remove_punctuation(text):\n",
        "    return \"\".join([ch if ch not in string.punctuation else ' ' for ch in text])\n",
        "\n",
        "def remove_numbers(text):\n",
        "    return ''.join([i if not i.isdigit() else ' ' for i in text])\n",
        "\n",
        "import re\n",
        "def remove_multiple_spaces(text):\n",
        "\treturn re.sub(r'\\s+', ' ', text, flags=re.I)\n",
        "\n",
        "from nltk.stem import *\n",
        "from nltk.corpus import stopwords\n",
        "from pymystem3 import Mystem\n",
        "from string import punctuation\n",
        "mystem = Mystem() \n",
        "\n",
        "russian_stopwords = stopwords.words(\"russian\")\n",
        "russian_stopwords.extend(['…', '«', '»', '...', 'здравствуйте', 'который', 'это', 'пожалуйста', 'спасибо', 'этот', 'наш', 'никто', 'свой'])"
      ]
    },
    {
      "cell_type": "code",
      "execution_count": 24,
      "metadata": {
        "colab": {
          "base_uri": "https://localhost:8080/",
          "height": 36
        },
        "id": "hmMJy4VASW-G",
        "outputId": "220ca9c8-7888-41b2-d80e-bb1f65b21085"
      },
      "outputs": [
        {
          "output_type": "execute_result",
          "data": {
            "text/plain": [
              "'!\"#$%&\\'()*+,-./:;<=>?@[\\\\]^_`{|}~'"
            ],
            "application/vnd.google.colaboratory.intrinsic+json": {
              "type": "string"
            }
          },
          "metadata": {},
          "execution_count": 24
        }
      ],
      "source": [
        "string.punctuation "
      ]
    },
    {
      "cell_type": "code",
      "execution_count": 25,
      "metadata": {
        "id": "csERu9NCK3Hg"
      },
      "outputs": [],
      "source": [
        "prep_text = [remove_multiple_spaces(remove_numbers(remove_punctuation(str(text).lower()))) for text in df_res['text']]"
      ]
    },
    {
      "cell_type": "code",
      "execution_count": 26,
      "metadata": {
        "id": "oQ3R83yfK3GA"
      },
      "outputs": [],
      "source": [
        "df_res['text_prep'] = prep_text"
      ]
    },
    {
      "cell_type": "markdown",
      "source": [
        "*Очищение от стоп-слов.*"
      ],
      "metadata": {
        "id": "iBMkO1_ORauQ"
      }
    },
    {
      "cell_type": "code",
      "execution_count": 27,
      "metadata": {
        "id": "KtW5k0h0K23e"
      },
      "outputs": [],
      "source": [
        "russian_stopwords.extend(['…', '«', '»', '...', 'т.д.', 'т', 'д'])"
      ]
    },
    {
      "cell_type": "code",
      "execution_count": 28,
      "metadata": {
        "id": "y3GStmPwPo-A"
      },
      "outputs": [],
      "source": [
        "from nltk import word_tokenize\n",
        "\n",
        "sw_texts_list = []\n",
        "for text in df_res['text_prep']:\n",
        "    tokens = word_tokenize(text)    \n",
        "    tokens = [token for token in tokens if token not in russian_stopwords and token != ' ']\n",
        "    text = \" \".join(tokens)\n",
        "    sw_texts_list.append(text)"
      ]
    },
    {
      "cell_type": "code",
      "execution_count": 29,
      "metadata": {
        "id": "8yPD8ZuxxJDD"
      },
      "outputs": [],
      "source": [
        "df_res['text_prep'] = sw_texts_list"
      ]
    },
    {
      "cell_type": "markdown",
      "source": [
        "*Стемминг - выделение основы слова.*"
      ],
      "metadata": {
        "id": "i-8LmsXbRfNn"
      }
    },
    {
      "cell_type": "code",
      "execution_count": 30,
      "metadata": {
        "id": "kQpkX6nNK2_1"
      },
      "outputs": [],
      "source": [
        "from nltk.stem.snowball import SnowballStemmer \n",
        "stemmer = SnowballStemmer(\"russian\") "
      ]
    },
    {
      "cell_type": "code",
      "execution_count": 31,
      "metadata": {
        "id": "bFU7GTNKK2o5"
      },
      "outputs": [],
      "source": [
        "from nltk import word_tokenize\n",
        "\n",
        "stemmed_texts_list = []\n",
        "for text in df_res['text_prep']:\n",
        "    tokens = word_tokenize(text)    \n",
        "    stemmed_tokens = [stemmer.stem(token) for token in tokens if token not in russian_stopwords]\n",
        "    text = \" \".join(stemmed_tokens)\n",
        "    stemmed_texts_list.append(text)"
      ]
    },
    {
      "cell_type": "code",
      "execution_count": 32,
      "metadata": {
        "id": "Q3M1NSTAPS1I"
      },
      "outputs": [],
      "source": [
        "df_res['text_stem'] = stemmed_texts_list"
      ]
    },
    {
      "cell_type": "markdown",
      "source": [
        "*Лемматизация - приведение слова в начальную форму.*"
      ],
      "metadata": {
        "id": "7FxnrGWIRjba"
      }
    },
    {
      "cell_type": "code",
      "execution_count": 33,
      "metadata": {
        "colab": {
          "base_uri": "https://localhost:8080/"
        },
        "id": "AZ59P4goPtsM",
        "outputId": "6b5b11be-9292-4b7d-c1e9-28d01c20cd57"
      },
      "outputs": [
        {
          "output_type": "stream",
          "name": "stdout",
          "text": [
            "Looking in indexes: https://pypi.org/simple, https://us-python.pkg.dev/colab-wheels/public/simple/\n",
            "Collecting pymorphy2\n",
            "  Downloading pymorphy2-0.9.1-py3-none-any.whl (55 kB)\n",
            "\u001b[2K     \u001b[90m━━━━━━━━━━━━━━━━━━━━━━━━━━━━━━━━━━━━━━━━\u001b[0m \u001b[32m55.5/55.5 KB\u001b[0m \u001b[31m2.9 MB/s\u001b[0m eta \u001b[36m0:00:00\u001b[0m\n",
            "\u001b[?25hCollecting dawg-python>=0.7.1\n",
            "  Downloading DAWG_Python-0.7.2-py2.py3-none-any.whl (11 kB)\n",
            "Collecting docopt>=0.6\n",
            "  Downloading docopt-0.6.2.tar.gz (25 kB)\n",
            "  Preparing metadata (setup.py) ... \u001b[?25l\u001b[?25hdone\n",
            "Collecting pymorphy2-dicts-ru<3.0,>=2.4\n",
            "  Downloading pymorphy2_dicts_ru-2.4.417127.4579844-py2.py3-none-any.whl (8.2 MB)\n",
            "\u001b[2K     \u001b[90m━━━━━━━━━━━━━━━━━━━━━━━━━━━━━━━━━━━━━━━━\u001b[0m \u001b[32m8.2/8.2 MB\u001b[0m \u001b[31m59.1 MB/s\u001b[0m eta \u001b[36m0:00:00\u001b[0m\n",
            "\u001b[?25hBuilding wheels for collected packages: docopt\n",
            "  Building wheel for docopt (setup.py) ... \u001b[?25l\u001b[?25hdone\n",
            "  Created wheel for docopt: filename=docopt-0.6.2-py2.py3-none-any.whl size=13721 sha256=799422553f46f978a7e9a85a32059ca749e7304281217f88cded676e8900c218\n",
            "  Stored in directory: /root/.cache/pip/wheels/70/4a/46/1309fc853b8d395e60bafaf1b6df7845bdd82c95fd59dd8d2b\n",
            "Successfully built docopt\n",
            "Installing collected packages: pymorphy2-dicts-ru, docopt, dawg-python, pymorphy2\n",
            "Successfully installed dawg-python-0.7.2 docopt-0.6.2 pymorphy2-0.9.1 pymorphy2-dicts-ru-2.4.417127.4579844\n"
          ]
        }
      ],
      "source": [
        "!pip install pymorphy2"
      ]
    },
    {
      "cell_type": "code",
      "execution_count": 34,
      "metadata": {
        "colab": {
          "base_uri": "https://localhost:8080/",
          "height": 49,
          "referenced_widgets": [
            "b9682b8d76e7458dba3368945f5e2e5f",
            "e5962b3d30c24053afa6e05b0ce81c67",
            "07c0e809eeef4767bdd844728f730aaa",
            "9105a87983a943ffb822dbc981319147",
            "c93eef4bd2fb43efb6639c543ede8a75",
            "3c9414df8c454dbe9581e48ec3f06be8",
            "d69d7976657d440f82bec5abe0f1014c",
            "981ed53915f746088e89e60d389cb5f2",
            "6fb01f0fee1742cd825a448a4125f0e0",
            "fbdb95bf18d548118cfb620989fb2b96",
            "cbca25cdedf84ceda6cb5427d114bcee"
          ]
        },
        "id": "YgnxX99sQMzU",
        "outputId": "a8d244c0-0c65-4429-fe2f-5c405383675d"
      },
      "outputs": [
        {
          "output_type": "display_data",
          "data": {
            "text/plain": [
              "  0%|          | 0/7392 [00:00<?, ?it/s]"
            ],
            "application/vnd.jupyter.widget-view+json": {
              "version_major": 2,
              "version_minor": 0,
              "model_id": "b9682b8d76e7458dba3368945f5e2e5f"
            }
          },
          "metadata": {}
        }
      ],
      "source": [
        "from tqdm.auto import tqdm, trange\n",
        "import pymorphy2\n",
        "\n",
        "morph = pymorphy2.MorphAnalyzer()\n",
        "\n",
        "lemm_texts_list = []\n",
        "for text in tqdm(df_res['text_prep']):\n",
        "    sentence_words = word_tokenize(text)\n",
        "    text_lem = []\n",
        "    try:\n",
        "      for i in sentence_words:\n",
        "        w = morph.parse(i)[0].normal_form\n",
        "        text_lem.append(w)\n",
        "      tokens = [token for token in text_lem if token != ' ' and token not in russian_stopwords]\n",
        "      text = \" \".join(tokens)\n",
        "      lemm_texts_list.append(text)\n",
        "    except Exception as e:\n",
        "        print(e)"
      ]
    },
    {
      "cell_type": "code",
      "execution_count": 35,
      "metadata": {
        "id": "tSqgPb9FQMxw"
      },
      "outputs": [],
      "source": [
        "df_res['text_lemm'] = lemm_texts_list"
      ]
    },
    {
      "cell_type": "markdown",
      "source": [
        "*Перевод названия сфер в числовой вид*"
      ],
      "metadata": {
        "id": "SNQo5HVaRqQs"
      }
    },
    {
      "cell_type": "code",
      "execution_count": 36,
      "metadata": {
        "id": "GUceIt6uE9EX"
      },
      "outputs": [],
      "source": [
        "df_res['sphere'] = df_res['sphere'].replace(spheres, range(12))"
      ]
    },
    {
      "cell_type": "code",
      "execution_count": 37,
      "metadata": {
        "colab": {
          "base_uri": "https://localhost:8080/",
          "height": 580
        },
        "id": "h9fkeReCQMv_",
        "outputId": "f3183d94-8154-4751-8816-fcca561186be"
      },
      "outputs": [
        {
          "output_type": "execute_result",
          "data": {
            "text/plain": [
              "   sphere                                           category  \\\n",
              "0       0                               Многоквартирные дома   \n",
              "1       0                               Многоквартирные дома   \n",
              "2       0  Государственный, муниципальный и ведомственный...   \n",
              "3       0                               Многоквартирные дома   \n",
              "4       0                               Многоквартирные дома   \n",
              "5       0                               Многоквартирные дома   \n",
              "6       0                               Многоквартирные дома   \n",
              "7       0                               Многоквартирные дома   \n",
              "8       0                                     Частный сектор   \n",
              "9       0                               Многоквартирные дома   \n",
              "\n",
              "                                               theme  \\\n",
              "0              Нарушения в вопросах оплаты услуг ЖКХ   \n",
              "1           Содержание МКД и придомовой территории *   \n",
              "2  Обеспечение жильем ветеранов, инвалидов и семе...   \n",
              "3         Капитальный ремонт многоквартирного дома *   \n",
              "4              Нарушения в вопросах оплаты услуг ЖКХ   \n",
              "5              Текущий ремонт многоквартирного дома*   \n",
              "6                          Горячее водоснабжение МКД   \n",
              "7  Неудовлетворительная работа диспетчерской служ...   \n",
              "8                  Водоснабжение, водоотведение дома   \n",
              "9           Содержание МКД и придомовой территории *   \n",
              "\n",
              "                                                text  \\\n",
              "0   обращаются жильцы можем заверить что и других...   \n",
              "1   мая происходит залитие подвала многоквартирно...   \n",
              "2   вечер ребенка инвалида являюсь матерью одиноч...   \n",
              "3  Здравствуйте нашего дома находится в полуразру...   \n",
              "4  Здравствуйте зовут вопрос касается отопления и...   \n",
              "5   вечер помочь промазать швы между плитками эта...   \n",
              "6   через день отключает горячую воду этого в наш...   \n",
              "7   день лет счетчика начала течь вода обратились...   \n",
              "8   обращается пенсионер проживающая адресу город...   \n",
              "9  Здравствуйте домом вдоль тротуарной дорожки тр...   \n",
              "\n",
              "                                           text_prep  \\\n",
              "0  обращаются жильцы можем заверить других домов ...   \n",
              "1  мая происходит залитие подвала многоквартирног...   \n",
              "2  вечер ребенка инвалида являюсь матерью одиночк...   \n",
              "3  нашего дома находится полуразрушенном состояни...   \n",
              "4  зовут вопрос касается отопления сумм которые н...   \n",
              "5  вечер помочь промазать швы плитками этаже дует...   \n",
              "6  день отключает горячую воду нашем подъезде гор...   \n",
              "7  день лет счетчика начала течь вода обратились ...   \n",
              "8  обращается пенсионер проживающая адресу город ...   \n",
              "9  домом вдоль тротуарной дорожки трава местами в...   \n",
              "\n",
              "                                           text_stem  \\\n",
              "0  обраща жильц мож завер друг дом наш микрорайон...   \n",
              "1  ма происход залит подва многоквартирн дом фека...   \n",
              "2  вечер ребенк инвалид явля матер одиночк обрат ...   \n",
              "3  наш дом наход полуразрушен состоян управлен жи...   \n",
              "4  зовут вопрос каса отоплен сумм котор нам квита...   \n",
              "5  вечер помоч промаза швы плитк этаж дует сквозн...   \n",
              "6  ден отключа горяч вод наш подъезд горяч вод си...   \n",
              "7  ден лет счетчик нача теч вод обрат служб жэк с...   \n",
              "8  обраща пенсионер прожива адрес город дом одино...   \n",
              "9  дом вдол тротуарн дорожк трав мест выш страшн ...   \n",
              "\n",
              "                                           text_lemm  \n",
              "0  обращаться жилец мочь заверить дом микрорайон ...  \n",
              "1  май происходить залитие подвал многоквартирный...  \n",
              "2  вечер ребёнок инвалид являться мать одиночка о...  \n",
              "3  дом находиться полуразрушить состояние управле...  \n",
              "4  звать вопрос касаться отопление сумма квитанци...  \n",
              "5  вечер помочь промазать шов плитка этаж дуть ск...  \n",
              "6  день отключать горячий вода подъезд горячий во...  \n",
              "7  день год счётчик начало течь вода обратиться с...  \n",
              "8  обращаться пенсионер проживать адрес город дом...  \n",
              "9  дом вдоль тротуарный дорожка трава место выше ...  "
            ],
            "text/html": [
              "\n",
              "  <div id=\"df-4a2b7a85-82a9-4ebb-a869-c05bde2909de\">\n",
              "    <div class=\"colab-df-container\">\n",
              "      <div>\n",
              "<style scoped>\n",
              "    .dataframe tbody tr th:only-of-type {\n",
              "        vertical-align: middle;\n",
              "    }\n",
              "\n",
              "    .dataframe tbody tr th {\n",
              "        vertical-align: top;\n",
              "    }\n",
              "\n",
              "    .dataframe thead th {\n",
              "        text-align: right;\n",
              "    }\n",
              "</style>\n",
              "<table border=\"1\" class=\"dataframe\">\n",
              "  <thead>\n",
              "    <tr style=\"text-align: right;\">\n",
              "      <th></th>\n",
              "      <th>sphere</th>\n",
              "      <th>category</th>\n",
              "      <th>theme</th>\n",
              "      <th>text</th>\n",
              "      <th>text_prep</th>\n",
              "      <th>text_stem</th>\n",
              "      <th>text_lemm</th>\n",
              "    </tr>\n",
              "  </thead>\n",
              "  <tbody>\n",
              "    <tr>\n",
              "      <th>0</th>\n",
              "      <td>0</td>\n",
              "      <td>Многоквартирные дома</td>\n",
              "      <td>Нарушения в вопросах оплаты услуг ЖКХ</td>\n",
              "      <td>обращаются жильцы можем заверить что и других...</td>\n",
              "      <td>обращаются жильцы можем заверить других домов ...</td>\n",
              "      <td>обраща жильц мож завер друг дом наш микрорайон...</td>\n",
              "      <td>обращаться жилец мочь заверить дом микрорайон ...</td>\n",
              "    </tr>\n",
              "    <tr>\n",
              "      <th>1</th>\n",
              "      <td>0</td>\n",
              "      <td>Многоквартирные дома</td>\n",
              "      <td>Содержание МКД и придомовой территории *</td>\n",
              "      <td>мая происходит залитие подвала многоквартирно...</td>\n",
              "      <td>мая происходит залитие подвала многоквартирног...</td>\n",
              "      <td>ма происход залит подва многоквартирн дом фека...</td>\n",
              "      <td>май происходить залитие подвал многоквартирный...</td>\n",
              "    </tr>\n",
              "    <tr>\n",
              "      <th>2</th>\n",
              "      <td>0</td>\n",
              "      <td>Государственный, муниципальный и ведомственный...</td>\n",
              "      <td>Обеспечение жильем ветеранов, инвалидов и семе...</td>\n",
              "      <td>вечер ребенка инвалида являюсь матерью одиноч...</td>\n",
              "      <td>вечер ребенка инвалида являюсь матерью одиночк...</td>\n",
              "      <td>вечер ребенк инвалид явля матер одиночк обрат ...</td>\n",
              "      <td>вечер ребёнок инвалид являться мать одиночка о...</td>\n",
              "    </tr>\n",
              "    <tr>\n",
              "      <th>3</th>\n",
              "      <td>0</td>\n",
              "      <td>Многоквартирные дома</td>\n",
              "      <td>Капитальный ремонт многоквартирного дома *</td>\n",
              "      <td>Здравствуйте нашего дома находится в полуразру...</td>\n",
              "      <td>нашего дома находится полуразрушенном состояни...</td>\n",
              "      <td>наш дом наход полуразрушен состоян управлен жи...</td>\n",
              "      <td>дом находиться полуразрушить состояние управле...</td>\n",
              "    </tr>\n",
              "    <tr>\n",
              "      <th>4</th>\n",
              "      <td>0</td>\n",
              "      <td>Многоквартирные дома</td>\n",
              "      <td>Нарушения в вопросах оплаты услуг ЖКХ</td>\n",
              "      <td>Здравствуйте зовут вопрос касается отопления и...</td>\n",
              "      <td>зовут вопрос касается отопления сумм которые н...</td>\n",
              "      <td>зовут вопрос каса отоплен сумм котор нам квита...</td>\n",
              "      <td>звать вопрос касаться отопление сумма квитанци...</td>\n",
              "    </tr>\n",
              "    <tr>\n",
              "      <th>5</th>\n",
              "      <td>0</td>\n",
              "      <td>Многоквартирные дома</td>\n",
              "      <td>Текущий ремонт многоквартирного дома*</td>\n",
              "      <td>вечер помочь промазать швы между плитками эта...</td>\n",
              "      <td>вечер помочь промазать швы плитками этаже дует...</td>\n",
              "      <td>вечер помоч промаза швы плитк этаж дует сквозн...</td>\n",
              "      <td>вечер помочь промазать шов плитка этаж дуть ск...</td>\n",
              "    </tr>\n",
              "    <tr>\n",
              "      <th>6</th>\n",
              "      <td>0</td>\n",
              "      <td>Многоквартирные дома</td>\n",
              "      <td>Горячее водоснабжение МКД</td>\n",
              "      <td>через день отключает горячую воду этого в наш...</td>\n",
              "      <td>день отключает горячую воду нашем подъезде гор...</td>\n",
              "      <td>ден отключа горяч вод наш подъезд горяч вод си...</td>\n",
              "      <td>день отключать горячий вода подъезд горячий во...</td>\n",
              "    </tr>\n",
              "    <tr>\n",
              "      <th>7</th>\n",
              "      <td>0</td>\n",
              "      <td>Многоквартирные дома</td>\n",
              "      <td>Неудовлетворительная работа диспетчерской служ...</td>\n",
              "      <td>день лет счетчика начала течь вода обратились...</td>\n",
              "      <td>день лет счетчика начала течь вода обратились ...</td>\n",
              "      <td>ден лет счетчик нача теч вод обрат служб жэк с...</td>\n",
              "      <td>день год счётчик начало течь вода обратиться с...</td>\n",
              "    </tr>\n",
              "    <tr>\n",
              "      <th>8</th>\n",
              "      <td>0</td>\n",
              "      <td>Частный сектор</td>\n",
              "      <td>Водоснабжение, водоотведение дома</td>\n",
              "      <td>обращается пенсионер проживающая адресу город...</td>\n",
              "      <td>обращается пенсионер проживающая адресу город ...</td>\n",
              "      <td>обраща пенсионер прожива адрес город дом одино...</td>\n",
              "      <td>обращаться пенсионер проживать адрес город дом...</td>\n",
              "    </tr>\n",
              "    <tr>\n",
              "      <th>9</th>\n",
              "      <td>0</td>\n",
              "      <td>Многоквартирные дома</td>\n",
              "      <td>Содержание МКД и придомовой территории *</td>\n",
              "      <td>Здравствуйте домом вдоль тротуарной дорожки тр...</td>\n",
              "      <td>домом вдоль тротуарной дорожки трава местами в...</td>\n",
              "      <td>дом вдол тротуарн дорожк трав мест выш страшн ...</td>\n",
              "      <td>дом вдоль тротуарный дорожка трава место выше ...</td>\n",
              "    </tr>\n",
              "  </tbody>\n",
              "</table>\n",
              "</div>\n",
              "      <button class=\"colab-df-convert\" onclick=\"convertToInteractive('df-4a2b7a85-82a9-4ebb-a869-c05bde2909de')\"\n",
              "              title=\"Convert this dataframe to an interactive table.\"\n",
              "              style=\"display:none;\">\n",
              "        \n",
              "  <svg xmlns=\"http://www.w3.org/2000/svg\" height=\"24px\"viewBox=\"0 0 24 24\"\n",
              "       width=\"24px\">\n",
              "    <path d=\"M0 0h24v24H0V0z\" fill=\"none\"/>\n",
              "    <path d=\"M18.56 5.44l.94 2.06.94-2.06 2.06-.94-2.06-.94-.94-2.06-.94 2.06-2.06.94zm-11 1L8.5 8.5l.94-2.06 2.06-.94-2.06-.94L8.5 2.5l-.94 2.06-2.06.94zm10 10l.94 2.06.94-2.06 2.06-.94-2.06-.94-.94-2.06-.94 2.06-2.06.94z\"/><path d=\"M17.41 7.96l-1.37-1.37c-.4-.4-.92-.59-1.43-.59-.52 0-1.04.2-1.43.59L10.3 9.45l-7.72 7.72c-.78.78-.78 2.05 0 2.83L4 21.41c.39.39.9.59 1.41.59.51 0 1.02-.2 1.41-.59l7.78-7.78 2.81-2.81c.8-.78.8-2.07 0-2.86zM5.41 20L4 18.59l7.72-7.72 1.47 1.35L5.41 20z\"/>\n",
              "  </svg>\n",
              "      </button>\n",
              "      \n",
              "  <style>\n",
              "    .colab-df-container {\n",
              "      display:flex;\n",
              "      flex-wrap:wrap;\n",
              "      gap: 12px;\n",
              "    }\n",
              "\n",
              "    .colab-df-convert {\n",
              "      background-color: #E8F0FE;\n",
              "      border: none;\n",
              "      border-radius: 50%;\n",
              "      cursor: pointer;\n",
              "      display: none;\n",
              "      fill: #1967D2;\n",
              "      height: 32px;\n",
              "      padding: 0 0 0 0;\n",
              "      width: 32px;\n",
              "    }\n",
              "\n",
              "    .colab-df-convert:hover {\n",
              "      background-color: #E2EBFA;\n",
              "      box-shadow: 0px 1px 2px rgba(60, 64, 67, 0.3), 0px 1px 3px 1px rgba(60, 64, 67, 0.15);\n",
              "      fill: #174EA6;\n",
              "    }\n",
              "\n",
              "    [theme=dark] .colab-df-convert {\n",
              "      background-color: #3B4455;\n",
              "      fill: #D2E3FC;\n",
              "    }\n",
              "\n",
              "    [theme=dark] .colab-df-convert:hover {\n",
              "      background-color: #434B5C;\n",
              "      box-shadow: 0px 1px 3px 1px rgba(0, 0, 0, 0.15);\n",
              "      filter: drop-shadow(0px 1px 2px rgba(0, 0, 0, 0.3));\n",
              "      fill: #FFFFFF;\n",
              "    }\n",
              "  </style>\n",
              "\n",
              "      <script>\n",
              "        const buttonEl =\n",
              "          document.querySelector('#df-4a2b7a85-82a9-4ebb-a869-c05bde2909de button.colab-df-convert');\n",
              "        buttonEl.style.display =\n",
              "          google.colab.kernel.accessAllowed ? 'block' : 'none';\n",
              "\n",
              "        async function convertToInteractive(key) {\n",
              "          const element = document.querySelector('#df-4a2b7a85-82a9-4ebb-a869-c05bde2909de');\n",
              "          const dataTable =\n",
              "            await google.colab.kernel.invokeFunction('convertToInteractive',\n",
              "                                                     [key], {});\n",
              "          if (!dataTable) return;\n",
              "\n",
              "          const docLinkHtml = 'Like what you see? Visit the ' +\n",
              "            '<a target=\"_blank\" href=https://colab.research.google.com/notebooks/data_table.ipynb>data table notebook</a>'\n",
              "            + ' to learn more about interactive tables.';\n",
              "          element.innerHTML = '';\n",
              "          dataTable['output_type'] = 'display_data';\n",
              "          await google.colab.output.renderOutput(dataTable, element);\n",
              "          const docLink = document.createElement('div');\n",
              "          docLink.innerHTML = docLinkHtml;\n",
              "          element.appendChild(docLink);\n",
              "        }\n",
              "      </script>\n",
              "    </div>\n",
              "  </div>\n",
              "  "
            ]
          },
          "metadata": {},
          "execution_count": 37
        }
      ],
      "source": [
        "df_res.head(10)"
      ]
    },
    {
      "cell_type": "markdown",
      "source": [
        "#Обучение моделей"
      ],
      "metadata": {
        "id": "ZIgYxhAeRwuE"
      }
    },
    {
      "cell_type": "code",
      "source": [
        "X, y = np.array(df_res['text_lemm']), np.array(df_res['sphere'])"
      ],
      "metadata": {
        "id": "wQYuNMBlsBX7"
      },
      "execution_count": 38,
      "outputs": []
    },
    {
      "cell_type": "code",
      "execution_count": 55,
      "metadata": {
        "id": "vzOTfk88_41K"
      },
      "outputs": [],
      "source": [
        "import warnings\n",
        "warnings.filterwarnings('ignore')"
      ]
    },
    {
      "cell_type": "code",
      "execution_count": 56,
      "metadata": {
        "id": "UF4jKM35QMpP"
      },
      "outputs": [],
      "source": [
        "from sklearn.pipeline import Pipeline\n",
        "from sklearn.feature_extraction.text import TfidfTransformer, CountVectorizer\n",
        "from sklearn.metrics import accuracy_score, f1_score\n",
        "from sklearn.svm import SVC\n",
        "from sklearn.tree import DecisionTreeClassifier, ExtraTreeClassifier\n",
        "from sklearn.linear_model import LogisticRegression\n",
        "from sklearn.ensemble import RandomForestClassifier, GradientBoostingClassifier"
      ]
    },
    {
      "cell_type": "code",
      "execution_count": 57,
      "metadata": {
        "id": "8WbyIZzy0Q_c"
      },
      "outputs": [],
      "source": [
        "rs = 42\n",
        "\n",
        "log_reg = LogisticRegression(random_state=rs, n_jobs=-1, C=0.6)\n",
        "rand_forest = RandomForestClassifier(random_state=rs, n_jobs =-1, n_estimators=200, min_samples_leaf=10, min_samples_split=10, max_depth=35)\n",
        "svc = SVC(random_state=rs, C=0.6)\n",
        "dec_tree = DecisionTreeClassifier(min_samples_split=7, random_state=rs, max_depth=20)\n",
        "extra_tree = ExtraTreeClassifier(max_depth=150, random_state=rs)\n",
        "gradient_boost = GradientBoostingClassifier(random_state=rs, max_depth=1, n_estimators=30)"
      ]
    },
    {
      "cell_type": "code",
      "execution_count": 58,
      "metadata": {
        "id": "qP0p0iShZ1cK"
      },
      "outputs": [],
      "source": [
        "from sklearn.model_selection import StratifiedKFold, cross_validate\n",
        "from sklearn import metrics"
      ]
    },
    {
      "cell_type": "code",
      "source": [
        "skf = StratifiedKFold(n_splits=5, shuffle=True, random_state=42)"
      ],
      "metadata": {
        "id": "J9Sm2wANqwvY"
      },
      "execution_count": 59,
      "outputs": []
    },
    {
      "cell_type": "code",
      "execution_count": 60,
      "metadata": {
        "id": "3cZ8KC12PTLG",
        "colab": {
          "base_uri": "https://localhost:8080/"
        },
        "outputId": "c34b37bd-0204-4be1-d659-7005bcbccf17"
      },
      "outputs": [
        {
          "output_type": "stream",
          "name": "stdout",
          "text": [
            "fit_time\n",
            " scores = [16.320333   16.47045445 14.77083445 15.17681837  8.52646232] \n",
            "mean score = 14.25298 +/- 2.93618\n",
            "score_time\n",
            " scores = [0.25049496 0.23832273 0.25159383 0.24369693 0.14987087] \n",
            "mean score = 0.22680 +/- 0.03876\n",
            "test_f1_weighted\n",
            " scores = [0.89132049 0.88639834 0.89255068 0.88642398 0.88674288] \n",
            "mean score = 0.88869 +/- 0.00268\n",
            "test_accuracy\n",
            " scores = [0.90331305 0.89790399 0.90460081 0.89715832 0.89715832] \n",
            "mean score = 0.90003 +/- 0.00325\n"
          ]
        }
      ],
      "source": [
        "model = Pipeline([('vect', CountVectorizer()),\n",
        "                ('tfidf', TfidfTransformer()),\n",
        "                ('clf', log_reg),\n",
        "               ])\n",
        "scores = cross_validate(estimator=model, X=X, y=y, \n",
        "                         cv=skf, scoring=['f1_weighted', 'accuracy'], n_jobs=-1)\n",
        "for i in scores.keys():\n",
        "  print('{}\\n scores = {} \\nmean score = {:.5f} +/- {:.5f}'.format(i, scores[i], scores[i].mean(), scores[i].std()))"
      ]
    },
    {
      "cell_type": "code",
      "execution_count": 61,
      "metadata": {
        "id": "FWgeQt4WvYP_",
        "colab": {
          "base_uri": "https://localhost:8080/"
        },
        "outputId": "d30db129-dae6-4c7b-9853-54107975d62b"
      },
      "outputs": [
        {
          "output_type": "stream",
          "name": "stdout",
          "text": [
            "fit_time\n",
            " scores = [58.80516863 59.05796123 57.92401242 57.98493433 39.60601664] \n",
            "mean score = 54.67562 +/- 7.54791\n",
            "score_time\n",
            " scores = [6.34940863 6.32070184 5.60885692 5.64455748 4.466115  ] \n",
            "mean score = 5.67793 +/- 0.68387\n",
            "test_f1_weighted\n",
            " scores = [0.87152967 0.86871195 0.87651311 0.87610038 0.87357974] \n",
            "mean score = 0.87329 +/- 0.00291\n",
            "test_accuracy\n",
            " scores = [0.88708587 0.88302907 0.89039242 0.88836265 0.88700947] \n",
            "mean score = 0.88718 +/- 0.00241\n"
          ]
        }
      ],
      "source": [
        "model = Pipeline([('vect', CountVectorizer()),\n",
        "                ('tfidf', TfidfTransformer()),\n",
        "                ('clf', svc),\n",
        "               ])\n",
        "\n",
        "scores = cross_validate(estimator=model, X=X, y=y, \n",
        "                         cv=skf, scoring=['f1_weighted', 'accuracy'], n_jobs=-1)\n",
        "for i in scores.keys():\n",
        "  print('{}\\n scores = {} \\nmean score = {:.5f} +/- {:.5f}'.format(i, scores[i], scores[i].mean(), scores[i].std()))"
      ]
    },
    {
      "cell_type": "code",
      "execution_count": 62,
      "metadata": {
        "colab": {
          "base_uri": "https://localhost:8080/"
        },
        "id": "63sUFMgHNivX",
        "outputId": "59c412f1-cd17-4153-f129-df3d274c96bc"
      },
      "outputs": [
        {
          "output_type": "stream",
          "name": "stdout",
          "text": [
            "fit_time\n",
            " scores = [4.19928312 4.1962316  4.15432072 4.03896022 3.45592523] \n",
            "mean score = 4.00894 +/- 0.28255\n",
            "score_time\n",
            " scores = [0.46080422 0.46611404 0.88994837 0.55170727 0.28289461] \n",
            "mean score = 0.53029 +/- 0.19998\n",
            "test_f1_weighted\n",
            " scores = [0.87156844 0.84785665 0.86151514 0.87373867 0.85569452] \n",
            "mean score = 0.86207 +/- 0.00969\n",
            "test_accuracy\n",
            " scores = [0.88302907 0.8647735  0.87483085 0.88092016 0.86874154] \n",
            "mean score = 0.87446 +/- 0.00695\n"
          ]
        }
      ],
      "source": [
        "model = Pipeline([('vect', CountVectorizer()),\n",
        "                ('tfidf', TfidfTransformer()),\n",
        "                ('clf', rand_forest),\n",
        "               ])\n",
        "\n",
        "scores = cross_validate(estimator=model, X=X, y=y, \n",
        "                         cv=skf, scoring=['f1_weighted', 'accuracy'], n_jobs=-1)\n",
        "for i in scores.keys():\n",
        "  print('{}\\n scores = {} \\nmean score = {:.5f} +/- {:.5f}'.format(i, scores[i], scores[i].mean(), scores[i].std()))"
      ]
    },
    {
      "cell_type": "code",
      "source": [
        "model = Pipeline([('vect', CountVectorizer()),\n",
        "                ('tfidf', TfidfTransformer()),\n",
        "                ('clf', gradient_boost),\n",
        "               ])\n",
        "\n",
        "scores = cross_validate(estimator=model, X=X, y=y, \n",
        "                         cv=skf, scoring=['f1_weighted', 'accuracy'], n_jobs=-1)\n",
        "for i in scores.keys():\n",
        "  print('{}\\n scores = {} \\nmean score = {:.5f} +/- {:.5f}'.format(i, scores[i], scores[i].mean(), scores[i].std()))"
      ],
      "metadata": {
        "id": "BGy-19GOL2i3",
        "colab": {
          "base_uri": "https://localhost:8080/"
        },
        "outputId": "48220c15-16e8-4b4e-be66-a82b149d0a45"
      },
      "execution_count": 63,
      "outputs": [
        {
          "output_type": "stream",
          "name": "stdout",
          "text": [
            "fit_time\n",
            " scores = [27.78860354 27.95223761 27.89056706 27.86384153 17.0625875 ] \n",
            "mean score = 25.71157 +/- 4.32481\n",
            "score_time\n",
            " scores = [0.25019073 0.24365473 0.24087882 0.28153253 0.15178895] \n",
            "mean score = 0.23361 +/- 0.04340\n",
            "test_f1_weighted\n",
            " scores = [0.88487132 0.88126374 0.88117116 0.88393375 0.89835586] \n",
            "mean score = 0.88592 +/- 0.00639\n",
            "test_accuracy\n",
            " scores = [0.88167681 0.87897228 0.8782138  0.88092016 0.89648173] \n",
            "mean score = 0.88325 +/- 0.00673\n"
          ]
        }
      ]
    },
    {
      "cell_type": "code",
      "execution_count": 64,
      "metadata": {
        "colab": {
          "base_uri": "https://localhost:8080/"
        },
        "id": "8iFWfcg5pN1v",
        "outputId": "b487675d-15c3-4ae8-f664-dba1fab8c35e"
      },
      "outputs": [
        {
          "output_type": "stream",
          "name": "stdout",
          "text": [
            "fit_time\n",
            " scores = [2.45428848 2.73983955 1.88291025 1.76887107 1.03716087] \n",
            "mean score = 1.97661 +/- 0.59080\n",
            "score_time\n",
            " scores = [0.55205536 0.42074037 0.23199034 0.26026106 0.15453315] \n",
            "mean score = 0.32392 +/- 0.14326\n",
            "test_f1_weighted\n",
            " scores = [0.72496124 0.71049975 0.71587867 0.76826797 0.68065426] \n",
            "mean score = 0.72005 +/- 0.02832\n",
            "test_accuracy\n",
            " scores = [0.72751859 0.70858688 0.71718539 0.77131258 0.67861976] \n",
            "mean score = 0.72064 +/- 0.03013\n"
          ]
        }
      ],
      "source": [
        "model = Pipeline([('vect', CountVectorizer()),\n",
        "                ('tfidf', TfidfTransformer()),\n",
        "                ('clf', extra_tree),\n",
        "               ])\n",
        "\n",
        "scores = cross_validate(estimator=model, X=X, y=y, \n",
        "                         cv=skf, scoring=['f1_weighted', 'accuracy'], n_jobs=-1)\n",
        "for i in scores.keys():\n",
        "  print('{}\\n scores = {} \\nmean score = {:.5f} +/- {:.5f}'.format(i, scores[i], scores[i].mean(), scores[i].std()))"
      ]
    },
    {
      "cell_type": "code",
      "source": [
        "model = Pipeline([('vect', CountVectorizer()),\n",
        "                ('tfidf', TfidfTransformer()),\n",
        "                ('clf', dec_tree),\n",
        "               ])\n",
        "\n",
        "scores = cross_validate(estimator=model, X=X, y=y, \n",
        "                         cv=skf, scoring=['f1_weighted', 'accuracy'], n_jobs=-1)\n",
        "for i in scores.keys():\n",
        "  print('{}\\n scores = {} \\nmean score = {:.5f} +/- {:.5f}'.format(i, scores[i], scores[i].mean(), scores[i].std()))"
      ],
      "metadata": {
        "colab": {
          "base_uri": "https://localhost:8080/"
        },
        "id": "YKAHAKJd0fRr",
        "outputId": "e1d68021-3db7-4980-a86c-14e3ed30ef83"
      },
      "execution_count": 65,
      "outputs": [
        {
          "output_type": "stream",
          "name": "stdout",
          "text": [
            "fit_time\n",
            " scores = [2.71272945 2.76819134 2.78719401 2.73929811 2.32967925] \n",
            "mean score = 2.66742 +/- 0.17076\n",
            "score_time\n",
            " scores = [0.24137211 0.22963786 0.23302627 0.24183607 0.24431729] \n",
            "mean score = 0.23804 +/- 0.00567\n",
            "test_f1_weighted\n",
            " scores = [0.83100694 0.82273797 0.84331363 0.84175116 0.84219097] \n",
            "mean score = 0.83620 +/- 0.00807\n",
            "test_accuracy\n",
            " scores = [0.8296146  0.82555781 0.84641407 0.84573748 0.84776725] \n",
            "mean score = 0.83902 +/- 0.00944\n"
          ]
        }
      ]
    },
    {
      "cell_type": "code",
      "source": [],
      "metadata": {
        "id": "StYhJHJTNy_Y"
      },
      "execution_count": 65,
      "outputs": []
    }
  ],
  "metadata": {
    "colab": {
      "name": "Classificators",
      "provenance": [],
      "include_colab_link": true
    },
    "kernelspec": {
      "display_name": "Python 3",
      "language": "python",
      "name": "python3"
    },
    "language_info": {
      "codemirror_mode": {
        "name": "ipython",
        "version": 2
      },
      "file_extension": ".py",
      "mimetype": "text/x-python",
      "name": "python",
      "nbconvert_exporter": "python",
      "pygments_lexer": "ipython2",
      "version": "2.7.6"
    },
    "widgets": {
      "application/vnd.jupyter.widget-state+json": {
        "b9682b8d76e7458dba3368945f5e2e5f": {
          "model_module": "@jupyter-widgets/controls",
          "model_name": "HBoxModel",
          "model_module_version": "1.5.0",
          "state": {
            "_dom_classes": [],
            "_model_module": "@jupyter-widgets/controls",
            "_model_module_version": "1.5.0",
            "_model_name": "HBoxModel",
            "_view_count": null,
            "_view_module": "@jupyter-widgets/controls",
            "_view_module_version": "1.5.0",
            "_view_name": "HBoxView",
            "box_style": "",
            "children": [
              "IPY_MODEL_e5962b3d30c24053afa6e05b0ce81c67",
              "IPY_MODEL_07c0e809eeef4767bdd844728f730aaa",
              "IPY_MODEL_9105a87983a943ffb822dbc981319147"
            ],
            "layout": "IPY_MODEL_c93eef4bd2fb43efb6639c543ede8a75"
          }
        },
        "e5962b3d30c24053afa6e05b0ce81c67": {
          "model_module": "@jupyter-widgets/controls",
          "model_name": "HTMLModel",
          "model_module_version": "1.5.0",
          "state": {
            "_dom_classes": [],
            "_model_module": "@jupyter-widgets/controls",
            "_model_module_version": "1.5.0",
            "_model_name": "HTMLModel",
            "_view_count": null,
            "_view_module": "@jupyter-widgets/controls",
            "_view_module_version": "1.5.0",
            "_view_name": "HTMLView",
            "description": "",
            "description_tooltip": null,
            "layout": "IPY_MODEL_3c9414df8c454dbe9581e48ec3f06be8",
            "placeholder": "​",
            "style": "IPY_MODEL_d69d7976657d440f82bec5abe0f1014c",
            "value": "100%"
          }
        },
        "07c0e809eeef4767bdd844728f730aaa": {
          "model_module": "@jupyter-widgets/controls",
          "model_name": "FloatProgressModel",
          "model_module_version": "1.5.0",
          "state": {
            "_dom_classes": [],
            "_model_module": "@jupyter-widgets/controls",
            "_model_module_version": "1.5.0",
            "_model_name": "FloatProgressModel",
            "_view_count": null,
            "_view_module": "@jupyter-widgets/controls",
            "_view_module_version": "1.5.0",
            "_view_name": "ProgressView",
            "bar_style": "success",
            "description": "",
            "description_tooltip": null,
            "layout": "IPY_MODEL_981ed53915f746088e89e60d389cb5f2",
            "max": 7392,
            "min": 0,
            "orientation": "horizontal",
            "style": "IPY_MODEL_6fb01f0fee1742cd825a448a4125f0e0",
            "value": 7392
          }
        },
        "9105a87983a943ffb822dbc981319147": {
          "model_module": "@jupyter-widgets/controls",
          "model_name": "HTMLModel",
          "model_module_version": "1.5.0",
          "state": {
            "_dom_classes": [],
            "_model_module": "@jupyter-widgets/controls",
            "_model_module_version": "1.5.0",
            "_model_name": "HTMLModel",
            "_view_count": null,
            "_view_module": "@jupyter-widgets/controls",
            "_view_module_version": "1.5.0",
            "_view_name": "HTMLView",
            "description": "",
            "description_tooltip": null,
            "layout": "IPY_MODEL_fbdb95bf18d548118cfb620989fb2b96",
            "placeholder": "​",
            "style": "IPY_MODEL_cbca25cdedf84ceda6cb5427d114bcee",
            "value": " 7392/7392 [01:28&lt;00:00, 78.23it/s]"
          }
        },
        "c93eef4bd2fb43efb6639c543ede8a75": {
          "model_module": "@jupyter-widgets/base",
          "model_name": "LayoutModel",
          "model_module_version": "1.2.0",
          "state": {
            "_model_module": "@jupyter-widgets/base",
            "_model_module_version": "1.2.0",
            "_model_name": "LayoutModel",
            "_view_count": null,
            "_view_module": "@jupyter-widgets/base",
            "_view_module_version": "1.2.0",
            "_view_name": "LayoutView",
            "align_content": null,
            "align_items": null,
            "align_self": null,
            "border": null,
            "bottom": null,
            "display": null,
            "flex": null,
            "flex_flow": null,
            "grid_area": null,
            "grid_auto_columns": null,
            "grid_auto_flow": null,
            "grid_auto_rows": null,
            "grid_column": null,
            "grid_gap": null,
            "grid_row": null,
            "grid_template_areas": null,
            "grid_template_columns": null,
            "grid_template_rows": null,
            "height": null,
            "justify_content": null,
            "justify_items": null,
            "left": null,
            "margin": null,
            "max_height": null,
            "max_width": null,
            "min_height": null,
            "min_width": null,
            "object_fit": null,
            "object_position": null,
            "order": null,
            "overflow": null,
            "overflow_x": null,
            "overflow_y": null,
            "padding": null,
            "right": null,
            "top": null,
            "visibility": null,
            "width": null
          }
        },
        "3c9414df8c454dbe9581e48ec3f06be8": {
          "model_module": "@jupyter-widgets/base",
          "model_name": "LayoutModel",
          "model_module_version": "1.2.0",
          "state": {
            "_model_module": "@jupyter-widgets/base",
            "_model_module_version": "1.2.0",
            "_model_name": "LayoutModel",
            "_view_count": null,
            "_view_module": "@jupyter-widgets/base",
            "_view_module_version": "1.2.0",
            "_view_name": "LayoutView",
            "align_content": null,
            "align_items": null,
            "align_self": null,
            "border": null,
            "bottom": null,
            "display": null,
            "flex": null,
            "flex_flow": null,
            "grid_area": null,
            "grid_auto_columns": null,
            "grid_auto_flow": null,
            "grid_auto_rows": null,
            "grid_column": null,
            "grid_gap": null,
            "grid_row": null,
            "grid_template_areas": null,
            "grid_template_columns": null,
            "grid_template_rows": null,
            "height": null,
            "justify_content": null,
            "justify_items": null,
            "left": null,
            "margin": null,
            "max_height": null,
            "max_width": null,
            "min_height": null,
            "min_width": null,
            "object_fit": null,
            "object_position": null,
            "order": null,
            "overflow": null,
            "overflow_x": null,
            "overflow_y": null,
            "padding": null,
            "right": null,
            "top": null,
            "visibility": null,
            "width": null
          }
        },
        "d69d7976657d440f82bec5abe0f1014c": {
          "model_module": "@jupyter-widgets/controls",
          "model_name": "DescriptionStyleModel",
          "model_module_version": "1.5.0",
          "state": {
            "_model_module": "@jupyter-widgets/controls",
            "_model_module_version": "1.5.0",
            "_model_name": "DescriptionStyleModel",
            "_view_count": null,
            "_view_module": "@jupyter-widgets/base",
            "_view_module_version": "1.2.0",
            "_view_name": "StyleView",
            "description_width": ""
          }
        },
        "981ed53915f746088e89e60d389cb5f2": {
          "model_module": "@jupyter-widgets/base",
          "model_name": "LayoutModel",
          "model_module_version": "1.2.0",
          "state": {
            "_model_module": "@jupyter-widgets/base",
            "_model_module_version": "1.2.0",
            "_model_name": "LayoutModel",
            "_view_count": null,
            "_view_module": "@jupyter-widgets/base",
            "_view_module_version": "1.2.0",
            "_view_name": "LayoutView",
            "align_content": null,
            "align_items": null,
            "align_self": null,
            "border": null,
            "bottom": null,
            "display": null,
            "flex": null,
            "flex_flow": null,
            "grid_area": null,
            "grid_auto_columns": null,
            "grid_auto_flow": null,
            "grid_auto_rows": null,
            "grid_column": null,
            "grid_gap": null,
            "grid_row": null,
            "grid_template_areas": null,
            "grid_template_columns": null,
            "grid_template_rows": null,
            "height": null,
            "justify_content": null,
            "justify_items": null,
            "left": null,
            "margin": null,
            "max_height": null,
            "max_width": null,
            "min_height": null,
            "min_width": null,
            "object_fit": null,
            "object_position": null,
            "order": null,
            "overflow": null,
            "overflow_x": null,
            "overflow_y": null,
            "padding": null,
            "right": null,
            "top": null,
            "visibility": null,
            "width": null
          }
        },
        "6fb01f0fee1742cd825a448a4125f0e0": {
          "model_module": "@jupyter-widgets/controls",
          "model_name": "ProgressStyleModel",
          "model_module_version": "1.5.0",
          "state": {
            "_model_module": "@jupyter-widgets/controls",
            "_model_module_version": "1.5.0",
            "_model_name": "ProgressStyleModel",
            "_view_count": null,
            "_view_module": "@jupyter-widgets/base",
            "_view_module_version": "1.2.0",
            "_view_name": "StyleView",
            "bar_color": null,
            "description_width": ""
          }
        },
        "fbdb95bf18d548118cfb620989fb2b96": {
          "model_module": "@jupyter-widgets/base",
          "model_name": "LayoutModel",
          "model_module_version": "1.2.0",
          "state": {
            "_model_module": "@jupyter-widgets/base",
            "_model_module_version": "1.2.0",
            "_model_name": "LayoutModel",
            "_view_count": null,
            "_view_module": "@jupyter-widgets/base",
            "_view_module_version": "1.2.0",
            "_view_name": "LayoutView",
            "align_content": null,
            "align_items": null,
            "align_self": null,
            "border": null,
            "bottom": null,
            "display": null,
            "flex": null,
            "flex_flow": null,
            "grid_area": null,
            "grid_auto_columns": null,
            "grid_auto_flow": null,
            "grid_auto_rows": null,
            "grid_column": null,
            "grid_gap": null,
            "grid_row": null,
            "grid_template_areas": null,
            "grid_template_columns": null,
            "grid_template_rows": null,
            "height": null,
            "justify_content": null,
            "justify_items": null,
            "left": null,
            "margin": null,
            "max_height": null,
            "max_width": null,
            "min_height": null,
            "min_width": null,
            "object_fit": null,
            "object_position": null,
            "order": null,
            "overflow": null,
            "overflow_x": null,
            "overflow_y": null,
            "padding": null,
            "right": null,
            "top": null,
            "visibility": null,
            "width": null
          }
        },
        "cbca25cdedf84ceda6cb5427d114bcee": {
          "model_module": "@jupyter-widgets/controls",
          "model_name": "DescriptionStyleModel",
          "model_module_version": "1.5.0",
          "state": {
            "_model_module": "@jupyter-widgets/controls",
            "_model_module_version": "1.5.0",
            "_model_name": "DescriptionStyleModel",
            "_view_count": null,
            "_view_module": "@jupyter-widgets/base",
            "_view_module_version": "1.2.0",
            "_view_name": "StyleView",
            "description_width": ""
          }
        }
      }
    }
  },
  "nbformat": 4,
  "nbformat_minor": 0
}